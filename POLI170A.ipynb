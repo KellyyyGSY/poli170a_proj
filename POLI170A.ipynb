{
  "nbformat": 4,
  "nbformat_minor": 0,
  "metadata": {
    "colab": {
      "provenance": []
    },
    "kernelspec": {
      "name": "python3",
      "display_name": "Python 3"
    },
    "language_info": {
      "name": "python"
    }
  },
  "cells": [
    {
      "cell_type": "markdown",
      "source": [
        "#**POLI170A Project**"
      ],
      "metadata": {
        "id": "MrSavkFnHZp6"
      }
    },
    {
      "cell_type": "markdown",
      "source": [
        "Research question: Does increased availability of on-sale alcohol, specifically Type 41 (On-Sale Beer and Wine – Public) and Type 47 (On-Sale General – Eating), lead to higher rates of crime, such as assault or robbery, in communities in San Diego County?"
      ],
      "metadata": {
        "id": "HdpAP0_8Hq1N"
      }
    },
    {
      "cell_type": "markdown",
      "source": [
        "# Setup"
      ],
      "metadata": {
        "id": "gOB99OY0G_yD"
      }
    },
    {
      "cell_type": "code",
      "execution_count": 1,
      "metadata": {
        "id": "P-ubiHQHG6Iv",
        "colab": {
          "base_uri": "https://localhost:8080/"
        },
        "outputId": "35322e38-40f9-4d85-b44a-154451cf18c3"
      },
      "outputs": [
        {
          "output_type": "stream",
          "name": "stdout",
          "text": [
            "Drive already mounted at /content/drive; to attempt to forcibly remount, call drive.mount(\"/content/drive\", force_remount=True).\n"
          ]
        }
      ],
      "source": [
        "import pandas as pd\n",
        "import numpy as np\n",
        "\n",
        "import matplotlib.pyplot as plt\n",
        "\n",
        "from google.colab import drive\n",
        "drive.mount('/content/drive')"
      ]
    },
    {
      "cell_type": "code",
      "source": [
        "zipcode_df = pd.read_csv(\"/content/drive/MyDrive/zipcode.csv\", header = None)\n",
        "zipcode_arr = zipcode_df[0].values"
      ],
      "metadata": {
        "id": "sm3b-yPsSk_V"
      },
      "execution_count": 2,
      "outputs": []
    },
    {
      "cell_type": "markdown",
      "source": [
        "# Alcohol Dataset"
      ],
      "metadata": {
        "id": "5EWNjvJsJWyx"
      }
    },
    {
      "cell_type": "markdown",
      "source": [
        "Records of alcohol licenses in california, from the CA ABC daily file, with improvements to geographic identifiers, and acompilation of areal densities of on-sale and off-sale licenses in San Diego county.\n",
        "\n",
        "* ca_abc_licenses. California Alcohol Beverage Control License records\n",
        "* sd_abc_density. Areal density of on-sale and off-sale licenses in San Diego county"
      ],
      "metadata": {
        "id": "nWiAmMR-P-C8"
      }
    },
    {
      "cell_type": "code",
      "source": [
        "# most update dataset from website\n",
        "ca_licenses =  pd.read_csv(\"/content/drive/MyDrive/ABC_WeeklyDataExport.csv\", skiprows=1)"
      ],
      "metadata": {
        "colab": {
          "base_uri": "https://localhost:8080/"
        },
        "id": "Nn17BM0Qback",
        "outputId": "769346c2-b0cd-48de-bdbb-6891410131ba"
      },
      "execution_count": 3,
      "outputs": [
        {
          "output_type": "stream",
          "name": "stderr",
          "text": [
            "<ipython-input-3-f3aa1848c483>:2: DtypeWarning: Columns (10,11) have mixed types. Specify dtype option on import or set low_memory=False.\n",
            "  ca_licenses =  pd.read_csv(\"/content/drive/MyDrive/ABC_WeeklyDataExport.csv\", skiprows=1)\n"
          ]
        }
      ]
    },
    {
      "cell_type": "code",
      "source": [
        "sd_abc_density_df =  pd.read_csv('http://library.metatab.org/abc.ca.gov-licenses-2.1.2/data/sd_abc_density.csv')"
      ],
      "metadata": {
        "id": "vqKU3gzwHX5d"
      },
      "execution_count": 4,
      "outputs": []
    },
    {
      "cell_type": "markdown",
      "source": [
        "Briefly browse dataset"
      ],
      "metadata": {
        "id": "WBui3K2ObxUt"
      }
    },
    {
      "cell_type": "code",
      "source": [
        "ca_licenses.head(3)"
      ],
      "metadata": {
        "colab": {
          "base_uri": "https://localhost:8080/",
          "height": 349
        },
        "id": "HrWS0dnyKIhC",
        "outputId": "4010cdf6-c5b4-4615-a617-ef1f360b6c25"
      },
      "execution_count": 5,
      "outputs": [
        {
          "output_type": "execute_result",
          "data": {
            "text/plain": [
              "   License Type  File Number Lic or App Type Status Type Orig Iss Date  \\\n",
              "0            77       561256        LIC      ACTIVE        01-DEC-2015   \n",
              "1            48       526584        LIC      ACTIVE        08-JAN-2013   \n",
              "2            77       518989        LIC      ACTIVE        21-JUN-2012   \n",
              "\n",
              "    Expir Date Fee Codes Dup Counts Master Ind  Term in # of Months  ...  \\\n",
              "0  30-NOV-2024       P40        001          N                   12  ...   \n",
              "1  31-DEC-2024       P40        001          N                   12  ...   \n",
              "2  31-MAY-2024       P40        001          N                   12  ...   \n",
              "\n",
              "   Prem State    Prem Zip         DBA Name  Mail Addr 1 Mail Addr 2  \\\n",
              "0          CA  91762-3644   FIREWATER BAR                             \n",
              "1          CA  94578-2815    CLUB CALIENTE  PO BOX 3541               \n",
              "2          CA  93001-2826  BARRELHOUSE 101                            \n",
              "\n",
              "     Mail City Mail State    Mail Zip     Prem County Prem Census Tract #  \n",
              "0                                      SAN BERNARDINO             0010.02  \n",
              "1  SAN LEANDRO         CA  94578-0541         ALAMEDA             4331.03  \n",
              "2                                             VENTURA             0024.00  \n",
              "\n",
              "[3 rows x 26 columns]"
            ],
            "text/html": [
              "\n",
              "  <div id=\"df-3c5321a5-d1ce-4c8f-abb2-fca352f4ad9c\" class=\"colab-df-container\">\n",
              "    <div>\n",
              "<style scoped>\n",
              "    .dataframe tbody tr th:only-of-type {\n",
              "        vertical-align: middle;\n",
              "    }\n",
              "\n",
              "    .dataframe tbody tr th {\n",
              "        vertical-align: top;\n",
              "    }\n",
              "\n",
              "    .dataframe thead th {\n",
              "        text-align: right;\n",
              "    }\n",
              "</style>\n",
              "<table border=\"1\" class=\"dataframe\">\n",
              "  <thead>\n",
              "    <tr style=\"text-align: right;\">\n",
              "      <th></th>\n",
              "      <th>License Type</th>\n",
              "      <th>File Number</th>\n",
              "      <th>Lic or App</th>\n",
              "      <th>Type Status</th>\n",
              "      <th>Type Orig Iss Date</th>\n",
              "      <th>Expir Date</th>\n",
              "      <th>Fee Codes</th>\n",
              "      <th>Dup Counts</th>\n",
              "      <th>Master Ind</th>\n",
              "      <th>Term in # of Months</th>\n",
              "      <th>...</th>\n",
              "      <th>Prem State</th>\n",
              "      <th>Prem Zip</th>\n",
              "      <th>DBA Name</th>\n",
              "      <th>Mail Addr 1</th>\n",
              "      <th>Mail Addr 2</th>\n",
              "      <th>Mail City</th>\n",
              "      <th>Mail State</th>\n",
              "      <th>Mail Zip</th>\n",
              "      <th>Prem County</th>\n",
              "      <th>Prem Census Tract #</th>\n",
              "    </tr>\n",
              "  </thead>\n",
              "  <tbody>\n",
              "    <tr>\n",
              "      <th>0</th>\n",
              "      <td>77</td>\n",
              "      <td>561256</td>\n",
              "      <td>LIC</td>\n",
              "      <td>ACTIVE</td>\n",
              "      <td>01-DEC-2015</td>\n",
              "      <td>30-NOV-2024</td>\n",
              "      <td>P40</td>\n",
              "      <td>001</td>\n",
              "      <td>N</td>\n",
              "      <td>12</td>\n",
              "      <td>...</td>\n",
              "      <td>CA</td>\n",
              "      <td>91762-3644</td>\n",
              "      <td>FIREWATER BAR</td>\n",
              "      <td></td>\n",
              "      <td></td>\n",
              "      <td></td>\n",
              "      <td></td>\n",
              "      <td></td>\n",
              "      <td>SAN BERNARDINO</td>\n",
              "      <td>0010.02</td>\n",
              "    </tr>\n",
              "    <tr>\n",
              "      <th>1</th>\n",
              "      <td>48</td>\n",
              "      <td>526584</td>\n",
              "      <td>LIC</td>\n",
              "      <td>ACTIVE</td>\n",
              "      <td>08-JAN-2013</td>\n",
              "      <td>31-DEC-2024</td>\n",
              "      <td>P40</td>\n",
              "      <td>001</td>\n",
              "      <td>N</td>\n",
              "      <td>12</td>\n",
              "      <td>...</td>\n",
              "      <td>CA</td>\n",
              "      <td>94578-2815</td>\n",
              "      <td>CLUB CALIENTE</td>\n",
              "      <td>PO BOX 3541</td>\n",
              "      <td></td>\n",
              "      <td>SAN LEANDRO</td>\n",
              "      <td>CA</td>\n",
              "      <td>94578-0541</td>\n",
              "      <td>ALAMEDA</td>\n",
              "      <td>4331.03</td>\n",
              "    </tr>\n",
              "    <tr>\n",
              "      <th>2</th>\n",
              "      <td>77</td>\n",
              "      <td>518989</td>\n",
              "      <td>LIC</td>\n",
              "      <td>ACTIVE</td>\n",
              "      <td>21-JUN-2012</td>\n",
              "      <td>31-MAY-2024</td>\n",
              "      <td>P40</td>\n",
              "      <td>001</td>\n",
              "      <td>N</td>\n",
              "      <td>12</td>\n",
              "      <td>...</td>\n",
              "      <td>CA</td>\n",
              "      <td>93001-2826</td>\n",
              "      <td>BARRELHOUSE 101</td>\n",
              "      <td></td>\n",
              "      <td></td>\n",
              "      <td></td>\n",
              "      <td></td>\n",
              "      <td></td>\n",
              "      <td>VENTURA</td>\n",
              "      <td>0024.00</td>\n",
              "    </tr>\n",
              "  </tbody>\n",
              "</table>\n",
              "<p>3 rows × 26 columns</p>\n",
              "</div>\n",
              "    <div class=\"colab-df-buttons\">\n",
              "\n",
              "  <div class=\"colab-df-container\">\n",
              "    <button class=\"colab-df-convert\" onclick=\"convertToInteractive('df-3c5321a5-d1ce-4c8f-abb2-fca352f4ad9c')\"\n",
              "            title=\"Convert this dataframe to an interactive table.\"\n",
              "            style=\"display:none;\">\n",
              "\n",
              "  <svg xmlns=\"http://www.w3.org/2000/svg\" height=\"24px\" viewBox=\"0 -960 960 960\">\n",
              "    <path d=\"M120-120v-720h720v720H120Zm60-500h600v-160H180v160Zm220 220h160v-160H400v160Zm0 220h160v-160H400v160ZM180-400h160v-160H180v160Zm440 0h160v-160H620v160ZM180-180h160v-160H180v160Zm440 0h160v-160H620v160Z\"/>\n",
              "  </svg>\n",
              "    </button>\n",
              "\n",
              "  <style>\n",
              "    .colab-df-container {\n",
              "      display:flex;\n",
              "      gap: 12px;\n",
              "    }\n",
              "\n",
              "    .colab-df-convert {\n",
              "      background-color: #E8F0FE;\n",
              "      border: none;\n",
              "      border-radius: 50%;\n",
              "      cursor: pointer;\n",
              "      display: none;\n",
              "      fill: #1967D2;\n",
              "      height: 32px;\n",
              "      padding: 0 0 0 0;\n",
              "      width: 32px;\n",
              "    }\n",
              "\n",
              "    .colab-df-convert:hover {\n",
              "      background-color: #E2EBFA;\n",
              "      box-shadow: 0px 1px 2px rgba(60, 64, 67, 0.3), 0px 1px 3px 1px rgba(60, 64, 67, 0.15);\n",
              "      fill: #174EA6;\n",
              "    }\n",
              "\n",
              "    .colab-df-buttons div {\n",
              "      margin-bottom: 4px;\n",
              "    }\n",
              "\n",
              "    [theme=dark] .colab-df-convert {\n",
              "      background-color: #3B4455;\n",
              "      fill: #D2E3FC;\n",
              "    }\n",
              "\n",
              "    [theme=dark] .colab-df-convert:hover {\n",
              "      background-color: #434B5C;\n",
              "      box-shadow: 0px 1px 3px 1px rgba(0, 0, 0, 0.15);\n",
              "      filter: drop-shadow(0px 1px 2px rgba(0, 0, 0, 0.3));\n",
              "      fill: #FFFFFF;\n",
              "    }\n",
              "  </style>\n",
              "\n",
              "    <script>\n",
              "      const buttonEl =\n",
              "        document.querySelector('#df-3c5321a5-d1ce-4c8f-abb2-fca352f4ad9c button.colab-df-convert');\n",
              "      buttonEl.style.display =\n",
              "        google.colab.kernel.accessAllowed ? 'block' : 'none';\n",
              "\n",
              "      async function convertToInteractive(key) {\n",
              "        const element = document.querySelector('#df-3c5321a5-d1ce-4c8f-abb2-fca352f4ad9c');\n",
              "        const dataTable =\n",
              "          await google.colab.kernel.invokeFunction('convertToInteractive',\n",
              "                                                    [key], {});\n",
              "        if (!dataTable) return;\n",
              "\n",
              "        const docLinkHtml = 'Like what you see? Visit the ' +\n",
              "          '<a target=\"_blank\" href=https://colab.research.google.com/notebooks/data_table.ipynb>data table notebook</a>'\n",
              "          + ' to learn more about interactive tables.';\n",
              "        element.innerHTML = '';\n",
              "        dataTable['output_type'] = 'display_data';\n",
              "        await google.colab.output.renderOutput(dataTable, element);\n",
              "        const docLink = document.createElement('div');\n",
              "        docLink.innerHTML = docLinkHtml;\n",
              "        element.appendChild(docLink);\n",
              "      }\n",
              "    </script>\n",
              "  </div>\n",
              "\n",
              "\n",
              "<div id=\"df-222420db-b2fb-4b26-afb9-f032ba5436f4\">\n",
              "  <button class=\"colab-df-quickchart\" onclick=\"quickchart('df-222420db-b2fb-4b26-afb9-f032ba5436f4')\"\n",
              "            title=\"Suggest charts\"\n",
              "            style=\"display:none;\">\n",
              "\n",
              "<svg xmlns=\"http://www.w3.org/2000/svg\" height=\"24px\"viewBox=\"0 0 24 24\"\n",
              "     width=\"24px\">\n",
              "    <g>\n",
              "        <path d=\"M19 3H5c-1.1 0-2 .9-2 2v14c0 1.1.9 2 2 2h14c1.1 0 2-.9 2-2V5c0-1.1-.9-2-2-2zM9 17H7v-7h2v7zm4 0h-2V7h2v10zm4 0h-2v-4h2v4z\"/>\n",
              "    </g>\n",
              "</svg>\n",
              "  </button>\n",
              "\n",
              "<style>\n",
              "  .colab-df-quickchart {\n",
              "      --bg-color: #E8F0FE;\n",
              "      --fill-color: #1967D2;\n",
              "      --hover-bg-color: #E2EBFA;\n",
              "      --hover-fill-color: #174EA6;\n",
              "      --disabled-fill-color: #AAA;\n",
              "      --disabled-bg-color: #DDD;\n",
              "  }\n",
              "\n",
              "  [theme=dark] .colab-df-quickchart {\n",
              "      --bg-color: #3B4455;\n",
              "      --fill-color: #D2E3FC;\n",
              "      --hover-bg-color: #434B5C;\n",
              "      --hover-fill-color: #FFFFFF;\n",
              "      --disabled-bg-color: #3B4455;\n",
              "      --disabled-fill-color: #666;\n",
              "  }\n",
              "\n",
              "  .colab-df-quickchart {\n",
              "    background-color: var(--bg-color);\n",
              "    border: none;\n",
              "    border-radius: 50%;\n",
              "    cursor: pointer;\n",
              "    display: none;\n",
              "    fill: var(--fill-color);\n",
              "    height: 32px;\n",
              "    padding: 0;\n",
              "    width: 32px;\n",
              "  }\n",
              "\n",
              "  .colab-df-quickchart:hover {\n",
              "    background-color: var(--hover-bg-color);\n",
              "    box-shadow: 0 1px 2px rgba(60, 64, 67, 0.3), 0 1px 3px 1px rgba(60, 64, 67, 0.15);\n",
              "    fill: var(--button-hover-fill-color);\n",
              "  }\n",
              "\n",
              "  .colab-df-quickchart-complete:disabled,\n",
              "  .colab-df-quickchart-complete:disabled:hover {\n",
              "    background-color: var(--disabled-bg-color);\n",
              "    fill: var(--disabled-fill-color);\n",
              "    box-shadow: none;\n",
              "  }\n",
              "\n",
              "  .colab-df-spinner {\n",
              "    border: 2px solid var(--fill-color);\n",
              "    border-color: transparent;\n",
              "    border-bottom-color: var(--fill-color);\n",
              "    animation:\n",
              "      spin 1s steps(1) infinite;\n",
              "  }\n",
              "\n",
              "  @keyframes spin {\n",
              "    0% {\n",
              "      border-color: transparent;\n",
              "      border-bottom-color: var(--fill-color);\n",
              "      border-left-color: var(--fill-color);\n",
              "    }\n",
              "    20% {\n",
              "      border-color: transparent;\n",
              "      border-left-color: var(--fill-color);\n",
              "      border-top-color: var(--fill-color);\n",
              "    }\n",
              "    30% {\n",
              "      border-color: transparent;\n",
              "      border-left-color: var(--fill-color);\n",
              "      border-top-color: var(--fill-color);\n",
              "      border-right-color: var(--fill-color);\n",
              "    }\n",
              "    40% {\n",
              "      border-color: transparent;\n",
              "      border-right-color: var(--fill-color);\n",
              "      border-top-color: var(--fill-color);\n",
              "    }\n",
              "    60% {\n",
              "      border-color: transparent;\n",
              "      border-right-color: var(--fill-color);\n",
              "    }\n",
              "    80% {\n",
              "      border-color: transparent;\n",
              "      border-right-color: var(--fill-color);\n",
              "      border-bottom-color: var(--fill-color);\n",
              "    }\n",
              "    90% {\n",
              "      border-color: transparent;\n",
              "      border-bottom-color: var(--fill-color);\n",
              "    }\n",
              "  }\n",
              "</style>\n",
              "\n",
              "  <script>\n",
              "    async function quickchart(key) {\n",
              "      const quickchartButtonEl =\n",
              "        document.querySelector('#' + key + ' button');\n",
              "      quickchartButtonEl.disabled = true;  // To prevent multiple clicks.\n",
              "      quickchartButtonEl.classList.add('colab-df-spinner');\n",
              "      try {\n",
              "        const charts = await google.colab.kernel.invokeFunction(\n",
              "            'suggestCharts', [key], {});\n",
              "      } catch (error) {\n",
              "        console.error('Error during call to suggestCharts:', error);\n",
              "      }\n",
              "      quickchartButtonEl.classList.remove('colab-df-spinner');\n",
              "      quickchartButtonEl.classList.add('colab-df-quickchart-complete');\n",
              "    }\n",
              "    (() => {\n",
              "      let quickchartButtonEl =\n",
              "        document.querySelector('#df-222420db-b2fb-4b26-afb9-f032ba5436f4 button');\n",
              "      quickchartButtonEl.style.display =\n",
              "        google.colab.kernel.accessAllowed ? 'block' : 'none';\n",
              "    })();\n",
              "  </script>\n",
              "</div>\n",
              "    </div>\n",
              "  </div>\n"
            ],
            "application/vnd.google.colaboratory.intrinsic+json": {
              "type": "dataframe",
              "variable_name": "ca_licenses"
            }
          },
          "metadata": {},
          "execution_count": 5
        }
      ]
    },
    {
      "cell_type": "code",
      "source": [
        "ca_licenses.columns"
      ],
      "metadata": {
        "colab": {
          "base_uri": "https://localhost:8080/"
        },
        "id": "AEEiNEEyb1iH",
        "outputId": "ca88e571-05f3-40fe-8054-eafa7ef6699c"
      },
      "execution_count": 6,
      "outputs": [
        {
          "output_type": "execute_result",
          "data": {
            "text/plain": [
              "Index(['License Type', 'File Number', 'Lic or App', 'Type Status',\n",
              "       'Type Orig Iss Date', 'Expir Date', 'Fee Codes', 'Dup Counts',\n",
              "       'Master Ind', 'Term in # of Months', 'Geo Code', 'District',\n",
              "       'Primary Name', 'Prem Addr 1', ' Prem Addr 2', 'Prem City',\n",
              "       ' Prem State', 'Prem Zip', 'DBA Name', 'Mail Addr 1', 'Mail Addr 2',\n",
              "       'Mail City', 'Mail State', 'Mail Zip', 'Prem County',\n",
              "       'Prem Census Tract #'],\n",
              "      dtype='object')"
            ]
          },
          "metadata": {},
          "execution_count": 6
        }
      ]
    },
    {
      "cell_type": "markdown",
      "source": [
        "## Data Cleaning"
      ],
      "metadata": {
        "id": "RelvHY7GgrND"
      }
    },
    {
      "cell_type": "markdown",
      "source": [
        "1. dealing with license issue date, expire date"
      ],
      "metadata": {
        "id": "Ty_wt_lrghN9"
      }
    },
    {
      "cell_type": "code",
      "source": [
        "# drop rows with NaN values in 'Type Orig Iss Date' and 'Expir Date'\n",
        "ca_licenses['Type Orig Iss Date'].replace(['', ' '], np.nan, inplace=True)\n",
        "ca_licenses['Expir Date'].replace(['', ' '], np.nan, inplace=True)\n",
        "ca_licenses.dropna(subset=['Type Orig Iss Date', 'Expir Date'], inplace=True)\n",
        "\n",
        "# convert to datatime\n",
        "ca_licenses['Type Orig Iss Date'] = pd.to_datetime(ca_licenses['Type Orig Iss Date'], format='%d-%b-%Y')\n",
        "ca_licenses['Expir Date'] = pd.to_datetime(ca_licenses['Expir Date'], format='%d-%b-%Y')"
      ],
      "metadata": {
        "id": "mLp_BnsSb1ki"
      },
      "execution_count": 7,
      "outputs": []
    },
    {
      "cell_type": "markdown",
      "source": [
        "2. transform all zipcode into 5-digits format"
      ],
      "metadata": {
        "id": "eQ539sJ_0pDC"
      }
    },
    {
      "cell_type": "code",
      "source": [
        "ca_licenses['Prem Zip'] = ca_licenses['Prem Zip'].str.slice(0, 5)"
      ],
      "metadata": {
        "id": "k9uoDztC0smL"
      },
      "execution_count": 8,
      "outputs": []
    },
    {
      "cell_type": "markdown",
      "source": [
        "3. filter the dataframe based on the following conditions:\n",
        "  * Is an active License (Lic) not an Application (App) that is still being processed\n",
        "  * issue date before 2016-01-01\n",
        "  * expire date after 2020-07-31\n",
        "  * license is active\n",
        "  * license type is 41, 47, or **48**?\n",
        "  (41; On-Sale Beer and Wine – Public, 47: On-Sale General – Eating, 48: On-Sale General — Public ( Bars and Nightclubs ))\n",
        "  * license is used within San Diego"
      ],
      "metadata": {
        "id": "Gim6OxnahJ6p"
      }
    },
    {
      "cell_type": "code",
      "source": [
        "df_alcohol = ca_licenses[\n",
        "    (ca_licenses['Lic or App'] == 'LIC') &\n",
        "    (ca_licenses['Type Orig Iss Date'] < '2016-01-01') &\n",
        "    (ca_licenses['Expir Date'] > '2020-07-31') &\n",
        "    (ca_licenses['Type Status'] == 'ACTIVE') &\n",
        "    ((ca_licenses['License Type'] == 47) | (ca_licenses['License Type'] == 41)) &\n",
        "    (ca_licenses['Prem County'] == \"SAN DIEGO\")\n",
        "].reset_index(drop = True)"
      ],
      "metadata": {
        "id": "2InuKGDEb1nX"
      },
      "execution_count": 9,
      "outputs": []
    },
    {
      "cell_type": "markdown",
      "source": [
        "4. select important features <br>\n",
        "**undecided keep which**"
      ],
      "metadata": {
        "id": "qP4vMOtMj5DG"
      }
    },
    {
      "cell_type": "code",
      "source": [
        "sub_alcohol = df_alcohol[['Type Orig Iss Date', 'Expir Date', 'DBA Name', 'Prem Addr 1', 'Prem City', 'Prem Zip']]\n",
        "sub_alcohol.head(5)"
      ],
      "metadata": {
        "colab": {
          "base_uri": "https://localhost:8080/",
          "height": 206
        },
        "id": "TA4vvJdHkPOi",
        "outputId": "b7e88278-99ea-4ade-904f-a493d86087d8"
      },
      "execution_count": 10,
      "outputs": [
        {
          "output_type": "execute_result",
          "data": {
            "text/plain": [
              "  Type Orig Iss Date Expir Date                          DBA Name  \\\n",
              "0         2013-01-16 2024-12-31                  LAUBERGE DEL MAR   \n",
              "1         1993-12-31 2024-11-30            CATAMARAN RESORT HOTEL   \n",
              "2         2012-01-12 2024-12-31  MANCHESTER GRAND HYATT SAN DIEGO   \n",
              "3         2012-01-19 2024-12-31                       BARLEY MASH   \n",
              "4         2012-11-30 2024-12-31                         BEAUDEVIN   \n",
              "\n",
              "           Prem Addr 1  Prem City Prem Zip  \n",
              "0  1540 CAMINO DEL MAR    DEL MAR    92014  \n",
              "1    3999 MISSION BLVD  SAN DIEGO    92109  \n",
              "2     ONE MARKET PLACE  SAN DIEGO    92101  \n",
              "3          600 5TH AVE  SAN DIEGO    92101  \n",
              "4     3707 N HARBOR DR  SAN DIEGO    92101  "
            ],
            "text/html": [
              "\n",
              "  <div id=\"df-a4aff038-23eb-45c4-962a-00aa918a3000\" class=\"colab-df-container\">\n",
              "    <div>\n",
              "<style scoped>\n",
              "    .dataframe tbody tr th:only-of-type {\n",
              "        vertical-align: middle;\n",
              "    }\n",
              "\n",
              "    .dataframe tbody tr th {\n",
              "        vertical-align: top;\n",
              "    }\n",
              "\n",
              "    .dataframe thead th {\n",
              "        text-align: right;\n",
              "    }\n",
              "</style>\n",
              "<table border=\"1\" class=\"dataframe\">\n",
              "  <thead>\n",
              "    <tr style=\"text-align: right;\">\n",
              "      <th></th>\n",
              "      <th>Type Orig Iss Date</th>\n",
              "      <th>Expir Date</th>\n",
              "      <th>DBA Name</th>\n",
              "      <th>Prem Addr 1</th>\n",
              "      <th>Prem City</th>\n",
              "      <th>Prem Zip</th>\n",
              "    </tr>\n",
              "  </thead>\n",
              "  <tbody>\n",
              "    <tr>\n",
              "      <th>0</th>\n",
              "      <td>2013-01-16</td>\n",
              "      <td>2024-12-31</td>\n",
              "      <td>LAUBERGE DEL MAR</td>\n",
              "      <td>1540 CAMINO DEL MAR</td>\n",
              "      <td>DEL MAR</td>\n",
              "      <td>92014</td>\n",
              "    </tr>\n",
              "    <tr>\n",
              "      <th>1</th>\n",
              "      <td>1993-12-31</td>\n",
              "      <td>2024-11-30</td>\n",
              "      <td>CATAMARAN RESORT HOTEL</td>\n",
              "      <td>3999 MISSION BLVD</td>\n",
              "      <td>SAN DIEGO</td>\n",
              "      <td>92109</td>\n",
              "    </tr>\n",
              "    <tr>\n",
              "      <th>2</th>\n",
              "      <td>2012-01-12</td>\n",
              "      <td>2024-12-31</td>\n",
              "      <td>MANCHESTER GRAND HYATT SAN DIEGO</td>\n",
              "      <td>ONE MARKET PLACE</td>\n",
              "      <td>SAN DIEGO</td>\n",
              "      <td>92101</td>\n",
              "    </tr>\n",
              "    <tr>\n",
              "      <th>3</th>\n",
              "      <td>2012-01-19</td>\n",
              "      <td>2024-12-31</td>\n",
              "      <td>BARLEY MASH</td>\n",
              "      <td>600 5TH AVE</td>\n",
              "      <td>SAN DIEGO</td>\n",
              "      <td>92101</td>\n",
              "    </tr>\n",
              "    <tr>\n",
              "      <th>4</th>\n",
              "      <td>2012-11-30</td>\n",
              "      <td>2024-12-31</td>\n",
              "      <td>BEAUDEVIN</td>\n",
              "      <td>3707 N HARBOR DR</td>\n",
              "      <td>SAN DIEGO</td>\n",
              "      <td>92101</td>\n",
              "    </tr>\n",
              "  </tbody>\n",
              "</table>\n",
              "</div>\n",
              "    <div class=\"colab-df-buttons\">\n",
              "\n",
              "  <div class=\"colab-df-container\">\n",
              "    <button class=\"colab-df-convert\" onclick=\"convertToInteractive('df-a4aff038-23eb-45c4-962a-00aa918a3000')\"\n",
              "            title=\"Convert this dataframe to an interactive table.\"\n",
              "            style=\"display:none;\">\n",
              "\n",
              "  <svg xmlns=\"http://www.w3.org/2000/svg\" height=\"24px\" viewBox=\"0 -960 960 960\">\n",
              "    <path d=\"M120-120v-720h720v720H120Zm60-500h600v-160H180v160Zm220 220h160v-160H400v160Zm0 220h160v-160H400v160ZM180-400h160v-160H180v160Zm440 0h160v-160H620v160ZM180-180h160v-160H180v160Zm440 0h160v-160H620v160Z\"/>\n",
              "  </svg>\n",
              "    </button>\n",
              "\n",
              "  <style>\n",
              "    .colab-df-container {\n",
              "      display:flex;\n",
              "      gap: 12px;\n",
              "    }\n",
              "\n",
              "    .colab-df-convert {\n",
              "      background-color: #E8F0FE;\n",
              "      border: none;\n",
              "      border-radius: 50%;\n",
              "      cursor: pointer;\n",
              "      display: none;\n",
              "      fill: #1967D2;\n",
              "      height: 32px;\n",
              "      padding: 0 0 0 0;\n",
              "      width: 32px;\n",
              "    }\n",
              "\n",
              "    .colab-df-convert:hover {\n",
              "      background-color: #E2EBFA;\n",
              "      box-shadow: 0px 1px 2px rgba(60, 64, 67, 0.3), 0px 1px 3px 1px rgba(60, 64, 67, 0.15);\n",
              "      fill: #174EA6;\n",
              "    }\n",
              "\n",
              "    .colab-df-buttons div {\n",
              "      margin-bottom: 4px;\n",
              "    }\n",
              "\n",
              "    [theme=dark] .colab-df-convert {\n",
              "      background-color: #3B4455;\n",
              "      fill: #D2E3FC;\n",
              "    }\n",
              "\n",
              "    [theme=dark] .colab-df-convert:hover {\n",
              "      background-color: #434B5C;\n",
              "      box-shadow: 0px 1px 3px 1px rgba(0, 0, 0, 0.15);\n",
              "      filter: drop-shadow(0px 1px 2px rgba(0, 0, 0, 0.3));\n",
              "      fill: #FFFFFF;\n",
              "    }\n",
              "  </style>\n",
              "\n",
              "    <script>\n",
              "      const buttonEl =\n",
              "        document.querySelector('#df-a4aff038-23eb-45c4-962a-00aa918a3000 button.colab-df-convert');\n",
              "      buttonEl.style.display =\n",
              "        google.colab.kernel.accessAllowed ? 'block' : 'none';\n",
              "\n",
              "      async function convertToInteractive(key) {\n",
              "        const element = document.querySelector('#df-a4aff038-23eb-45c4-962a-00aa918a3000');\n",
              "        const dataTable =\n",
              "          await google.colab.kernel.invokeFunction('convertToInteractive',\n",
              "                                                    [key], {});\n",
              "        if (!dataTable) return;\n",
              "\n",
              "        const docLinkHtml = 'Like what you see? Visit the ' +\n",
              "          '<a target=\"_blank\" href=https://colab.research.google.com/notebooks/data_table.ipynb>data table notebook</a>'\n",
              "          + ' to learn more about interactive tables.';\n",
              "        element.innerHTML = '';\n",
              "        dataTable['output_type'] = 'display_data';\n",
              "        await google.colab.output.renderOutput(dataTable, element);\n",
              "        const docLink = document.createElement('div');\n",
              "        docLink.innerHTML = docLinkHtml;\n",
              "        element.appendChild(docLink);\n",
              "      }\n",
              "    </script>\n",
              "  </div>\n",
              "\n",
              "\n",
              "<div id=\"df-01ef6101-2f94-400f-a394-255df9a96a01\">\n",
              "  <button class=\"colab-df-quickchart\" onclick=\"quickchart('df-01ef6101-2f94-400f-a394-255df9a96a01')\"\n",
              "            title=\"Suggest charts\"\n",
              "            style=\"display:none;\">\n",
              "\n",
              "<svg xmlns=\"http://www.w3.org/2000/svg\" height=\"24px\"viewBox=\"0 0 24 24\"\n",
              "     width=\"24px\">\n",
              "    <g>\n",
              "        <path d=\"M19 3H5c-1.1 0-2 .9-2 2v14c0 1.1.9 2 2 2h14c1.1 0 2-.9 2-2V5c0-1.1-.9-2-2-2zM9 17H7v-7h2v7zm4 0h-2V7h2v10zm4 0h-2v-4h2v4z\"/>\n",
              "    </g>\n",
              "</svg>\n",
              "  </button>\n",
              "\n",
              "<style>\n",
              "  .colab-df-quickchart {\n",
              "      --bg-color: #E8F0FE;\n",
              "      --fill-color: #1967D2;\n",
              "      --hover-bg-color: #E2EBFA;\n",
              "      --hover-fill-color: #174EA6;\n",
              "      --disabled-fill-color: #AAA;\n",
              "      --disabled-bg-color: #DDD;\n",
              "  }\n",
              "\n",
              "  [theme=dark] .colab-df-quickchart {\n",
              "      --bg-color: #3B4455;\n",
              "      --fill-color: #D2E3FC;\n",
              "      --hover-bg-color: #434B5C;\n",
              "      --hover-fill-color: #FFFFFF;\n",
              "      --disabled-bg-color: #3B4455;\n",
              "      --disabled-fill-color: #666;\n",
              "  }\n",
              "\n",
              "  .colab-df-quickchart {\n",
              "    background-color: var(--bg-color);\n",
              "    border: none;\n",
              "    border-radius: 50%;\n",
              "    cursor: pointer;\n",
              "    display: none;\n",
              "    fill: var(--fill-color);\n",
              "    height: 32px;\n",
              "    padding: 0;\n",
              "    width: 32px;\n",
              "  }\n",
              "\n",
              "  .colab-df-quickchart:hover {\n",
              "    background-color: var(--hover-bg-color);\n",
              "    box-shadow: 0 1px 2px rgba(60, 64, 67, 0.3), 0 1px 3px 1px rgba(60, 64, 67, 0.15);\n",
              "    fill: var(--button-hover-fill-color);\n",
              "  }\n",
              "\n",
              "  .colab-df-quickchart-complete:disabled,\n",
              "  .colab-df-quickchart-complete:disabled:hover {\n",
              "    background-color: var(--disabled-bg-color);\n",
              "    fill: var(--disabled-fill-color);\n",
              "    box-shadow: none;\n",
              "  }\n",
              "\n",
              "  .colab-df-spinner {\n",
              "    border: 2px solid var(--fill-color);\n",
              "    border-color: transparent;\n",
              "    border-bottom-color: var(--fill-color);\n",
              "    animation:\n",
              "      spin 1s steps(1) infinite;\n",
              "  }\n",
              "\n",
              "  @keyframes spin {\n",
              "    0% {\n",
              "      border-color: transparent;\n",
              "      border-bottom-color: var(--fill-color);\n",
              "      border-left-color: var(--fill-color);\n",
              "    }\n",
              "    20% {\n",
              "      border-color: transparent;\n",
              "      border-left-color: var(--fill-color);\n",
              "      border-top-color: var(--fill-color);\n",
              "    }\n",
              "    30% {\n",
              "      border-color: transparent;\n",
              "      border-left-color: var(--fill-color);\n",
              "      border-top-color: var(--fill-color);\n",
              "      border-right-color: var(--fill-color);\n",
              "    }\n",
              "    40% {\n",
              "      border-color: transparent;\n",
              "      border-right-color: var(--fill-color);\n",
              "      border-top-color: var(--fill-color);\n",
              "    }\n",
              "    60% {\n",
              "      border-color: transparent;\n",
              "      border-right-color: var(--fill-color);\n",
              "    }\n",
              "    80% {\n",
              "      border-color: transparent;\n",
              "      border-right-color: var(--fill-color);\n",
              "      border-bottom-color: var(--fill-color);\n",
              "    }\n",
              "    90% {\n",
              "      border-color: transparent;\n",
              "      border-bottom-color: var(--fill-color);\n",
              "    }\n",
              "  }\n",
              "</style>\n",
              "\n",
              "  <script>\n",
              "    async function quickchart(key) {\n",
              "      const quickchartButtonEl =\n",
              "        document.querySelector('#' + key + ' button');\n",
              "      quickchartButtonEl.disabled = true;  // To prevent multiple clicks.\n",
              "      quickchartButtonEl.classList.add('colab-df-spinner');\n",
              "      try {\n",
              "        const charts = await google.colab.kernel.invokeFunction(\n",
              "            'suggestCharts', [key], {});\n",
              "      } catch (error) {\n",
              "        console.error('Error during call to suggestCharts:', error);\n",
              "      }\n",
              "      quickchartButtonEl.classList.remove('colab-df-spinner');\n",
              "      quickchartButtonEl.classList.add('colab-df-quickchart-complete');\n",
              "    }\n",
              "    (() => {\n",
              "      let quickchartButtonEl =\n",
              "        document.querySelector('#df-01ef6101-2f94-400f-a394-255df9a96a01 button');\n",
              "      quickchartButtonEl.style.display =\n",
              "        google.colab.kernel.accessAllowed ? 'block' : 'none';\n",
              "    })();\n",
              "  </script>\n",
              "</div>\n",
              "    </div>\n",
              "  </div>\n"
            ],
            "application/vnd.google.colaboratory.intrinsic+json": {
              "type": "dataframe",
              "variable_name": "sub_alcohol",
              "summary": "{\n  \"name\": \"sub_alcohol\",\n  \"rows\": 1500,\n  \"fields\": [\n    {\n      \"column\": \"Type Orig Iss Date\",\n      \"properties\": {\n        \"dtype\": \"date\",\n        \"min\": \"1952-09-12 00:00:00\",\n        \"max\": \"2015-12-29 00:00:00\",\n        \"num_unique_values\": 1124,\n        \"samples\": [\n          \"2011-06-24 00:00:00\",\n          \"2014-10-08 00:00:00\",\n          \"2004-11-04 00:00:00\"\n        ],\n        \"semantic_type\": \"\",\n        \"description\": \"\"\n      }\n    },\n    {\n      \"column\": \"Expir Date\",\n      \"properties\": {\n        \"dtype\": \"date\",\n        \"min\": \"2024-03-31 00:00:00\",\n        \"max\": \"2025-06-30 00:00:00\",\n        \"num_unique_values\": 16,\n        \"samples\": [\n          \"2024-12-31 00:00:00\",\n          \"2024-11-30 00:00:00\",\n          \"2024-09-30 00:00:00\"\n        ],\n        \"semantic_type\": \"\",\n        \"description\": \"\"\n      }\n    },\n    {\n      \"column\": \"DBA Name\",\n      \"properties\": {\n        \"dtype\": \"string\",\n        \"num_unique_values\": 1230,\n        \"samples\": [\n          \"BLACK ANGUS\",\n          \"COURTYARD BY MARRIOTT\",\n          \"HANAYA SUSHI CAFE\"\n        ],\n        \"semantic_type\": \"\",\n        \"description\": \"\"\n      }\n    },\n    {\n      \"column\": \"Prem Addr 1\",\n      \"properties\": {\n        \"dtype\": \"string\",\n        \"num_unique_values\": 1297,\n        \"samples\": [\n          \"8250 MIRA MESA BLVD\",\n          \"1250 PROSPECT ST\",\n          \"5080 BONITA RD\"\n        ],\n        \"semantic_type\": \"\",\n        \"description\": \"\"\n      }\n    },\n    {\n      \"column\": \"Prem City\",\n      \"properties\": {\n        \"dtype\": \"category\",\n        \"num_unique_values\": 39,\n        \"samples\": [\n          \"CAMPO\",\n          \"DULZURA\",\n          \"RAMONA\"\n        ],\n        \"semantic_type\": \"\",\n        \"description\": \"\"\n      }\n    },\n    {\n      \"column\": \"Prem Zip\",\n      \"properties\": {\n        \"dtype\": \"category\",\n        \"num_unique_values\": 91,\n        \"samples\": [\n          \"92020\",\n          \"92117\",\n          \"92007\"\n        ],\n        \"semantic_type\": \"\",\n        \"description\": \"\"\n      }\n    }\n  ]\n}"
            }
          },
          "metadata": {},
          "execution_count": 10
        }
      ]
    },
    {
      "cell_type": "code",
      "source": [
        "sub_alcohol.shape"
      ],
      "metadata": {
        "colab": {
          "base_uri": "https://localhost:8080/"
        },
        "id": "gfcnKE8jl1mk",
        "outputId": "183ba5fc-acf5-404e-e012-57d5de8e44e4"
      },
      "execution_count": 11,
      "outputs": [
        {
          "output_type": "execute_result",
          "data": {
            "text/plain": [
              "(1500, 6)"
            ]
          },
          "metadata": {},
          "execution_count": 11
        }
      ]
    },
    {
      "cell_type": "markdown",
      "source": [
        "## EDA"
      ],
      "metadata": {
        "id": "7Nwm-PgOxYFs"
      }
    },
    {
      "cell_type": "markdown",
      "source": [
        "Count the number of licenses based on cities in San Diego"
      ],
      "metadata": {
        "id": "QfuOFEkirGwa"
      }
    },
    {
      "cell_type": "code",
      "source": [
        "sub_alcohol['Prem City'].unique()"
      ],
      "metadata": {
        "id": "C1ajewOLJuwo",
        "colab": {
          "base_uri": "https://localhost:8080/"
        },
        "outputId": "ae2ddce7-9009-49c2-d89e-6678d76f34a1"
      },
      "execution_count": 12,
      "outputs": [
        {
          "output_type": "execute_result",
          "data": {
            "text/plain": [
              "array(['DEL MAR', 'SAN DIEGO', 'LA MESA', 'ESCONDIDO', 'RAMONA', 'POWAY',\n",
              "       'CARLSBAD', 'LA JOLLA', 'ENCINITAS', 'SANTEE', 'OCEANSIDE',\n",
              "       'EL CAJON', 'SOLANA BEACH', 'SAN MARCOS', 'VISTA', 'PAUMA VALLEY',\n",
              "       'IMPERIAL BEACH', 'NATIONAL CITY', 'BONSALL', 'CORONADO',\n",
              "       'CHULA VISTA', 'LAKESIDE', 'BORREGO SPRINGS', 'JAMUL', 'FALLBROOK',\n",
              "       'PALA', 'PALOMAR MOUNTAIN', 'BONITA', 'ALPINE', 'SAN YSIDRO',\n",
              "       'CARDIFF BY THE SEA', 'SPRING VALLEY', 'VALLEY CENTER', 'CAMPO',\n",
              "       'LEMON GROVE', 'RANCHO SANTA FE', 'DULZURA', 'DESCANSO', 'JULIAN'],\n",
              "      dtype=object)"
            ]
          },
          "metadata": {},
          "execution_count": 12
        }
      ]
    },
    {
      "cell_type": "code",
      "source": [
        "nlicense = sub_alcohol.groupby('Prem City')['DBA Name'].count().sort_values(ascending = False)\n",
        "nlicense"
      ],
      "metadata": {
        "colab": {
          "base_uri": "https://localhost:8080/"
        },
        "id": "s-My-vPEdnh5",
        "outputId": "9464f7f8-31db-4b18-807a-323882cb290c"
      },
      "execution_count": 13,
      "outputs": [
        {
          "output_type": "execute_result",
          "data": {
            "text/plain": [
              "Prem City\n",
              "SAN DIEGO             769\n",
              "CHULA VISTA            70\n",
              "CARLSBAD               62\n",
              "OCEANSIDE              61\n",
              "LA JOLLA               59\n",
              "ESCONDIDO              55\n",
              "EL CAJON               42\n",
              "LA MESA                41\n",
              "SAN MARCOS             39\n",
              "ENCINITAS              38\n",
              "CORONADO               31\n",
              "VISTA                  29\n",
              "SOLANA BEACH           25\n",
              "SANTEE                 21\n",
              "NATIONAL CITY          18\n",
              "POWAY                  17\n",
              "DEL MAR                15\n",
              "RAMONA                 14\n",
              "FALLBROOK              14\n",
              "ALPINE                 10\n",
              "BORREGO SPRINGS         8\n",
              "LAKESIDE                8\n",
              "IMPERIAL BEACH          7\n",
              "BONITA                  6\n",
              "RANCHO SANTA FE         6\n",
              "VALLEY CENTER           6\n",
              "SPRING VALLEY           5\n",
              "BONSALL                 5\n",
              "LEMON GROVE             4\n",
              "PAUMA VALLEY            3\n",
              "PALA                    2\n",
              "CARDIFF BY THE SEA      2\n",
              "JAMUL                   2\n",
              "PALOMAR MOUNTAIN        1\n",
              "DESCANSO                1\n",
              "SAN YSIDRO              1\n",
              "CAMPO                   1\n",
              "JULIAN                  1\n",
              "DULZURA                 1\n",
              "Name: DBA Name, dtype: int64"
            ]
          },
          "metadata": {},
          "execution_count": 13
        }
      ]
    },
    {
      "cell_type": "code",
      "source": [
        "plt.figure(figsize=(10, 8))\n",
        "plt.barh(nlicense.index, nlicense.values, color='skyblue')\n",
        "plt.xlabel('Count of license')\n",
        "plt.ylabel('City')\n",
        "plt.title('Count of alcohol license by City')\n",
        "plt.xticks(rotation=90)\n",
        "plt.tight_layout()\n",
        "plt.show()"
      ],
      "metadata": {
        "colab": {
          "base_uri": "https://localhost:8080/",
          "height": 807
        },
        "id": "290QkXuHAE_f",
        "outputId": "b1834553-f29a-4344-b691-4ce7c7bd0bff"
      },
      "execution_count": 14,
      "outputs": [
        {
          "output_type": "display_data",
          "data": {
            "text/plain": [
              "<Figure size 1000x800 with 1 Axes>"
            ],
            "image/png": "[encoded data removed]"
          },
          "metadata": {}
        }
      ]
    },
    {
      "cell_type": "markdown",
      "source": [
        "# Crime Dataset"
      ],
      "metadata": {
        "id": "ZwyXNnZ2HJo3"
      }
    },
    {
      "cell_type": "markdown",
      "source": [
        "This dataset describes crime incidents from 2016 to 2020, with demographic information for the victims. The file has one row per incident. The dataset is derived from data acquired for a PRA request and is processed to standardize geographic identifiers and racial categories."
      ],
      "metadata": {
        "id": "i4HpXji0sliu"
      }
    },
    {
      "cell_type": "code",
      "source": [
        "crime_df =  pd.read_csv('http://library.metatab.org/arjis.org-crime_victims-pra-1.1.1/data/sdcrime_16_20_uniquecase.csv')\n",
        "ucrcodes_df = pd.read_csv('http://library.metatab.org/arjis.org-crime_victims-pra-1.1.1/data/ucrcodes.csv')"
      ],
      "metadata": {
        "id": "CDQKkTJHG-mM"
      },
      "execution_count": 15,
      "outputs": []
    },
    {
      "cell_type": "markdown",
      "source": [
        "Briefly browse dataset"
      ],
      "metadata": {
        "id": "rreTw1xyvAdm"
      }
    },
    {
      "cell_type": "code",
      "source": [
        "crime_df.head(3)"
      ],
      "metadata": {
        "colab": {
          "base_uri": "https://localhost:8080/",
          "height": 250
        },
        "id": "SzHtgozhonQr",
        "outputId": "9dbac8f1-1c52-4565-d879-253cd60752fb"
      },
      "execution_count": 16,
      "outputs": [
        {
          "output_type": "execute_result",
          "data": {
            "text/plain": [
              "  activitynumber         activitydate  year         agency violationsection  \\\n",
              "0     '01600014'  2016-01-01 00:00:00  2016  NATIONAL CITY            10851   \n",
              "1     '16000042'  2016-01-01 00:00:00  2016      SAN DIEGO              459   \n",
              "2     '16005661'  2016-01-01 00:00:00  2016      SAN DIEGO              488   \n",
              "\n",
              "  violationtype                               chargedescription  chargelevel  \\\n",
              "0            VC  TAKE VEHICLE W/O OWNER'S CONSENT/VEHICLE THEFT       FELONY   \n",
              "1            PC                            BURGLARY/UNSPECIFIED       FELONY   \n",
              "2            PC                                     PETTY THEFT  MISDEMEANOR   \n",
              "\n",
              "  codeucr     crimecategory      personrole      race   age     sex  zipcode  \\\n",
              "0     7A0     Vehicle Theft          VICTIM     OTHER   NaN  FEMALE  91950.0   \n",
              "1     5A6  Non Res Burglary             NaN       NaN   NaN     NaN  92109.0   \n",
              "2     6DG    Larceny < $400  VICTIM/WITNESS  HISPANIC  74.0    MALE  92115.0   \n",
              "\n",
              "  censusblock censustract           city         city.1  \n",
              "0     '02000'    '022000'  NATIONAL CITY  NATIONAL CITY  \n",
              "1     '20000'    '007907'      SAN DIEGO      SAN DIEGO  \n",
              "2     '20230'    '002902'      SAN DIEGO      SAN DIEGO  "
            ],
            "text/html": [
              "\n",
              "  <div id=\"df-ea4a08ff-703c-48e9-9511-c75325e134cb\" class=\"colab-df-container\">\n",
              "    <div>\n",
              "<style scoped>\n",
              "    .dataframe tbody tr th:only-of-type {\n",
              "        vertical-align: middle;\n",
              "    }\n",
              "\n",
              "    .dataframe tbody tr th {\n",
              "        vertical-align: top;\n",
              "    }\n",
              "\n",
              "    .dataframe thead th {\n",
              "        text-align: right;\n",
              "    }\n",
              "</style>\n",
              "<table border=\"1\" class=\"dataframe\">\n",
              "  <thead>\n",
              "    <tr style=\"text-align: right;\">\n",
              "      <th></th>\n",
              "      <th>activitynumber</th>\n",
              "      <th>activitydate</th>\n",
              "      <th>year</th>\n",
              "      <th>agency</th>\n",
              "      <th>violationsection</th>\n",
              "      <th>violationtype</th>\n",
              "      <th>chargedescription</th>\n",
              "      <th>chargelevel</th>\n",
              "      <th>codeucr</th>\n",
              "      <th>crimecategory</th>\n",
              "      <th>personrole</th>\n",
              "      <th>race</th>\n",
              "      <th>age</th>\n",
              "      <th>sex</th>\n",
              "      <th>zipcode</th>\n",
              "      <th>censusblock</th>\n",
              "      <th>censustract</th>\n",
              "      <th>city</th>\n",
              "      <th>city.1</th>\n",
              "    </tr>\n",
              "  </thead>\n",
              "  <tbody>\n",
              "    <tr>\n",
              "      <th>0</th>\n",
              "      <td>'01600014'</td>\n",
              "      <td>2016-01-01 00:00:00</td>\n",
              "      <td>2016</td>\n",
              "      <td>NATIONAL CITY</td>\n",
              "      <td>10851</td>\n",
              "      <td>VC</td>\n",
              "      <td>TAKE VEHICLE W/O OWNER'S CONSENT/VEHICLE THEFT</td>\n",
              "      <td>FELONY</td>\n",
              "      <td>7A0</td>\n",
              "      <td>Vehicle Theft</td>\n",
              "      <td>VICTIM</td>\n",
              "      <td>OTHER</td>\n",
              "      <td>NaN</td>\n",
              "      <td>FEMALE</td>\n",
              "      <td>91950.0</td>\n",
              "      <td>'02000'</td>\n",
              "      <td>'022000'</td>\n",
              "      <td>NATIONAL CITY</td>\n",
              "      <td>NATIONAL CITY</td>\n",
              "    </tr>\n",
              "    <tr>\n",
              "      <th>1</th>\n",
              "      <td>'16000042'</td>\n",
              "      <td>2016-01-01 00:00:00</td>\n",
              "      <td>2016</td>\n",
              "      <td>SAN DIEGO</td>\n",
              "      <td>459</td>\n",
              "      <td>PC</td>\n",
              "      <td>BURGLARY/UNSPECIFIED</td>\n",
              "      <td>FELONY</td>\n",
              "      <td>5A6</td>\n",
              "      <td>Non Res Burglary</td>\n",
              "      <td>NaN</td>\n",
              "      <td>NaN</td>\n",
              "      <td>NaN</td>\n",
              "      <td>NaN</td>\n",
              "      <td>92109.0</td>\n",
              "      <td>'20000'</td>\n",
              "      <td>'007907'</td>\n",
              "      <td>SAN DIEGO</td>\n",
              "      <td>SAN DIEGO</td>\n",
              "    </tr>\n",
              "    <tr>\n",
              "      <th>2</th>\n",
              "      <td>'16005661'</td>\n",
              "      <td>2016-01-01 00:00:00</td>\n",
              "      <td>2016</td>\n",
              "      <td>SAN DIEGO</td>\n",
              "      <td>488</td>\n",
              "      <td>PC</td>\n",
              "      <td>PETTY THEFT</td>\n",
              "      <td>MISDEMEANOR</td>\n",
              "      <td>6DG</td>\n",
              "      <td>Larceny &lt; $400</td>\n",
              "      <td>VICTIM/WITNESS</td>\n",
              "      <td>HISPANIC</td>\n",
              "      <td>74.0</td>\n",
              "      <td>MALE</td>\n",
              "      <td>92115.0</td>\n",
              "      <td>'20230'</td>\n",
              "      <td>'002902'</td>\n",
              "      <td>SAN DIEGO</td>\n",
              "      <td>SAN DIEGO</td>\n",
              "    </tr>\n",
              "  </tbody>\n",
              "</table>\n",
              "</div>\n",
              "    <div class=\"colab-df-buttons\">\n",
              "\n",
              "  <div class=\"colab-df-container\">\n",
              "    <button class=\"colab-df-convert\" onclick=\"convertToInteractive('df-ea4a08ff-703c-48e9-9511-c75325e134cb')\"\n",
              "            title=\"Convert this dataframe to an interactive table.\"\n",
              "            style=\"display:none;\">\n",
              "\n",
              "  <svg xmlns=\"http://www.w3.org/2000/svg\" height=\"24px\" viewBox=\"0 -960 960 960\">\n",
              "    <path d=\"M120-120v-720h720v720H120Zm60-500h600v-160H180v160Zm220 220h160v-160H400v160Zm0 220h160v-160H400v160ZM180-400h160v-160H180v160Zm440 0h160v-160H620v160ZM180-180h160v-160H180v160Zm440 0h160v-160H620v160Z\"/>\n",
              "  </svg>\n",
              "    </button>\n",
              "\n",
              "  <style>\n",
              "    .colab-df-container {\n",
              "      display:flex;\n",
              "      gap: 12px;\n",
              "    }\n",
              "\n",
              "    .colab-df-convert {\n",
              "      background-color: #E8F0FE;\n",
              "      border: none;\n",
              "      border-radius: 50%;\n",
              "      cursor: pointer;\n",
              "      display: none;\n",
              "      fill: #1967D2;\n",
              "      height: 32px;\n",
              "      padding: 0 0 0 0;\n",
              "      width: 32px;\n",
              "    }\n",
              "\n",
              "    .colab-df-convert:hover {\n",
              "      background-color: #E2EBFA;\n",
              "      box-shadow: 0px 1px 2px rgba(60, 64, 67, 0.3), 0px 1px 3px 1px rgba(60, 64, 67, 0.15);\n",
              "      fill: #174EA6;\n",
              "    }\n",
              "\n",
              "    .colab-df-buttons div {\n",
              "      margin-bottom: 4px;\n",
              "    }\n",
              "\n",
              "    [theme=dark] .colab-df-convert {\n",
              "      background-color: #3B4455;\n",
              "      fill: #D2E3FC;\n",
              "    }\n",
              "\n",
              "    [theme=dark] .colab-df-convert:hover {\n",
              "      background-color: #434B5C;\n",
              "      box-shadow: 0px 1px 3px 1px rgba(0, 0, 0, 0.15);\n",
              "      filter: drop-shadow(0px 1px 2px rgba(0, 0, 0, 0.3));\n",
              "      fill: #FFFFFF;\n",
              "    }\n",
              "  </style>\n",
              "\n",
              "    <script>\n",
              "      const buttonEl =\n",
              "        document.querySelector('#df-ea4a08ff-703c-48e9-9511-c75325e134cb button.colab-df-convert');\n",
              "      buttonEl.style.display =\n",
              "        google.colab.kernel.accessAllowed ? 'block' : 'none';\n",
              "\n",
              "      async function convertToInteractive(key) {\n",
              "        const element = document.querySelector('#df-ea4a08ff-703c-48e9-9511-c75325e134cb');\n",
              "        const dataTable =\n",
              "          await google.colab.kernel.invokeFunction('convertToInteractive',\n",
              "                                                    [key], {});\n",
              "        if (!dataTable) return;\n",
              "\n",
              "        const docLinkHtml = 'Like what you see? Visit the ' +\n",
              "          '<a target=\"_blank\" href=https://colab.research.google.com/notebooks/data_table.ipynb>data table notebook</a>'\n",
              "          + ' to learn more about interactive tables.';\n",
              "        element.innerHTML = '';\n",
              "        dataTable['output_type'] = 'display_data';\n",
              "        await google.colab.output.renderOutput(dataTable, element);\n",
              "        const docLink = document.createElement('div');\n",
              "        docLink.innerHTML = docLinkHtml;\n",
              "        element.appendChild(docLink);\n",
              "      }\n",
              "    </script>\n",
              "  </div>\n",
              "\n",
              "\n",
              "<div id=\"df-adce864f-9fad-4751-889f-3fba82978e3d\">\n",
              "  <button class=\"colab-df-quickchart\" onclick=\"quickchart('df-adce864f-9fad-4751-889f-3fba82978e3d')\"\n",
              "            title=\"Suggest charts\"\n",
              "            style=\"display:none;\">\n",
              "\n",
              "<svg xmlns=\"http://www.w3.org/2000/svg\" height=\"24px\"viewBox=\"0 0 24 24\"\n",
              "     width=\"24px\">\n",
              "    <g>\n",
              "        <path d=\"M19 3H5c-1.1 0-2 .9-2 2v14c0 1.1.9 2 2 2h14c1.1 0 2-.9 2-2V5c0-1.1-.9-2-2-2zM9 17H7v-7h2v7zm4 0h-2V7h2v10zm4 0h-2v-4h2v4z\"/>\n",
              "    </g>\n",
              "</svg>\n",
              "  </button>\n",
              "\n",
              "<style>\n",
              "  .colab-df-quickchart {\n",
              "      --bg-color: #E8F0FE;\n",
              "      --fill-color: #1967D2;\n",
              "      --hover-bg-color: #E2EBFA;\n",
              "      --hover-fill-color: #174EA6;\n",
              "      --disabled-fill-color: #AAA;\n",
              "      --disabled-bg-color: #DDD;\n",
              "  }\n",
              "\n",
              "  [theme=dark] .colab-df-quickchart {\n",
              "      --bg-color: #3B4455;\n",
              "      --fill-color: #D2E3FC;\n",
              "      --hover-bg-color: #434B5C;\n",
              "      --hover-fill-color: #FFFFFF;\n",
              "      --disabled-bg-color: #3B4455;\n",
              "      --disabled-fill-color: #666;\n",
              "  }\n",
              "\n",
              "  .colab-df-quickchart {\n",
              "    background-color: var(--bg-color);\n",
              "    border: none;\n",
              "    border-radius: 50%;\n",
              "    cursor: pointer;\n",
              "    display: none;\n",
              "    fill: var(--fill-color);\n",
              "    height: 32px;\n",
              "    padding: 0;\n",
              "    width: 32px;\n",
              "  }\n",
              "\n",
              "  .colab-df-quickchart:hover {\n",
              "    background-color: var(--hover-bg-color);\n",
              "    box-shadow: 0 1px 2px rgba(60, 64, 67, 0.3), 0 1px 3px 1px rgba(60, 64, 67, 0.15);\n",
              "    fill: var(--button-hover-fill-color);\n",
              "  }\n",
              "\n",
              "  .colab-df-quickchart-complete:disabled,\n",
              "  .colab-df-quickchart-complete:disabled:hover {\n",
              "    background-color: var(--disabled-bg-color);\n",
              "    fill: var(--disabled-fill-color);\n",
              "    box-shadow: none;\n",
              "  }\n",
              "\n",
              "  .colab-df-spinner {\n",
              "    border: 2px solid var(--fill-color);\n",
              "    border-color: transparent;\n",
              "    border-bottom-color: var(--fill-color);\n",
              "    animation:\n",
              "      spin 1s steps(1) infinite;\n",
              "  }\n",
              "\n",
              "  @keyframes spin {\n",
              "    0% {\n",
              "      border-color: transparent;\n",
              "      border-bottom-color: var(--fill-color);\n",
              "      border-left-color: var(--fill-color);\n",
              "    }\n",
              "    20% {\n",
              "      border-color: transparent;\n",
              "      border-left-color: var(--fill-color);\n",
              "      border-top-color: var(--fill-color);\n",
              "    }\n",
              "    30% {\n",
              "      border-color: transparent;\n",
              "      border-left-color: var(--fill-color);\n",
              "      border-top-color: var(--fill-color);\n",
              "      border-right-color: var(--fill-color);\n",
              "    }\n",
              "    40% {\n",
              "      border-color: transparent;\n",
              "      border-right-color: var(--fill-color);\n",
              "      border-top-color: var(--fill-color);\n",
              "    }\n",
              "    60% {\n",
              "      border-color: transparent;\n",
              "      border-right-color: var(--fill-color);\n",
              "    }\n",
              "    80% {\n",
              "      border-color: transparent;\n",
              "      border-right-color: var(--fill-color);\n",
              "      border-bottom-color: var(--fill-color);\n",
              "    }\n",
              "    90% {\n",
              "      border-color: transparent;\n",
              "      border-bottom-color: var(--fill-color);\n",
              "    }\n",
              "  }\n",
              "</style>\n",
              "\n",
              "  <script>\n",
              "    async function quickchart(key) {\n",
              "      const quickchartButtonEl =\n",
              "        document.querySelector('#' + key + ' button');\n",
              "      quickchartButtonEl.disabled = true;  // To prevent multiple clicks.\n",
              "      quickchartButtonEl.classList.add('colab-df-spinner');\n",
              "      try {\n",
              "        const charts = await google.colab.kernel.invokeFunction(\n",
              "            'suggestCharts', [key], {});\n",
              "      } catch (error) {\n",
              "        console.error('Error during call to suggestCharts:', error);\n",
              "      }\n",
              "      quickchartButtonEl.classList.remove('colab-df-spinner');\n",
              "      quickchartButtonEl.classList.add('colab-df-quickchart-complete');\n",
              "    }\n",
              "    (() => {\n",
              "      let quickchartButtonEl =\n",
              "        document.querySelector('#df-adce864f-9fad-4751-889f-3fba82978e3d button');\n",
              "      quickchartButtonEl.style.display =\n",
              "        google.colab.kernel.accessAllowed ? 'block' : 'none';\n",
              "    })();\n",
              "  </script>\n",
              "</div>\n",
              "    </div>\n",
              "  </div>\n"
            ],
            "application/vnd.google.colaboratory.intrinsic+json": {
              "type": "dataframe",
              "variable_name": "crime_df"
            }
          },
          "metadata": {},
          "execution_count": 16
        }
      ]
    },
    {
      "cell_type": "code",
      "source": [
        "crime_df.columns"
      ],
      "metadata": {
        "colab": {
          "base_uri": "https://localhost:8080/"
        },
        "id": "0tBHF8iTvCr2",
        "outputId": "932fee32-7ed0-4878-83d2-add0caac49e7"
      },
      "execution_count": 17,
      "outputs": [
        {
          "output_type": "execute_result",
          "data": {
            "text/plain": [
              "Index(['activitynumber', 'activitydate', 'year', 'agency', 'violationsection',\n",
              "       'violationtype', 'chargedescription', 'chargelevel', 'codeucr',\n",
              "       'crimecategory', 'personrole', 'race', 'age', 'sex', 'zipcode',\n",
              "       'censusblock', 'censustract', 'city', 'city.1'],\n",
              "      dtype='object')"
            ]
          },
          "metadata": {},
          "execution_count": 17
        }
      ]
    },
    {
      "cell_type": "markdown",
      "source": [
        "## Data Cleaning"
      ],
      "metadata": {
        "id": "IGjyMrp5u_CT"
      }
    },
    {
      "cell_type": "markdown",
      "source": [
        "1. clean columns: city, zipcode"
      ],
      "metadata": {
        "id": "DuqhfB-D75uF"
      }
    },
    {
      "cell_type": "code",
      "source": [
        "# keep one of them is enough\n",
        "(crime_df['city'] == crime_df['city.1']).all()"
      ],
      "metadata": {
        "colab": {
          "base_uri": "https://localhost:8080/"
        },
        "id": "fTsA-BbHtXzg",
        "outputId": "32f6b455-1c11-4703-9498-1332f6416698"
      },
      "execution_count": 18,
      "outputs": [
        {
          "output_type": "execute_result",
          "data": {
            "text/plain": [
              "True"
            ]
          },
          "metadata": {},
          "execution_count": 18
        }
      ]
    },
    {
      "cell_type": "code",
      "source": [
        "# drop all rows that containing nan in zipcode\n",
        "crime_df = crime_df.dropna(subset=['zipcode'])\n",
        "\n",
        "# convert zipcode type into int64\n",
        "crime_df.loc[:, 'zipcode'] = crime_df['zipcode'].astype(int)\n",
        "\n",
        "# filter df only include sd cities\n",
        "crime_df = crime_df[crime_df['zipcode'].isin(zipcode_arr)]\n",
        "\n",
        "# convert datatype of zipcode\n",
        "crime_df['zipcode'] = crime_df['zipcode'].astype(int)"
      ],
      "metadata": {
        "id": "e6KUnl6MGmUK",
        "colab": {
          "base_uri": "https://localhost:8080/"
        },
        "outputId": "471afcd5-7d78-4a1e-de19-c06cf7842d7b"
      },
      "execution_count": 19,
      "outputs": [
        {
          "output_type": "stream",
          "name": "stderr",
          "text": [
            "<ipython-input-19-b69ef2b1e65c>:11: SettingWithCopyWarning: \n",
            "A value is trying to be set on a copy of a slice from a DataFrame.\n",
            "Try using .loc[row_indexer,col_indexer] = value instead\n",
            "\n",
            "See the caveats in the documentation: https://pandas.pydata.org/pandas-docs/stable/user_guide/indexing.html#returning-a-view-versus-a-copy\n",
            "  crime_df['zipcode'] = crime_df['zipcode'].astype(int)\n"
          ]
        }
      ]
    },
    {
      "cell_type": "code",
      "source": [
        "crime_df['city'] = crime_df['city'].str.strip()\n",
        "crime_df['city'] = crime_df['city'].str.replace(r'\\bUNINC\\b|\\bUNIN\\b', '', regex=True)\n",
        "crime_df['city'] = crime_df['city'].replace({'SAM DIEGO': 'SAN DIEGO', 'SAN SIEGO': 'SAN DIEGO',\n",
        "                        '5310 LA MESA': 'LA MESA', 'LAMESA': 'LA MESA',\n",
        "                        '92013': 'CARLSBAD', 'SPING VALLEY': 'SPRING VALLEY',\n",
        "                        'SAN YSABEL': 'SANTA YSABEL'})\n",
        "\n",
        "crime_df = crime_df[(crime_df['city'] != 'CN') & (crime_df['city'] != 'SD COUNTY')]"
      ],
      "metadata": {
        "id": "34DI_tWEyVTT"
      },
      "execution_count": 20,
      "outputs": []
    },
    {
      "cell_type": "markdown",
      "source": [
        "2. select columns\n",
        "\n",
        "**undecided yet**<br>\n",
        "**select a variable used as confounding variable:**\n",
        "* violationtype* violent or property\n",
        "* activitydate: daytime or nighttime\n",
        "* sex: female or male\n",
        "* age: young or old"
      ],
      "metadata": {
        "id": "SNqTJvU87_VZ"
      }
    },
    {
      "cell_type": "code",
      "source": [
        "sub_crime = crime_df[['activitydate', 'year', 'violationtype', 'crimecategory', 'race', 'age', 'sex', 'zipcode', 'city']]"
      ],
      "metadata": {
        "id": "beqwcSwX7-qj"
      },
      "execution_count": 21,
      "outputs": []
    },
    {
      "cell_type": "code",
      "source": [
        "sub_crime.head(3)"
      ],
      "metadata": {
        "colab": {
          "base_uri": "https://localhost:8080/",
          "height": 143
        },
        "id": "95z7uh4qyVkK",
        "outputId": "37709447-f234-4182-d436-dc6788cc6ee0"
      },
      "execution_count": 22,
      "outputs": [
        {
          "output_type": "execute_result",
          "data": {
            "text/plain": [
              "          activitydate  year violationtype     crimecategory      race   age  \\\n",
              "0  2016-01-01 00:00:00  2016            VC     Vehicle Theft     OTHER   NaN   \n",
              "1  2016-01-01 00:00:00  2016            PC  Non Res Burglary       NaN   NaN   \n",
              "2  2016-01-01 00:00:00  2016            PC    Larceny < $400  HISPANIC  74.0   \n",
              "\n",
              "      sex  zipcode           city  \n",
              "0  FEMALE    91950  NATIONAL CITY  \n",
              "1     NaN    92109      SAN DIEGO  \n",
              "2    MALE    92115      SAN DIEGO  "
            ],
            "text/html": [
              "\n",
              "  <div id=\"df-d4f469aa-c759-4620-aaf7-8566513cbba1\" class=\"colab-df-container\">\n",
              "    <div>\n",
              "<style scoped>\n",
              "    .dataframe tbody tr th:only-of-type {\n",
              "        vertical-align: middle;\n",
              "    }\n",
              "\n",
              "    .dataframe tbody tr th {\n",
              "        vertical-align: top;\n",
              "    }\n",
              "\n",
              "    .dataframe thead th {\n",
              "        text-align: right;\n",
              "    }\n",
              "</style>\n",
              "<table border=\"1\" class=\"dataframe\">\n",
              "  <thead>\n",
              "    <tr style=\"text-align: right;\">\n",
              "      <th></th>\n",
              "      <th>activitydate</th>\n",
              "      <th>year</th>\n",
              "      <th>violationtype</th>\n",
              "      <th>crimecategory</th>\n",
              "      <th>race</th>\n",
              "      <th>age</th>\n",
              "      <th>sex</th>\n",
              "      <th>zipcode</th>\n",
              "      <th>city</th>\n",
              "    </tr>\n",
              "  </thead>\n",
              "  <tbody>\n",
              "    <tr>\n",
              "      <th>0</th>\n",
              "      <td>2016-01-01 00:00:00</td>\n",
              "      <td>2016</td>\n",
              "      <td>VC</td>\n",
              "      <td>Vehicle Theft</td>\n",
              "      <td>OTHER</td>\n",
              "      <td>NaN</td>\n",
              "      <td>FEMALE</td>\n",
              "      <td>91950</td>\n",
              "      <td>NATIONAL CITY</td>\n",
              "    </tr>\n",
              "    <tr>\n",
              "      <th>1</th>\n",
              "      <td>2016-01-01 00:00:00</td>\n",
              "      <td>2016</td>\n",
              "      <td>PC</td>\n",
              "      <td>Non Res Burglary</td>\n",
              "      <td>NaN</td>\n",
              "      <td>NaN</td>\n",
              "      <td>NaN</td>\n",
              "      <td>92109</td>\n",
              "      <td>SAN DIEGO</td>\n",
              "    </tr>\n",
              "    <tr>\n",
              "      <th>2</th>\n",
              "      <td>2016-01-01 00:00:00</td>\n",
              "      <td>2016</td>\n",
              "      <td>PC</td>\n",
              "      <td>Larceny &lt; $400</td>\n",
              "      <td>HISPANIC</td>\n",
              "      <td>74.0</td>\n",
              "      <td>MALE</td>\n",
              "      <td>92115</td>\n",
              "      <td>SAN DIEGO</td>\n",
              "    </tr>\n",
              "  </tbody>\n",
              "</table>\n",
              "</div>\n",
              "    <div class=\"colab-df-buttons\">\n",
              "\n",
              "  <div class=\"colab-df-container\">\n",
              "    <button class=\"colab-df-convert\" onclick=\"convertToInteractive('df-d4f469aa-c759-4620-aaf7-8566513cbba1')\"\n",
              "            title=\"Convert this dataframe to an interactive table.\"\n",
              "            style=\"display:none;\">\n",
              "\n",
              "  <svg xmlns=\"http://www.w3.org/2000/svg\" height=\"24px\" viewBox=\"0 -960 960 960\">\n",
              "    <path d=\"M120-120v-720h720v720H120Zm60-500h600v-160H180v160Zm220 220h160v-160H400v160Zm0 220h160v-160H400v160ZM180-400h160v-160H180v160Zm440 0h160v-160H620v160ZM180-180h160v-160H180v160Zm440 0h160v-160H620v160Z\"/>\n",
              "  </svg>\n",
              "    </button>\n",
              "\n",
              "  <style>\n",
              "    .colab-df-container {\n",
              "      display:flex;\n",
              "      gap: 12px;\n",
              "    }\n",
              "\n",
              "    .colab-df-convert {\n",
              "      background-color: #E8F0FE;\n",
              "      border: none;\n",
              "      border-radius: 50%;\n",
              "      cursor: pointer;\n",
              "      display: none;\n",
              "      fill: #1967D2;\n",
              "      height: 32px;\n",
              "      padding: 0 0 0 0;\n",
              "      width: 32px;\n",
              "    }\n",
              "\n",
              "    .colab-df-convert:hover {\n",
              "      background-color: #E2EBFA;\n",
              "      box-shadow: 0px 1px 2px rgba(60, 64, 67, 0.3), 0px 1px 3px 1px rgba(60, 64, 67, 0.15);\n",
              "      fill: #174EA6;\n",
              "    }\n",
              "\n",
              "    .colab-df-buttons div {\n",
              "      margin-bottom: 4px;\n",
              "    }\n",
              "\n",
              "    [theme=dark] .colab-df-convert {\n",
              "      background-color: #3B4455;\n",
              "      fill: #D2E3FC;\n",
              "    }\n",
              "\n",
              "    [theme=dark] .colab-df-convert:hover {\n",
              "      background-color: #434B5C;\n",
              "      box-shadow: 0px 1px 3px 1px rgba(0, 0, 0, 0.15);\n",
              "      filter: drop-shadow(0px 1px 2px rgba(0, 0, 0, 0.3));\n",
              "      fill: #FFFFFF;\n",
              "    }\n",
              "  </style>\n",
              "\n",
              "    <script>\n",
              "      const buttonEl =\n",
              "        document.querySelector('#df-d4f469aa-c759-4620-aaf7-8566513cbba1 button.colab-df-convert');\n",
              "      buttonEl.style.display =\n",
              "        google.colab.kernel.accessAllowed ? 'block' : 'none';\n",
              "\n",
              "      async function convertToInteractive(key) {\n",
              "        const element = document.querySelector('#df-d4f469aa-c759-4620-aaf7-8566513cbba1');\n",
              "        const dataTable =\n",
              "          await google.colab.kernel.invokeFunction('convertToInteractive',\n",
              "                                                    [key], {});\n",
              "        if (!dataTable) return;\n",
              "\n",
              "        const docLinkHtml = 'Like what you see? Visit the ' +\n",
              "          '<a target=\"_blank\" href=https://colab.research.google.com/notebooks/data_table.ipynb>data table notebook</a>'\n",
              "          + ' to learn more about interactive tables.';\n",
              "        element.innerHTML = '';\n",
              "        dataTable['output_type'] = 'display_data';\n",
              "        await google.colab.output.renderOutput(dataTable, element);\n",
              "        const docLink = document.createElement('div');\n",
              "        docLink.innerHTML = docLinkHtml;\n",
              "        element.appendChild(docLink);\n",
              "      }\n",
              "    </script>\n",
              "  </div>\n",
              "\n",
              "\n",
              "<div id=\"df-86600a72-8ab0-4d7e-b648-c6465d4ced35\">\n",
              "  <button class=\"colab-df-quickchart\" onclick=\"quickchart('df-86600a72-8ab0-4d7e-b648-c6465d4ced35')\"\n",
              "            title=\"Suggest charts\"\n",
              "            style=\"display:none;\">\n",
              "\n",
              "<svg xmlns=\"http://www.w3.org/2000/svg\" height=\"24px\"viewBox=\"0 0 24 24\"\n",
              "     width=\"24px\">\n",
              "    <g>\n",
              "        <path d=\"M19 3H5c-1.1 0-2 .9-2 2v14c0 1.1.9 2 2 2h14c1.1 0 2-.9 2-2V5c0-1.1-.9-2-2-2zM9 17H7v-7h2v7zm4 0h-2V7h2v10zm4 0h-2v-4h2v4z\"/>\n",
              "    </g>\n",
              "</svg>\n",
              "  </button>\n",
              "\n",
              "<style>\n",
              "  .colab-df-quickchart {\n",
              "      --bg-color: #E8F0FE;\n",
              "      --fill-color: #1967D2;\n",
              "      --hover-bg-color: #E2EBFA;\n",
              "      --hover-fill-color: #174EA6;\n",
              "      --disabled-fill-color: #AAA;\n",
              "      --disabled-bg-color: #DDD;\n",
              "  }\n",
              "\n",
              "  [theme=dark] .colab-df-quickchart {\n",
              "      --bg-color: #3B4455;\n",
              "      --fill-color: #D2E3FC;\n",
              "      --hover-bg-color: #434B5C;\n",
              "      --hover-fill-color: #FFFFFF;\n",
              "      --disabled-bg-color: #3B4455;\n",
              "      --disabled-fill-color: #666;\n",
              "  }\n",
              "\n",
              "  .colab-df-quickchart {\n",
              "    background-color: var(--bg-color);\n",
              "    border: none;\n",
              "    border-radius: 50%;\n",
              "    cursor: pointer;\n",
              "    display: none;\n",
              "    fill: var(--fill-color);\n",
              "    height: 32px;\n",
              "    padding: 0;\n",
              "    width: 32px;\n",
              "  }\n",
              "\n",
              "  .colab-df-quickchart:hover {\n",
              "    background-color: var(--hover-bg-color);\n",
              "    box-shadow: 0 1px 2px rgba(60, 64, 67, 0.3), 0 1px 3px 1px rgba(60, 64, 67, 0.15);\n",
              "    fill: var(--button-hover-fill-color);\n",
              "  }\n",
              "\n",
              "  .colab-df-quickchart-complete:disabled,\n",
              "  .colab-df-quickchart-complete:disabled:hover {\n",
              "    background-color: var(--disabled-bg-color);\n",
              "    fill: var(--disabled-fill-color);\n",
              "    box-shadow: none;\n",
              "  }\n",
              "\n",
              "  .colab-df-spinner {\n",
              "    border: 2px solid var(--fill-color);\n",
              "    border-color: transparent;\n",
              "    border-bottom-color: var(--fill-color);\n",
              "    animation:\n",
              "      spin 1s steps(1) infinite;\n",
              "  }\n",
              "\n",
              "  @keyframes spin {\n",
              "    0% {\n",
              "      border-color: transparent;\n",
              "      border-bottom-color: var(--fill-color);\n",
              "      border-left-color: var(--fill-color);\n",
              "    }\n",
              "    20% {\n",
              "      border-color: transparent;\n",
              "      border-left-color: var(--fill-color);\n",
              "      border-top-color: var(--fill-color);\n",
              "    }\n",
              "    30% {\n",
              "      border-color: transparent;\n",
              "      border-left-color: var(--fill-color);\n",
              "      border-top-color: var(--fill-color);\n",
              "      border-right-color: var(--fill-color);\n",
              "    }\n",
              "    40% {\n",
              "      border-color: transparent;\n",
              "      border-right-color: var(--fill-color);\n",
              "      border-top-color: var(--fill-color);\n",
              "    }\n",
              "    60% {\n",
              "      border-color: transparent;\n",
              "      border-right-color: var(--fill-color);\n",
              "    }\n",
              "    80% {\n",
              "      border-color: transparent;\n",
              "      border-right-color: var(--fill-color);\n",
              "      border-bottom-color: var(--fill-color);\n",
              "    }\n",
              "    90% {\n",
              "      border-color: transparent;\n",
              "      border-bottom-color: var(--fill-color);\n",
              "    }\n",
              "  }\n",
              "</style>\n",
              "\n",
              "  <script>\n",
              "    async function quickchart(key) {\n",
              "      const quickchartButtonEl =\n",
              "        document.querySelector('#' + key + ' button');\n",
              "      quickchartButtonEl.disabled = true;  // To prevent multiple clicks.\n",
              "      quickchartButtonEl.classList.add('colab-df-spinner');\n",
              "      try {\n",
              "        const charts = await google.colab.kernel.invokeFunction(\n",
              "            'suggestCharts', [key], {});\n",
              "      } catch (error) {\n",
              "        console.error('Error during call to suggestCharts:', error);\n",
              "      }\n",
              "      quickchartButtonEl.classList.remove('colab-df-spinner');\n",
              "      quickchartButtonEl.classList.add('colab-df-quickchart-complete');\n",
              "    }\n",
              "    (() => {\n",
              "      let quickchartButtonEl =\n",
              "        document.querySelector('#df-86600a72-8ab0-4d7e-b648-c6465d4ced35 button');\n",
              "      quickchartButtonEl.style.display =\n",
              "        google.colab.kernel.accessAllowed ? 'block' : 'none';\n",
              "    })();\n",
              "  </script>\n",
              "</div>\n",
              "    </div>\n",
              "  </div>\n"
            ],
            "application/vnd.google.colaboratory.intrinsic+json": {
              "type": "dataframe",
              "variable_name": "sub_crime"
            }
          },
          "metadata": {},
          "execution_count": 22
        }
      ]
    },
    {
      "cell_type": "code",
      "source": [
        "sub_crime.shape"
      ],
      "metadata": {
        "colab": {
          "base_uri": "https://localhost:8080/"
        },
        "id": "VGCwwyFB0fkV",
        "outputId": "7cfae78f-acef-4d78-bcf5-f807014da989"
      },
      "execution_count": 23,
      "outputs": [
        {
          "output_type": "execute_result",
          "data": {
            "text/plain": [
              "(298154, 9)"
            ]
          },
          "metadata": {},
          "execution_count": 23
        }
      ]
    },
    {
      "cell_type": "markdown",
      "source": [
        "## EDA"
      ],
      "metadata": {
        "id": "SDscTL3y92MP"
      }
    },
    {
      "cell_type": "code",
      "source": [
        "sub_crime['city'].unique()"
      ],
      "metadata": {
        "colab": {
          "base_uri": "https://localhost:8080/"
        },
        "id": "5V0foDRT92zI",
        "outputId": "d11f28b2-0190-484d-fba5-35e2900ea02f"
      },
      "execution_count": 24,
      "outputs": [
        {
          "output_type": "execute_result",
          "data": {
            "text/plain": [
              "array(['NATIONAL CITY', 'SAN DIEGO', 'EL CAJON', 'OCEANSIDE', 'ESCONDIDO',\n",
              "       'RANCHO SANTA FE', 'PINE VALLEY', 'VISTA ', 'POWAY', 'RAMONA',\n",
              "       'LA MESA', 'SAN MARCOS', 'PAUMA VALLEY', 'FALLBROOK', 'ALPINE',\n",
              "       'DEL MAR', 'LEMON GROVE', 'CARLSBAD', 'LAKESIDE', 'SOUTH BAY',\n",
              "       'CHULA VISTA', 'ENCINITAS', 'VALLEY CENTER', 'LA MESA ',\n",
              "       'IMPERIAL BEACH', 'SHERIFF', 'SPRING VALLEY', 'SOLANA BEACH',\n",
              "       'EL CAJON ', 'BONITA', '4S RANCH', 'VISTA', 'PALA', 'SANTEE',\n",
              "       'ESCONDIDO ', 'JULIAN', 'SAN MARCOS ', 'BOULEVARD',\n",
              "       'WARNER SPRINGS', 'JACUMBA', 'SANTA YSABEL', 'DESCANSO',\n",
              "       'PALOMAR MOUNTAIN', 'CAMPO', 'LINCOLN ACRES', 'OTAY', 'BONSALL',\n",
              "       'CORONADO', 'JAMUL', 'DULZURA', 'RANCHITA', 'POWAY ',\n",
              "       'BORREGO SPRINGS', 'LA JOLLA', 'TECATE', 'CARDIFF BY THE SEA',\n",
              "       'CAMP PENDLETON', 'POTRERO', 'SAN YSIDRO', 'MOUNT LAGUNA',\n",
              "       'GUATAY', 'ENCINITAS '], dtype=object)"
            ]
          },
          "metadata": {},
          "execution_count": 24
        }
      ]
    },
    {
      "cell_type": "code",
      "source": [
        "ncrime = sub_crime.groupby('city')['activitydate'].count().sort_values(ascending = False)\n",
        "ncrime"
      ],
      "metadata": {
        "colab": {
          "base_uri": "https://localhost:8080/"
        },
        "id": "nuawQRpV9853",
        "outputId": "718fa414-459b-4156-a9d0-585202d48b26"
      },
      "execution_count": 25,
      "outputs": [
        {
          "output_type": "execute_result",
          "data": {
            "text/plain": [
              "city\n",
              "SAN DIEGO       155309\n",
              "CHULA VISTA      22689\n",
              "OCEANSIDE        12044\n",
              "SOUTH BAY        10773\n",
              "VISTA             8009\n",
              "                 ...  \n",
              "SAN YSIDRO           9\n",
              "POTRERO              8\n",
              "MOUNT LAGUNA         8\n",
              "GUATAY               4\n",
              "ENCINITAS            1\n",
              "Name: activitydate, Length: 62, dtype: int64"
            ]
          },
          "metadata": {},
          "execution_count": 25
        }
      ]
    },
    {
      "cell_type": "code",
      "source": [
        "plt.figure(figsize=(8, 10))\n",
        "plt.barh(ncrime.index, ncrime.values, color='skyblue')\n",
        "plt.xlabel('Count of crime')\n",
        "plt.ylabel('City')\n",
        "plt.title('Count of crime by City')\n",
        "plt.xticks(rotation=90)\n",
        "plt.tight_layout()\n",
        "plt.show()"
      ],
      "metadata": {
        "colab": {
          "base_uri": "https://localhost:8080/",
          "height": 1000
        },
        "id": "E0A_9lFn98C2",
        "outputId": "94122e5f-9e54-441d-a70b-580de4ebe155"
      },
      "execution_count": 26,
      "outputs": [
        {
          "output_type": "display_data",
          "data": {
            "text/plain": [
              "<Figure size 800x1000 with 1 Axes>"
            ],
            "image/png": "[encoded data removed]"
          },
          "metadata": {}
        }
      ]
    },
    {
      "cell_type": "code",
      "source": [
        "# create df with nlicense and ncrime\n",
        "# convert the Series to DataFrames\n",
        "df_license = nlicense.to_frame(name='license_count')\n",
        "df_crime = ncrime.to_frame(name='crime_count')\n",
        "\n",
        "# merge with full outer join\n",
        "merged_df = pd.merge(df_license, df_crime, left_index=True, right_index=True, how='outer')\n",
        "merged_df"
      ],
      "metadata": {
        "colab": {
          "base_uri": "https://localhost:8080/",
          "height": 424
        },
        "id": "fvHvc6fKBSHl",
        "outputId": "7d0c2569-db5a-41b6-99ba-f57e9ef506cd"
      },
      "execution_count": 27,
      "outputs": [
        {
          "output_type": "execute_result",
          "data": {
            "text/plain": [
              "                 license_count  crime_count\n",
              "4S RANCH                   NaN          667\n",
              "ALPINE                    10.0         1226\n",
              "BONITA                     6.0          900\n",
              "BONSALL                    5.0          335\n",
              "BORREGO SPRINGS            8.0          190\n",
              "...                        ...          ...\n",
              "TECATE                     NaN          136\n",
              "VALLEY CENTER              6.0         1607\n",
              "VISTA                     29.0         8009\n",
              "VISTA                      NaN         1143\n",
              "WARNER SPRINGS             NaN           68\n",
              "\n",
              "[62 rows x 2 columns]"
            ],
            "text/html": [
              "\n",
              "  <div id=\"df-129ba00a-d6ef-4ea9-a61b-16ecc82396a5\" class=\"colab-df-container\">\n",
              "    <div>\n",
              "<style scoped>\n",
              "    .dataframe tbody tr th:only-of-type {\n",
              "        vertical-align: middle;\n",
              "    }\n",
              "\n",
              "    .dataframe tbody tr th {\n",
              "        vertical-align: top;\n",
              "    }\n",
              "\n",
              "    .dataframe thead th {\n",
              "        text-align: right;\n",
              "    }\n",
              "</style>\n",
              "<table border=\"1\" class=\"dataframe\">\n",
              "  <thead>\n",
              "    <tr style=\"text-align: right;\">\n",
              "      <th></th>\n",
              "      <th>license_count</th>\n",
              "      <th>crime_count</th>\n",
              "    </tr>\n",
              "  </thead>\n",
              "  <tbody>\n",
              "    <tr>\n",
              "      <th>4S RANCH</th>\n",
              "      <td>NaN</td>\n",
              "      <td>667</td>\n",
              "    </tr>\n",
              "    <tr>\n",
              "      <th>ALPINE</th>\n",
              "      <td>10.0</td>\n",
              "      <td>1226</td>\n",
              "    </tr>\n",
              "    <tr>\n",
              "      <th>BONITA</th>\n",
              "      <td>6.0</td>\n",
              "      <td>900</td>\n",
              "    </tr>\n",
              "    <tr>\n",
              "      <th>BONSALL</th>\n",
              "      <td>5.0</td>\n",
              "      <td>335</td>\n",
              "    </tr>\n",
              "    <tr>\n",
              "      <th>BORREGO SPRINGS</th>\n",
              "      <td>8.0</td>\n",
              "      <td>190</td>\n",
              "    </tr>\n",
              "    <tr>\n",
              "      <th>...</th>\n",
              "      <td>...</td>\n",
              "      <td>...</td>\n",
              "    </tr>\n",
              "    <tr>\n",
              "      <th>TECATE</th>\n",
              "      <td>NaN</td>\n",
              "      <td>136</td>\n",
              "    </tr>\n",
              "    <tr>\n",
              "      <th>VALLEY CENTER</th>\n",
              "      <td>6.0</td>\n",
              "      <td>1607</td>\n",
              "    </tr>\n",
              "    <tr>\n",
              "      <th>VISTA</th>\n",
              "      <td>29.0</td>\n",
              "      <td>8009</td>\n",
              "    </tr>\n",
              "    <tr>\n",
              "      <th>VISTA</th>\n",
              "      <td>NaN</td>\n",
              "      <td>1143</td>\n",
              "    </tr>\n",
              "    <tr>\n",
              "      <th>WARNER SPRINGS</th>\n",
              "      <td>NaN</td>\n",
              "      <td>68</td>\n",
              "    </tr>\n",
              "  </tbody>\n",
              "</table>\n",
              "<p>62 rows × 2 columns</p>\n",
              "</div>\n",
              "    <div class=\"colab-df-buttons\">\n",
              "\n",
              "  <div class=\"colab-df-container\">\n",
              "    <button class=\"colab-df-convert\" onclick=\"convertToInteractive('df-129ba00a-d6ef-4ea9-a61b-16ecc82396a5')\"\n",
              "            title=\"Convert this dataframe to an interactive table.\"\n",
              "            style=\"display:none;\">\n",
              "\n",
              "  <svg xmlns=\"http://www.w3.org/2000/svg\" height=\"24px\" viewBox=\"0 -960 960 960\">\n",
              "    <path d=\"M120-120v-720h720v720H120Zm60-500h600v-160H180v160Zm220 220h160v-160H400v160Zm0 220h160v-160H400v160ZM180-400h160v-160H180v160Zm440 0h160v-160H620v160ZM180-180h160v-160H180v160Zm440 0h160v-160H620v160Z\"/>\n",
              "  </svg>\n",
              "    </button>\n",
              "\n",
              "  <style>\n",
              "    .colab-df-container {\n",
              "      display:flex;\n",
              "      gap: 12px;\n",
              "    }\n",
              "\n",
              "    .colab-df-convert {\n",
              "      background-color: #E8F0FE;\n",
              "      border: none;\n",
              "      border-radius: 50%;\n",
              "      cursor: pointer;\n",
              "      display: none;\n",
              "      fill: #1967D2;\n",
              "      height: 32px;\n",
              "      padding: 0 0 0 0;\n",
              "      width: 32px;\n",
              "    }\n",
              "\n",
              "    .colab-df-convert:hover {\n",
              "      background-color: #E2EBFA;\n",
              "      box-shadow: 0px 1px 2px rgba(60, 64, 67, 0.3), 0px 1px 3px 1px rgba(60, 64, 67, 0.15);\n",
              "      fill: #174EA6;\n",
              "    }\n",
              "\n",
              "    .colab-df-buttons div {\n",
              "      margin-bottom: 4px;\n",
              "    }\n",
              "\n",
              "    [theme=dark] .colab-df-convert {\n",
              "      background-color: #3B4455;\n",
              "      fill: #D2E3FC;\n",
              "    }\n",
              "\n",
              "    [theme=dark] .colab-df-convert:hover {\n",
              "      background-color: #434B5C;\n",
              "      box-shadow: 0px 1px 3px 1px rgba(0, 0, 0, 0.15);\n",
              "      filter: drop-shadow(0px 1px 2px rgba(0, 0, 0, 0.3));\n",
              "      fill: #FFFFFF;\n",
              "    }\n",
              "  </style>\n",
              "\n",
              "    <script>\n",
              "      const buttonEl =\n",
              "        document.querySelector('#df-129ba00a-d6ef-4ea9-a61b-16ecc82396a5 button.colab-df-convert');\n",
              "      buttonEl.style.display =\n",
              "        google.colab.kernel.accessAllowed ? 'block' : 'none';\n",
              "\n",
              "      async function convertToInteractive(key) {\n",
              "        const element = document.querySelector('#df-129ba00a-d6ef-4ea9-a61b-16ecc82396a5');\n",
              "        const dataTable =\n",
              "          await google.colab.kernel.invokeFunction('convertToInteractive',\n",
              "                                                    [key], {});\n",
              "        if (!dataTable) return;\n",
              "\n",
              "        const docLinkHtml = 'Like what you see? Visit the ' +\n",
              "          '<a target=\"_blank\" href=https://colab.research.google.com/notebooks/data_table.ipynb>data table notebook</a>'\n",
              "          + ' to learn more about interactive tables.';\n",
              "        element.innerHTML = '';\n",
              "        dataTable['output_type'] = 'display_data';\n",
              "        await google.colab.output.renderOutput(dataTable, element);\n",
              "        const docLink = document.createElement('div');\n",
              "        docLink.innerHTML = docLinkHtml;\n",
              "        element.appendChild(docLink);\n",
              "      }\n",
              "    </script>\n",
              "  </div>\n",
              "\n",
              "\n",
              "<div id=\"df-86b7dabd-5406-4660-842b-5817add60678\">\n",
              "  <button class=\"colab-df-quickchart\" onclick=\"quickchart('df-86b7dabd-5406-4660-842b-5817add60678')\"\n",
              "            title=\"Suggest charts\"\n",
              "            style=\"display:none;\">\n",
              "\n",
              "<svg xmlns=\"http://www.w3.org/2000/svg\" height=\"24px\"viewBox=\"0 0 24 24\"\n",
              "     width=\"24px\">\n",
              "    <g>\n",
              "        <path d=\"M19 3H5c-1.1 0-2 .9-2 2v14c0 1.1.9 2 2 2h14c1.1 0 2-.9 2-2V5c0-1.1-.9-2-2-2zM9 17H7v-7h2v7zm4 0h-2V7h2v10zm4 0h-2v-4h2v4z\"/>\n",
              "    </g>\n",
              "</svg>\n",
              "  </button>\n",
              "\n",
              "<style>\n",
              "  .colab-df-quickchart {\n",
              "      --bg-color: #E8F0FE;\n",
              "      --fill-color: #1967D2;\n",
              "      --hover-bg-color: #E2EBFA;\n",
              "      --hover-fill-color: #174EA6;\n",
              "      --disabled-fill-color: #AAA;\n",
              "      --disabled-bg-color: #DDD;\n",
              "  }\n",
              "\n",
              "  [theme=dark] .colab-df-quickchart {\n",
              "      --bg-color: #3B4455;\n",
              "      --fill-color: #D2E3FC;\n",
              "      --hover-bg-color: #434B5C;\n",
              "      --hover-fill-color: #FFFFFF;\n",
              "      --disabled-bg-color: #3B4455;\n",
              "      --disabled-fill-color: #666;\n",
              "  }\n",
              "\n",
              "  .colab-df-quickchart {\n",
              "    background-color: var(--bg-color);\n",
              "    border: none;\n",
              "    border-radius: 50%;\n",
              "    cursor: pointer;\n",
              "    display: none;\n",
              "    fill: var(--fill-color);\n",
              "    height: 32px;\n",
              "    padding: 0;\n",
              "    width: 32px;\n",
              "  }\n",
              "\n",
              "  .colab-df-quickchart:hover {\n",
              "    background-color: var(--hover-bg-color);\n",
              "    box-shadow: 0 1px 2px rgba(60, 64, 67, 0.3), 0 1px 3px 1px rgba(60, 64, 67, 0.15);\n",
              "    fill: var(--button-hover-fill-color);\n",
              "  }\n",
              "\n",
              "  .colab-df-quickchart-complete:disabled,\n",
              "  .colab-df-quickchart-complete:disabled:hover {\n",
              "    background-color: var(--disabled-bg-color);\n",
              "    fill: var(--disabled-fill-color);\n",
              "    box-shadow: none;\n",
              "  }\n",
              "\n",
              "  .colab-df-spinner {\n",
              "    border: 2px solid var(--fill-color);\n",
              "    border-color: transparent;\n",
              "    border-bottom-color: var(--fill-color);\n",
              "    animation:\n",
              "      spin 1s steps(1) infinite;\n",
              "  }\n",
              "\n",
              "  @keyframes spin {\n",
              "    0% {\n",
              "      border-color: transparent;\n",
              "      border-bottom-color: var(--fill-color);\n",
              "      border-left-color: var(--fill-color);\n",
              "    }\n",
              "    20% {\n",
              "      border-color: transparent;\n",
              "      border-left-color: var(--fill-color);\n",
              "      border-top-color: var(--fill-color);\n",
              "    }\n",
              "    30% {\n",
              "      border-color: transparent;\n",
              "      border-left-color: var(--fill-color);\n",
              "      border-top-color: var(--fill-color);\n",
              "      border-right-color: var(--fill-color);\n",
              "    }\n",
              "    40% {\n",
              "      border-color: transparent;\n",
              "      border-right-color: var(--fill-color);\n",
              "      border-top-color: var(--fill-color);\n",
              "    }\n",
              "    60% {\n",
              "      border-color: transparent;\n",
              "      border-right-color: var(--fill-color);\n",
              "    }\n",
              "    80% {\n",
              "      border-color: transparent;\n",
              "      border-right-color: var(--fill-color);\n",
              "      border-bottom-color: var(--fill-color);\n",
              "    }\n",
              "    90% {\n",
              "      border-color: transparent;\n",
              "      border-bottom-color: var(--fill-color);\n",
              "    }\n",
              "  }\n",
              "</style>\n",
              "\n",
              "  <script>\n",
              "    async function quickchart(key) {\n",
              "      const quickchartButtonEl =\n",
              "        document.querySelector('#' + key + ' button');\n",
              "      quickchartButtonEl.disabled = true;  // To prevent multiple clicks.\n",
              "      quickchartButtonEl.classList.add('colab-df-spinner');\n",
              "      try {\n",
              "        const charts = await google.colab.kernel.invokeFunction(\n",
              "            'suggestCharts', [key], {});\n",
              "      } catch (error) {\n",
              "        console.error('Error during call to suggestCharts:', error);\n",
              "      }\n",
              "      quickchartButtonEl.classList.remove('colab-df-spinner');\n",
              "      quickchartButtonEl.classList.add('colab-df-quickchart-complete');\n",
              "    }\n",
              "    (() => {\n",
              "      let quickchartButtonEl =\n",
              "        document.querySelector('#df-86b7dabd-5406-4660-842b-5817add60678 button');\n",
              "      quickchartButtonEl.style.display =\n",
              "        google.colab.kernel.accessAllowed ? 'block' : 'none';\n",
              "    })();\n",
              "  </script>\n",
              "</div>\n",
              "    </div>\n",
              "  </div>\n"
            ],
            "application/vnd.google.colaboratory.intrinsic+json": {
              "type": "dataframe",
              "variable_name": "merged_df",
              "summary": "{\n  \"name\": \"merged_df\",\n  \"rows\": 62,\n  \"fields\": [\n    {\n      \"column\": \"license_count\",\n      \"properties\": {\n        \"dtype\": \"number\",\n        \"std\": 121.787745938287,\n        \"min\": 1.0,\n        \"max\": 769.0,\n        \"num_unique_values\": 27,\n        \"samples\": [\n          31.0,\n          14.0,\n          15.0\n        ],\n        \"semantic_type\": \"\",\n        \"description\": \"\"\n      }\n    },\n    {\n      \"column\": \"crime_count\",\n      \"properties\": {\n        \"dtype\": \"number\",\n        \"std\": 19794,\n        \"min\": 1,\n        \"max\": 155309,\n        \"num_unique_values\": 60,\n        \"samples\": [\n          667,\n          184,\n          118\n        ],\n        \"semantic_type\": \"\",\n        \"description\": \"\"\n      }\n    }\n  ]\n}"
            }
          },
          "metadata": {},
          "execution_count": 27
        }
      ]
    },
    {
      "cell_type": "code",
      "source": [
        "plt.figure(figsize=(10, 6))\n",
        "plt.scatter(merged_df['license_count'], merged_df['crime_count'], color='blue', alpha=0.5)\n",
        "plt.xlabel('License Count')\n",
        "plt.ylabel('Crime Count')\n",
        "plt.title('Scatter Plot of License Count vs Crime Count')\n",
        "plt.grid(True)\n",
        "plt.show()"
      ],
      "metadata": {
        "colab": {
          "base_uri": "https://localhost:8080/",
          "height": 564
        },
        "id": "5OAgyVSICo_7",
        "outputId": "01d26ab5-78cd-4423-c424-58d40dc2bf67"
      },
      "execution_count": 28,
      "outputs": [
        {
          "output_type": "display_data",
          "data": {
            "text/plain": [
              "<Figure size 1000x600 with 1 Axes>"
            ],
            "image/png": "[encoded data removed]"
          },
          "metadata": {}
        }
      ]
    },
    {
      "cell_type": "code",
      "source": [
        "plt.figure(figsize=(10, 6))\n",
        "plt.scatter(merged_df['license_count'], merged_df['crime_count'], color='blue', alpha=0.5)\n",
        "plt.xlabel('License Count')\n",
        "plt.ylabel('Crime Count')\n",
        "plt.title('Scatter Plot of License Count vs Crime Count')\n",
        "plt.xlim(-10, 100)\n",
        "plt.ylim(-5000, 30000)\n",
        "plt.grid(True)\n",
        "plt.show()"
      ],
      "metadata": {
        "colab": {
          "base_uri": "https://localhost:8080/",
          "height": 564
        },
        "id": "4rMul4M0DFXv",
        "outputId": "f2933d9b-c0bc-4f03-8884-0407c05e6b22"
      },
      "execution_count": 29,
      "outputs": [
        {
          "output_type": "display_data",
          "data": {
            "text/plain": [
              "<Figure size 1000x600 with 1 Axes>"
            ],
            "image/png": "[encoded data removed]"
          },
          "metadata": {}
        }
      ]
    },
    {
      "cell_type": "markdown",
      "source": [
        "just try, haven't decide how to deal with nan values\n",
        "and need to check assumptions\n",
        "\n"
      ],
      "metadata": {
        "id": "8lNASydZDtNk"
      }
    },
    {
      "cell_type": "code",
      "source": [
        "from scipy.stats import linregress\n",
        "\n",
        "# Remove rows with NaN values for regression\n",
        "cleaned_df = merged_df.dropna()\n",
        "\n",
        "# Perform linear regression\n",
        "slope, intercept, r_value, p_value, std_err = linregress(cleaned_df['license_count'], cleaned_df['crime_count'])\n",
        "\n",
        "# Calculate regression line\n",
        "regression_line = slope * cleaned_df['license_count'] + intercept\n",
        "\n",
        "# Draw scatter plot\n",
        "plt.figure(figsize=(10, 6))\n",
        "plt.scatter(merged_df['license_count'], merged_df['crime_count'], color='blue', alpha=0.5, label='Data points')\n",
        "plt.plot(cleaned_df['license_count'], regression_line, color='red', label=f'Linear regression line\\ny={slope:.2f}x+{intercept:.2f}')\n",
        "\n",
        "# Set axis limits\n",
        "plt.xlim(-10, 100)\n",
        "plt.ylim(-5000, 30000)\n",
        "\n",
        "# Add labels and title\n",
        "plt.xlabel('License Count')\n",
        "plt.ylabel('Crime Count')\n",
        "plt.title('Scatter Plot of License Count vs Crime Count with Linear Regression Line')\n",
        "plt.legend()\n",
        "plt.grid(True)\n",
        "\n",
        "# Display the scatter plot with regression line\n",
        "plt.show()"
      ],
      "metadata": {
        "colab": {
          "base_uri": "https://localhost:8080/",
          "height": 564
        },
        "id": "jZMD2dvyDWHV",
        "outputId": "3c7b0904-7240-421a-c242-04b726b55672"
      },
      "execution_count": 30,
      "outputs": [
        {
          "output_type": "display_data",
          "data": {
            "text/plain": [
              "<Figure size 1000x600 with 1 Axes>"
            ],
            "image/png": "[encoded data removed]"
          },
          "metadata": {}
        }
      ]
    },
    {
      "cell_type": "code",
      "source": [],
      "metadata": {
        "id": "OVcBMZu4D-Zc"
      },
      "execution_count": 30,
      "outputs": []
    }
  ]
}