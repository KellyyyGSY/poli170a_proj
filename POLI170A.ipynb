{
 "cells": [
  {
   "cell_type": "markdown",
   "metadata": {
    "id": "MrSavkFnHZp6"
   },
   "source": [
    "# **POLI170A Project**"
   ]
  },
  {
   "cell_type": "markdown",
   "metadata": {
    "id": "HdpAP0_8Hq1N"
   },
   "source": [
    "Research question: Does increased availability of on-sale alcohol, specifically Type 41 (On-Sale Beer and Wine – Public) and Type 47 (On-Sale General – Eating), lead to higher rates of crime, such as assault or robbery, in communities in San Diego County?"
   ]
  },
  {
   "cell_type": "markdown",
   "metadata": {
    "id": "gOB99OY0G_yD"
   },
   "source": [
    "# Setup"
   ]
  },
  {
   "cell_type": "code",
   "execution_count": 1,
   "metadata": {
    "colab": {
     "base_uri": "https://localhost:8080/"
    },
    "id": "P-ubiHQHG6Iv",
    "outputId": "35322e38-40f9-4d85-b44a-154451cf18c3"
   },
   "outputs": [],
   "source": [
    "import pandas as pd\n",
    "import numpy as np\n",
    "\n",
    "import plotly.express as px\n",
    "import seaborn as sns\n",
    "import matplotlib.pyplot as plt\n",
    "\n",
    "import scipy.stats as stats\n",
    "import statsmodels.api as sm\n",
    "import statsmodels.formula.api as smf\n",
    "from statsmodels.graphics.tsaplots import plot_acf\n",
    "\n",
    "from statsmodels.stats.outliers_influence import variance_inflation_factor\n",
    "\n",
    "def standardize(X):\n",
    "    return (X - X.mean()) / X.std()"
   ]
  },
  {
   "cell_type": "code",
   "execution_count": 2,
   "metadata": {
    "id": "sm3b-yPsSk_V"
   },
   "outputs": [],
   "source": [
    "zipcode_df = pd.read_csv(\"zipcode.csv\", header = None)\n",
    "zipcode_arr = zipcode_df[0].values"
   ]
  },
  {
   "cell_type": "markdown",
   "metadata": {
    "id": "5EWNjvJsJWyx"
   },
   "source": [
    "# Alcohol Dataset"
   ]
  },
  {
   "cell_type": "markdown",
   "metadata": {
    "id": "nWiAmMR-P-C8"
   },
   "source": [
    "Records of alcohol licenses in california, from the CA ABC daily file, with improvements to geographic identifiers, and acompilation of areal densities of on-sale and off-sale licenses in San Diego county.\n",
    "\n",
    "* ca_abc_licenses. California Alcohol Beverage Control License records\n",
    "* sd_abc_density. Areal density of on-sale and off-sale licenses in San Diego county"
   ]
  },
  {
   "cell_type": "code",
   "execution_count": 3,
   "metadata": {
    "colab": {
     "base_uri": "https://localhost:8080/"
    },
    "id": "Nn17BM0Qback",
    "outputId": "769346c2-b0cd-48de-bdbb-6891410131ba"
   },
   "outputs": [
    {
     "name": "stderr",
     "output_type": "stream",
     "text": [
      "/tmp/ipykernel_5240/3604120517.py:1: DtypeWarning: Columns (10,11) have mixed types. Specify dtype option on import or set low_memory=False.\n",
      "  ca_licenses =  pd.read_csv(\"ABC_WeeklyDataExport.csv\", skiprows=1)\n"
     ]
    },
    {
     "data": {
      "text/html": [
       "<div>\n",
       "<style scoped>\n",
       "    .dataframe tbody tr th:only-of-type {\n",
       "        vertical-align: middle;\n",
       "    }\n",
       "\n",
       "    .dataframe tbody tr th {\n",
       "        vertical-align: top;\n",
       "    }\n",
       "\n",
       "    .dataframe thead th {\n",
       "        text-align: right;\n",
       "    }\n",
       "</style>\n",
       "<table border=\"1\" class=\"dataframe\">\n",
       "  <thead>\n",
       "    <tr style=\"text-align: right;\">\n",
       "      <th></th>\n",
       "      <th>License Type</th>\n",
       "      <th>File Number</th>\n",
       "      <th>Lic or App</th>\n",
       "      <th>Type Status</th>\n",
       "      <th>Type Orig Iss Date</th>\n",
       "      <th>Expir Date</th>\n",
       "      <th>Fee Codes</th>\n",
       "      <th>Dup Counts</th>\n",
       "      <th>Master Ind</th>\n",
       "      <th>Term in # of Months</th>\n",
       "      <th>...</th>\n",
       "      <th>Prem State</th>\n",
       "      <th>Prem Zip</th>\n",
       "      <th>DBA Name</th>\n",
       "      <th>Mail Addr 1</th>\n",
       "      <th>Mail Addr 2</th>\n",
       "      <th>Mail City</th>\n",
       "      <th>Mail State</th>\n",
       "      <th>Mail Zip</th>\n",
       "      <th>Prem County</th>\n",
       "      <th>Prem Census Tract #</th>\n",
       "    </tr>\n",
       "  </thead>\n",
       "  <tbody>\n",
       "    <tr>\n",
       "      <th>0</th>\n",
       "      <td>77</td>\n",
       "      <td>561256</td>\n",
       "      <td>LIC</td>\n",
       "      <td>ACTIVE</td>\n",
       "      <td>01-DEC-2015</td>\n",
       "      <td>30-NOV-2024</td>\n",
       "      <td>P40</td>\n",
       "      <td>001</td>\n",
       "      <td>N</td>\n",
       "      <td>12</td>\n",
       "      <td>...</td>\n",
       "      <td>CA</td>\n",
       "      <td>91762-3644</td>\n",
       "      <td>FIREWATER BAR</td>\n",
       "      <td></td>\n",
       "      <td></td>\n",
       "      <td></td>\n",
       "      <td></td>\n",
       "      <td></td>\n",
       "      <td>SAN BERNARDINO</td>\n",
       "      <td>0010.02</td>\n",
       "    </tr>\n",
       "    <tr>\n",
       "      <th>1</th>\n",
       "      <td>48</td>\n",
       "      <td>526584</td>\n",
       "      <td>LIC</td>\n",
       "      <td>ACTIVE</td>\n",
       "      <td>08-JAN-2013</td>\n",
       "      <td>31-DEC-2024</td>\n",
       "      <td>P40</td>\n",
       "      <td>001</td>\n",
       "      <td>N</td>\n",
       "      <td>12</td>\n",
       "      <td>...</td>\n",
       "      <td>CA</td>\n",
       "      <td>94578-2815</td>\n",
       "      <td>CLUB CALIENTE</td>\n",
       "      <td>PO BOX 3541</td>\n",
       "      <td></td>\n",
       "      <td>SAN LEANDRO</td>\n",
       "      <td>CA</td>\n",
       "      <td>94578-0541</td>\n",
       "      <td>ALAMEDA</td>\n",
       "      <td>4331.03</td>\n",
       "    </tr>\n",
       "    <tr>\n",
       "      <th>2</th>\n",
       "      <td>77</td>\n",
       "      <td>518989</td>\n",
       "      <td>LIC</td>\n",
       "      <td>ACTIVE</td>\n",
       "      <td>21-JUN-2012</td>\n",
       "      <td>31-MAY-2024</td>\n",
       "      <td>P40</td>\n",
       "      <td>001</td>\n",
       "      <td>N</td>\n",
       "      <td>12</td>\n",
       "      <td>...</td>\n",
       "      <td>CA</td>\n",
       "      <td>93001-2826</td>\n",
       "      <td>BARRELHOUSE 101</td>\n",
       "      <td></td>\n",
       "      <td></td>\n",
       "      <td></td>\n",
       "      <td></td>\n",
       "      <td></td>\n",
       "      <td>VENTURA</td>\n",
       "      <td>0024.00</td>\n",
       "    </tr>\n",
       "  </tbody>\n",
       "</table>\n",
       "<p>3 rows × 26 columns</p>\n",
       "</div>"
      ],
      "text/plain": [
       "   License Type  File Number Lic or App Type Status Type Orig Iss Date  \\\n",
       "0            77       561256        LIC      ACTIVE        01-DEC-2015   \n",
       "1            48       526584        LIC      ACTIVE        08-JAN-2013   \n",
       "2            77       518989        LIC      ACTIVE        21-JUN-2012   \n",
       "\n",
       "    Expir Date Fee Codes Dup Counts Master Ind  Term in # of Months  ...  \\\n",
       "0  30-NOV-2024       P40        001          N                   12  ...   \n",
       "1  31-DEC-2024       P40        001          N                   12  ...   \n",
       "2  31-MAY-2024       P40        001          N                   12  ...   \n",
       "\n",
       "   Prem State    Prem Zip         DBA Name  Mail Addr 1 Mail Addr 2  \\\n",
       "0          CA  91762-3644   FIREWATER BAR                             \n",
       "1          CA  94578-2815    CLUB CALIENTE  PO BOX 3541               \n",
       "2          CA  93001-2826  BARRELHOUSE 101                            \n",
       "\n",
       "     Mail City Mail State    Mail Zip     Prem County Prem Census Tract #  \n",
       "0                                      SAN BERNARDINO             0010.02  \n",
       "1  SAN LEANDRO         CA  94578-0541         ALAMEDA             4331.03  \n",
       "2                                             VENTURA             0024.00  \n",
       "\n",
       "[3 rows x 26 columns]"
      ]
     },
     "execution_count": 3,
     "metadata": {},
     "output_type": "execute_result"
    }
   ],
   "source": [
    "ca_licenses =  pd.read_csv(\"ABC_WeeklyDataExport.csv\", skiprows=1)\n",
    "\n",
    "ca_licenses.head(3)"
   ]
  },
  {
   "cell_type": "code",
   "execution_count": 4,
   "metadata": {
    "colab": {
     "base_uri": "https://localhost:8080/"
    },
    "id": "AEEiNEEyb1iH",
    "outputId": "ca88e571-05f3-40fe-8054-eafa7ef6699c"
   },
   "outputs": [
    {
     "data": {
      "text/plain": [
       "Index(['License Type', 'File Number', 'Lic or App', 'Type Status',\n",
       "       'Type Orig Iss Date', 'Expir Date', 'Fee Codes', 'Dup Counts',\n",
       "       'Master Ind', 'Term in # of Months', 'Geo Code', 'District',\n",
       "       'Primary Name', 'Prem Addr 1', ' Prem Addr 2', 'Prem City',\n",
       "       ' Prem State', 'Prem Zip', 'DBA Name', 'Mail Addr 1', 'Mail Addr 2',\n",
       "       'Mail City', 'Mail State', 'Mail Zip', 'Prem County',\n",
       "       'Prem Census Tract #'],\n",
       "      dtype='object')"
      ]
     },
     "execution_count": 4,
     "metadata": {},
     "output_type": "execute_result"
    }
   ],
   "source": [
    "ca_licenses.columns"
   ]
  },
  {
   "cell_type": "markdown",
   "metadata": {
    "id": "RelvHY7GgrND"
   },
   "source": [
    "## Data Cleaning"
   ]
  },
  {
   "cell_type": "markdown",
   "metadata": {
    "id": "Ty_wt_lrghN9"
   },
   "source": [
    "1. dealing with license issue date, expire date"
   ]
  },
  {
   "cell_type": "code",
   "execution_count": 5,
   "metadata": {
    "id": "mLp_BnsSb1ki"
   },
   "outputs": [],
   "source": [
    "# drop rows with NaN values in 'Type Orig Iss Date' and 'Expir Date'\n",
    "ca_licenses['Type Orig Iss Date'].replace(['', ' '], np.nan, inplace=True)\n",
    "ca_licenses['Expir Date'].replace(['', ' '], np.nan, inplace=True)\n",
    "ca_licenses.dropna(subset=['Type Orig Iss Date', 'Expir Date'], inplace=True)\n",
    "\n",
    "# convert to datatime\n",
    "ca_licenses['Type Orig Iss Date'] = pd.to_datetime(ca_licenses['Type Orig Iss Date'], format='%d-%b-%Y')\n",
    "ca_licenses['Expir Date'] = pd.to_datetime(ca_licenses['Expir Date'], format='%d-%b-%Y')"
   ]
  },
  {
   "cell_type": "markdown",
   "metadata": {
    "id": "eQ539sJ_0pDC"
   },
   "source": [
    "2. transform all zipcode into 5-digits format"
   ]
  },
  {
   "cell_type": "code",
   "execution_count": 6,
   "metadata": {
    "id": "k9uoDztC0smL"
   },
   "outputs": [],
   "source": [
    "ca_licenses['Prem Zip'] = ca_licenses['Prem Zip'].str.slice(0, 5)"
   ]
  },
  {
   "cell_type": "markdown",
   "metadata": {
    "id": "Gim6OxnahJ6p"
   },
   "source": [
    "3. filter the dataframe based on the following conditions:\n",
    "  * Is an active License (Lic) not an Application (App) that is still being processed\n",
    "  * issue date before 2016-01-01\n",
    "  * expire date after 2020-07-31\n",
    "  * license is active\n",
    "  * license type is 41, 47, or 48\n",
    "  (41; On-Sale Beer and Wine – Public, 47: On-Sale General – Eating, 48: On-Sale General — Public ( Bars and Nightclubs ))\n",
    "  * license is used within San Diego"
   ]
  },
  {
   "cell_type": "code",
   "execution_count": 7,
   "metadata": {
    "id": "2InuKGDEb1nX"
   },
   "outputs": [],
   "source": [
    "df_alcohol = ca_licenses[\n",
    "    (ca_licenses['Lic or App'] == 'LIC') &\n",
    "    (ca_licenses['Type Orig Iss Date'] < '2016-01-01') &\n",
    "    (ca_licenses['Expir Date'] > '2020-07-31') &\n",
    "    (ca_licenses['Type Status'] == 'ACTIVE') &\n",
    "    ((ca_licenses['License Type'] == 47) | (ca_licenses['License Type'] == 41) | (ca_licenses['License Type'] == 48)) &\n",
    "    (ca_licenses['Prem County'] == \"SAN DIEGO\")\n",
    "].reset_index(drop = True)"
   ]
  },
  {
   "cell_type": "markdown",
   "metadata": {
    "id": "qP4vMOtMj5DG"
   },
   "source": [
    "4. select important features <br>"
   ]
  },
  {
   "cell_type": "code",
   "execution_count": 8,
   "metadata": {
    "colab": {
     "base_uri": "https://localhost:8080/",
     "height": 206
    },
    "id": "TA4vvJdHkPOi",
    "outputId": "b7e88278-99ea-4ade-904f-a493d86087d8"
   },
   "outputs": [
    {
     "data": {
      "text/html": [
       "<div>\n",
       "<style scoped>\n",
       "    .dataframe tbody tr th:only-of-type {\n",
       "        vertical-align: middle;\n",
       "    }\n",
       "\n",
       "    .dataframe tbody tr th {\n",
       "        vertical-align: top;\n",
       "    }\n",
       "\n",
       "    .dataframe thead th {\n",
       "        text-align: right;\n",
       "    }\n",
       "</style>\n",
       "<table border=\"1\" class=\"dataframe\">\n",
       "  <thead>\n",
       "    <tr style=\"text-align: right;\">\n",
       "      <th></th>\n",
       "      <th>Type Orig Iss Date</th>\n",
       "      <th>Expir Date</th>\n",
       "      <th>DBA Name</th>\n",
       "      <th>Prem Addr 1</th>\n",
       "      <th>Prem City</th>\n",
       "      <th>Prem Zip</th>\n",
       "    </tr>\n",
       "  </thead>\n",
       "  <tbody>\n",
       "    <tr>\n",
       "      <th>0</th>\n",
       "      <td>2013-01-16</td>\n",
       "      <td>2024-12-31</td>\n",
       "      <td>LAUBERGE DEL MAR</td>\n",
       "      <td>1540 CAMINO DEL MAR</td>\n",
       "      <td>DEL MAR</td>\n",
       "      <td>92014</td>\n",
       "    </tr>\n",
       "    <tr>\n",
       "      <th>1</th>\n",
       "      <td>1994-09-26</td>\n",
       "      <td>2024-12-31</td>\n",
       "      <td>CASBAH THE</td>\n",
       "      <td>2501 KETTNER BLVD</td>\n",
       "      <td>SAN DIEGO</td>\n",
       "      <td>92101</td>\n",
       "    </tr>\n",
       "    <tr>\n",
       "      <th>2</th>\n",
       "      <td>1993-12-31</td>\n",
       "      <td>2024-11-30</td>\n",
       "      <td>CATAMARAN RESORT HOTEL</td>\n",
       "      <td>3999 MISSION BLVD</td>\n",
       "      <td>SAN DIEGO</td>\n",
       "      <td>92109</td>\n",
       "    </tr>\n",
       "    <tr>\n",
       "      <th>3</th>\n",
       "      <td>2012-01-12</td>\n",
       "      <td>2024-12-31</td>\n",
       "      <td>MANCHESTER GRAND HYATT SAN DIEGO</td>\n",
       "      <td>ONE MARKET PLACE</td>\n",
       "      <td>SAN DIEGO</td>\n",
       "      <td>92101</td>\n",
       "    </tr>\n",
       "    <tr>\n",
       "      <th>4</th>\n",
       "      <td>2012-01-19</td>\n",
       "      <td>2024-12-31</td>\n",
       "      <td>BARLEY MASH</td>\n",
       "      <td>600 5TH AVE</td>\n",
       "      <td>SAN DIEGO</td>\n",
       "      <td>92101</td>\n",
       "    </tr>\n",
       "  </tbody>\n",
       "</table>\n",
       "</div>"
      ],
      "text/plain": [
       "  Type Orig Iss Date Expir Date                          DBA Name  \\\n",
       "0         2013-01-16 2024-12-31                  LAUBERGE DEL MAR   \n",
       "1         1994-09-26 2024-12-31                        CASBAH THE   \n",
       "2         1993-12-31 2024-11-30            CATAMARAN RESORT HOTEL   \n",
       "3         2012-01-12 2024-12-31  MANCHESTER GRAND HYATT SAN DIEGO   \n",
       "4         2012-01-19 2024-12-31                       BARLEY MASH   \n",
       "\n",
       "           Prem Addr 1  Prem City Prem Zip  \n",
       "0  1540 CAMINO DEL MAR    DEL MAR    92014  \n",
       "1    2501 KETTNER BLVD  SAN DIEGO    92101  \n",
       "2    3999 MISSION BLVD  SAN DIEGO    92109  \n",
       "3     ONE MARKET PLACE  SAN DIEGO    92101  \n",
       "4          600 5TH AVE  SAN DIEGO    92101  "
      ]
     },
     "execution_count": 8,
     "metadata": {},
     "output_type": "execute_result"
    }
   ],
   "source": [
    "sub_alcohol = df_alcohol[['Type Orig Iss Date', 'Expir Date', 'DBA Name', 'Prem Addr 1', 'Prem City', 'Prem Zip']]\n",
    "sub_alcohol.head(5)"
   ]
  },
  {
   "cell_type": "code",
   "execution_count": 9,
   "metadata": {
    "colab": {
     "base_uri": "https://localhost:8080/"
    },
    "id": "s-My-vPEdnh5",
    "outputId": "9464f7f8-31db-4b18-807a-323882cb290c"
   },
   "outputs": [
    {
     "data": {
      "text/html": [
       "<div>\n",
       "<style scoped>\n",
       "    .dataframe tbody tr th:only-of-type {\n",
       "        vertical-align: middle;\n",
       "    }\n",
       "\n",
       "    .dataframe tbody tr th {\n",
       "        vertical-align: top;\n",
       "    }\n",
       "\n",
       "    .dataframe thead th {\n",
       "        text-align: right;\n",
       "    }\n",
       "</style>\n",
       "<table border=\"1\" class=\"dataframe\">\n",
       "  <thead>\n",
       "    <tr style=\"text-align: right;\">\n",
       "      <th></th>\n",
       "      <th>zipcode</th>\n",
       "      <th>license_count</th>\n",
       "    </tr>\n",
       "  </thead>\n",
       "  <tbody>\n",
       "    <tr>\n",
       "      <th>0</th>\n",
       "      <td>91901</td>\n",
       "      <td>10</td>\n",
       "    </tr>\n",
       "    <tr>\n",
       "      <th>1</th>\n",
       "      <td>91902</td>\n",
       "      <td>6</td>\n",
       "    </tr>\n",
       "    <tr>\n",
       "      <th>2</th>\n",
       "      <td>91906</td>\n",
       "      <td>1</td>\n",
       "    </tr>\n",
       "    <tr>\n",
       "      <th>3</th>\n",
       "      <td>91910</td>\n",
       "      <td>40</td>\n",
       "    </tr>\n",
       "    <tr>\n",
       "      <th>4</th>\n",
       "      <td>91911</td>\n",
       "      <td>17</td>\n",
       "    </tr>\n",
       "    <tr>\n",
       "      <th>...</th>\n",
       "      <td>...</td>\n",
       "      <td>...</td>\n",
       "    </tr>\n",
       "    <tr>\n",
       "      <th>86</th>\n",
       "      <td>92131</td>\n",
       "      <td>11</td>\n",
       "    </tr>\n",
       "    <tr>\n",
       "      <th>87</th>\n",
       "      <td>92139</td>\n",
       "      <td>2</td>\n",
       "    </tr>\n",
       "    <tr>\n",
       "      <th>88</th>\n",
       "      <td>92154</td>\n",
       "      <td>9</td>\n",
       "    </tr>\n",
       "    <tr>\n",
       "      <th>89</th>\n",
       "      <td>92173</td>\n",
       "      <td>4</td>\n",
       "    </tr>\n",
       "    <tr>\n",
       "      <th>90</th>\n",
       "      <td>92182</td>\n",
       "      <td>1</td>\n",
       "    </tr>\n",
       "  </tbody>\n",
       "</table>\n",
       "<p>91 rows × 2 columns</p>\n",
       "</div>"
      ],
      "text/plain": [
       "    zipcode  license_count\n",
       "0     91901             10\n",
       "1     91902              6\n",
       "2     91906              1\n",
       "3     91910             40\n",
       "4     91911             17\n",
       "..      ...            ...\n",
       "86    92131             11\n",
       "87    92139              2\n",
       "88    92154              9\n",
       "89    92173              4\n",
       "90    92182              1\n",
       "\n",
       "[91 rows x 2 columns]"
      ]
     },
     "execution_count": 9,
     "metadata": {},
     "output_type": "execute_result"
    }
   ],
   "source": [
    "nlicense = (sub_alcohol.groupby('Prem Zip')\n",
    "            ['DBA Name']\n",
    "            .count()\n",
    "            .to_frame(name='license_count')\n",
    "            .reset_index())\n",
    "nlicense.columns = ['zipcode', 'license_count']\n",
    "nlicense['zipcode'] = nlicense['zipcode'].astype(int)\n",
    "nlicense"
   ]
  },
  {
   "cell_type": "markdown",
   "metadata": {
    "id": "ZwyXNnZ2HJo3"
   },
   "source": [
    "# Crime Dataset"
   ]
  },
  {
   "cell_type": "markdown",
   "metadata": {
    "id": "i4HpXji0sliu"
   },
   "source": [
    "This dataset describes crime incidents from 2016 to 2020, with demographic information for the victims. The file has one row per incident. The dataset is derived from data acquired for a PRA request and is processed to standardize geographic identifiers and racial categories."
   ]
  },
  {
   "cell_type": "code",
   "execution_count": 10,
   "metadata": {
    "id": "CDQKkTJHG-mM"
   },
   "outputs": [
    {
     "data": {
      "text/html": [
       "<div>\n",
       "<style scoped>\n",
       "    .dataframe tbody tr th:only-of-type {\n",
       "        vertical-align: middle;\n",
       "    }\n",
       "\n",
       "    .dataframe tbody tr th {\n",
       "        vertical-align: top;\n",
       "    }\n",
       "\n",
       "    .dataframe thead th {\n",
       "        text-align: right;\n",
       "    }\n",
       "</style>\n",
       "<table border=\"1\" class=\"dataframe\">\n",
       "  <thead>\n",
       "    <tr style=\"text-align: right;\">\n",
       "      <th></th>\n",
       "      <th>activitynumber</th>\n",
       "      <th>activitydate</th>\n",
       "      <th>year</th>\n",
       "      <th>agency</th>\n",
       "      <th>violationsection</th>\n",
       "      <th>violationtype</th>\n",
       "      <th>chargedescription</th>\n",
       "      <th>chargelevel</th>\n",
       "      <th>codeucr</th>\n",
       "      <th>crimecategory</th>\n",
       "      <th>personrole</th>\n",
       "      <th>race</th>\n",
       "      <th>age</th>\n",
       "      <th>sex</th>\n",
       "      <th>zipcode</th>\n",
       "      <th>censusblock</th>\n",
       "      <th>censustract</th>\n",
       "      <th>city</th>\n",
       "      <th>city.1</th>\n",
       "    </tr>\n",
       "  </thead>\n",
       "  <tbody>\n",
       "    <tr>\n",
       "      <th>0</th>\n",
       "      <td>'01600014'</td>\n",
       "      <td>2016-01-01 00:00:00</td>\n",
       "      <td>2016</td>\n",
       "      <td>NATIONAL CITY</td>\n",
       "      <td>10851</td>\n",
       "      <td>VC</td>\n",
       "      <td>TAKE VEHICLE W/O OWNER'S CONSENT/VEHICLE THEFT</td>\n",
       "      <td>FELONY</td>\n",
       "      <td>7A0</td>\n",
       "      <td>Vehicle Theft</td>\n",
       "      <td>VICTIM</td>\n",
       "      <td>OTHER</td>\n",
       "      <td>NaN</td>\n",
       "      <td>FEMALE</td>\n",
       "      <td>91950.0</td>\n",
       "      <td>'02000'</td>\n",
       "      <td>'022000'</td>\n",
       "      <td>NATIONAL CITY</td>\n",
       "      <td>NATIONAL CITY</td>\n",
       "    </tr>\n",
       "    <tr>\n",
       "      <th>1</th>\n",
       "      <td>'16000042'</td>\n",
       "      <td>2016-01-01 00:00:00</td>\n",
       "      <td>2016</td>\n",
       "      <td>SAN DIEGO</td>\n",
       "      <td>459</td>\n",
       "      <td>PC</td>\n",
       "      <td>BURGLARY/UNSPECIFIED</td>\n",
       "      <td>FELONY</td>\n",
       "      <td>5A6</td>\n",
       "      <td>Non Res Burglary</td>\n",
       "      <td>NaN</td>\n",
       "      <td>NaN</td>\n",
       "      <td>NaN</td>\n",
       "      <td>NaN</td>\n",
       "      <td>92109.0</td>\n",
       "      <td>'20000'</td>\n",
       "      <td>'007907'</td>\n",
       "      <td>SAN DIEGO</td>\n",
       "      <td>SAN DIEGO</td>\n",
       "    </tr>\n",
       "    <tr>\n",
       "      <th>2</th>\n",
       "      <td>'16005661'</td>\n",
       "      <td>2016-01-01 00:00:00</td>\n",
       "      <td>2016</td>\n",
       "      <td>SAN DIEGO</td>\n",
       "      <td>488</td>\n",
       "      <td>PC</td>\n",
       "      <td>PETTY THEFT</td>\n",
       "      <td>MISDEMEANOR</td>\n",
       "      <td>6DG</td>\n",
       "      <td>Larceny &lt; $400</td>\n",
       "      <td>VICTIM/WITNESS</td>\n",
       "      <td>HISPANIC</td>\n",
       "      <td>74.0</td>\n",
       "      <td>MALE</td>\n",
       "      <td>92115.0</td>\n",
       "      <td>'20230'</td>\n",
       "      <td>'002902'</td>\n",
       "      <td>SAN DIEGO</td>\n",
       "      <td>SAN DIEGO</td>\n",
       "    </tr>\n",
       "  </tbody>\n",
       "</table>\n",
       "</div>"
      ],
      "text/plain": [
       "  activitynumber         activitydate  year         agency violationsection  \\\n",
       "0     '01600014'  2016-01-01 00:00:00  2016  NATIONAL CITY            10851   \n",
       "1     '16000042'  2016-01-01 00:00:00  2016      SAN DIEGO              459   \n",
       "2     '16005661'  2016-01-01 00:00:00  2016      SAN DIEGO              488   \n",
       "\n",
       "  violationtype                               chargedescription  chargelevel  \\\n",
       "0            VC  TAKE VEHICLE W/O OWNER'S CONSENT/VEHICLE THEFT       FELONY   \n",
       "1            PC                            BURGLARY/UNSPECIFIED       FELONY   \n",
       "2            PC                                     PETTY THEFT  MISDEMEANOR   \n",
       "\n",
       "  codeucr     crimecategory      personrole      race   age     sex  zipcode  \\\n",
       "0     7A0     Vehicle Theft          VICTIM     OTHER   NaN  FEMALE  91950.0   \n",
       "1     5A6  Non Res Burglary             NaN       NaN   NaN     NaN  92109.0   \n",
       "2     6DG    Larceny < $400  VICTIM/WITNESS  HISPANIC  74.0    MALE  92115.0   \n",
       "\n",
       "  censusblock censustract           city         city.1  \n",
       "0     '02000'    '022000'  NATIONAL CITY  NATIONAL CITY  \n",
       "1     '20000'    '007907'      SAN DIEGO      SAN DIEGO  \n",
       "2     '20230'    '002902'      SAN DIEGO      SAN DIEGO  "
      ]
     },
     "execution_count": 10,
     "metadata": {},
     "output_type": "execute_result"
    }
   ],
   "source": [
    "crime_df =  pd.read_csv('http://library.metatab.org/arjis.org-crime_victims-pra-1.1.1/data/sdcrime_16_20_uniquecase.csv')\n",
    "crime_df.head(3)"
   ]
  },
  {
   "cell_type": "code",
   "execution_count": 11,
   "metadata": {
    "colab": {
     "base_uri": "https://localhost:8080/"
    },
    "id": "0tBHF8iTvCr2",
    "outputId": "932fee32-7ed0-4878-83d2-add0caac49e7"
   },
   "outputs": [
    {
     "data": {
      "text/plain": [
       "Index(['activitynumber', 'activitydate', 'year', 'agency', 'violationsection',\n",
       "       'violationtype', 'chargedescription', 'chargelevel', 'codeucr',\n",
       "       'crimecategory', 'personrole', 'race', 'age', 'sex', 'zipcode',\n",
       "       'censusblock', 'censustract', 'city', 'city.1'],\n",
       "      dtype='object')"
      ]
     },
     "execution_count": 11,
     "metadata": {},
     "output_type": "execute_result"
    }
   ],
   "source": [
    "crime_df.columns"
   ]
  },
  {
   "cell_type": "markdown",
   "metadata": {
    "id": "IGjyMrp5u_CT"
   },
   "source": [
    "## Data Cleaning"
   ]
  },
  {
   "cell_type": "markdown",
   "metadata": {
    "id": "DuqhfB-D75uF"
   },
   "source": [
    "1. clean columns: city, zipcode"
   ]
  },
  {
   "cell_type": "code",
   "execution_count": 12,
   "metadata": {
    "colab": {
     "base_uri": "https://localhost:8080/"
    },
    "id": "fTsA-BbHtXzg",
    "outputId": "32f6b455-1c11-4703-9498-1332f6416698"
   },
   "outputs": [
    {
     "data": {
      "text/plain": [
       "True"
      ]
     },
     "execution_count": 12,
     "metadata": {},
     "output_type": "execute_result"
    }
   ],
   "source": [
    "# keep one of them is enough\n",
    "(crime_df['city'] == crime_df['city.1']).all()"
   ]
  },
  {
   "cell_type": "code",
   "execution_count": 13,
   "metadata": {
    "colab": {
     "base_uri": "https://localhost:8080/"
    },
    "id": "e6KUnl6MGmUK",
    "outputId": "471afcd5-7d78-4a1e-de19-c06cf7842d7b"
   },
   "outputs": [],
   "source": [
    "# drop all rows that containing nan in zipcode\n",
    "crime_df = crime_df.dropna(subset=['zipcode'])\n",
    "\n",
    "# convert zipcode type into int64\n",
    "crime_df.loc[:, 'zipcode'] = crime_df['zipcode'].astype(int)\n",
    "\n",
    "# filter df only include sd cities\n",
    "crime_df = crime_df[crime_df['zipcode'].isin(zipcode_arr)]\n",
    "\n",
    "# convert datatype of zipcode\n",
    "crime_df['zipcode'] = crime_df['zipcode'].astype(int)"
   ]
  },
  {
   "cell_type": "code",
   "execution_count": 14,
   "metadata": {
    "id": "34DI_tWEyVTT"
   },
   "outputs": [],
   "source": [
    "crime_df['city'] = crime_df['city'].str.strip()\n",
    "crime_df['city'] = crime_df['city'].str.replace(r'\\bUNINC\\b|\\bUNIN\\b', '', regex=True)\n",
    "crime_df['city'] = crime_df['city'].replace({'SAM DIEGO': 'SAN DIEGO', 'SAN SIEGO': 'SAN DIEGO',\n",
    "                                             '5310 LA MESA': 'LA MESA', 'LAMESA': 'LA MESA',\n",
    "                                             '92013': 'CARLSBAD', 'SPING VALLEY': 'SPRING VALLEY',\n",
    "                                             'SAN YSABEL': 'SANTA YSABEL'})\n",
    "\n",
    "crime_df = crime_df[(crime_df['city'] != 'CN') & (crime_df['city'] != 'SD COUNTY')]"
   ]
  },
  {
   "cell_type": "code",
   "execution_count": 15,
   "metadata": {
    "id": "beqwcSwX7-qj"
   },
   "outputs": [],
   "source": [
    "sub_crime = crime_df[['activitynumber', 'activitydate', 'violationtype', 'crimecategory', 'zipcode', 'city']]"
   ]
  },
  {
   "cell_type": "code",
   "execution_count": 16,
   "metadata": {
    "colab": {
     "base_uri": "https://localhost:8080/",
     "height": 143
    },
    "id": "95z7uh4qyVkK",
    "outputId": "37709447-f234-4182-d436-dc6788cc6ee0"
   },
   "outputs": [
    {
     "data": {
      "text/html": [
       "<div>\n",
       "<style scoped>\n",
       "    .dataframe tbody tr th:only-of-type {\n",
       "        vertical-align: middle;\n",
       "    }\n",
       "\n",
       "    .dataframe tbody tr th {\n",
       "        vertical-align: top;\n",
       "    }\n",
       "\n",
       "    .dataframe thead th {\n",
       "        text-align: right;\n",
       "    }\n",
       "</style>\n",
       "<table border=\"1\" class=\"dataframe\">\n",
       "  <thead>\n",
       "    <tr style=\"text-align: right;\">\n",
       "      <th></th>\n",
       "      <th>activitynumber</th>\n",
       "      <th>activitydate</th>\n",
       "      <th>violationtype</th>\n",
       "      <th>crimecategory</th>\n",
       "      <th>zipcode</th>\n",
       "      <th>city</th>\n",
       "    </tr>\n",
       "  </thead>\n",
       "  <tbody>\n",
       "    <tr>\n",
       "      <th>0</th>\n",
       "      <td>'01600014'</td>\n",
       "      <td>2016-01-01 00:00:00</td>\n",
       "      <td>VC</td>\n",
       "      <td>Vehicle Theft</td>\n",
       "      <td>91950</td>\n",
       "      <td>NATIONAL CITY</td>\n",
       "    </tr>\n",
       "    <tr>\n",
       "      <th>1</th>\n",
       "      <td>'16000042'</td>\n",
       "      <td>2016-01-01 00:00:00</td>\n",
       "      <td>PC</td>\n",
       "      <td>Non Res Burglary</td>\n",
       "      <td>92109</td>\n",
       "      <td>SAN DIEGO</td>\n",
       "    </tr>\n",
       "    <tr>\n",
       "      <th>2</th>\n",
       "      <td>'16005661'</td>\n",
       "      <td>2016-01-01 00:00:00</td>\n",
       "      <td>PC</td>\n",
       "      <td>Larceny &lt; $400</td>\n",
       "      <td>92115</td>\n",
       "      <td>SAN DIEGO</td>\n",
       "    </tr>\n",
       "    <tr>\n",
       "      <th>3</th>\n",
       "      <td>'16008822'</td>\n",
       "      <td>2016-01-01 00:00:00</td>\n",
       "      <td>PC</td>\n",
       "      <td>Larceny &gt;= $400</td>\n",
       "      <td>92109</td>\n",
       "      <td>SAN DIEGO</td>\n",
       "    </tr>\n",
       "    <tr>\n",
       "      <th>5</th>\n",
       "      <td>'16016207'</td>\n",
       "      <td>2016-01-01 00:00:00</td>\n",
       "      <td>PC</td>\n",
       "      <td>Larceny &gt;= $400</td>\n",
       "      <td>92126</td>\n",
       "      <td>SAN DIEGO</td>\n",
       "    </tr>\n",
       "    <tr>\n",
       "      <th>...</th>\n",
       "      <td>...</td>\n",
       "      <td>...</td>\n",
       "      <td>...</td>\n",
       "      <td>...</td>\n",
       "      <td>...</td>\n",
       "      <td>...</td>\n",
       "    </tr>\n",
       "    <tr>\n",
       "      <th>312084</th>\n",
       "      <td>'20132063'</td>\n",
       "      <td>2020-07-31 23:00:00</td>\n",
       "      <td>VC</td>\n",
       "      <td>Vehicle Theft</td>\n",
       "      <td>91945</td>\n",
       "      <td>LEMON GROVE</td>\n",
       "    </tr>\n",
       "    <tr>\n",
       "      <th>312085</th>\n",
       "      <td>'20303289'</td>\n",
       "      <td>2020-07-31 23:00:00</td>\n",
       "      <td>VC</td>\n",
       "      <td>Vehicle Theft</td>\n",
       "      <td>92114</td>\n",
       "      <td>SAN DIEGO</td>\n",
       "    </tr>\n",
       "    <tr>\n",
       "      <th>312086</th>\n",
       "      <td>'20303297'</td>\n",
       "      <td>2020-07-31 23:00:00</td>\n",
       "      <td>VC</td>\n",
       "      <td>Vehicle Theft</td>\n",
       "      <td>92108</td>\n",
       "      <td>SAN DIEGO</td>\n",
       "    </tr>\n",
       "    <tr>\n",
       "      <th>312087</th>\n",
       "      <td>'20132066'</td>\n",
       "      <td>2020-07-31 23:23:00</td>\n",
       "      <td>PC</td>\n",
       "      <td>Aggravated Assault</td>\n",
       "      <td>92028</td>\n",
       "      <td>FALLBROOK</td>\n",
       "    </tr>\n",
       "    <tr>\n",
       "      <th>312088</th>\n",
       "      <td>'20132304'</td>\n",
       "      <td>2020-07-31 23:32:00</td>\n",
       "      <td>VC</td>\n",
       "      <td>Vehicle Theft</td>\n",
       "      <td>92021</td>\n",
       "      <td>LAKESIDE</td>\n",
       "    </tr>\n",
       "  </tbody>\n",
       "</table>\n",
       "<p>298154 rows × 6 columns</p>\n",
       "</div>"
      ],
      "text/plain": [
       "       activitynumber         activitydate violationtype       crimecategory  \\\n",
       "0          '01600014'  2016-01-01 00:00:00            VC       Vehicle Theft   \n",
       "1          '16000042'  2016-01-01 00:00:00            PC    Non Res Burglary   \n",
       "2          '16005661'  2016-01-01 00:00:00            PC      Larceny < $400   \n",
       "3          '16008822'  2016-01-01 00:00:00            PC     Larceny >= $400   \n",
       "5          '16016207'  2016-01-01 00:00:00            PC     Larceny >= $400   \n",
       "...               ...                  ...           ...                 ...   \n",
       "312084     '20132063'  2020-07-31 23:00:00            VC       Vehicle Theft   \n",
       "312085     '20303289'  2020-07-31 23:00:00            VC       Vehicle Theft   \n",
       "312086     '20303297'  2020-07-31 23:00:00            VC       Vehicle Theft   \n",
       "312087     '20132066'  2020-07-31 23:23:00            PC  Aggravated Assault   \n",
       "312088     '20132304'  2020-07-31 23:32:00            VC       Vehicle Theft   \n",
       "\n",
       "        zipcode           city  \n",
       "0         91950  NATIONAL CITY  \n",
       "1         92109      SAN DIEGO  \n",
       "2         92115      SAN DIEGO  \n",
       "3         92109      SAN DIEGO  \n",
       "5         92126      SAN DIEGO  \n",
       "...         ...            ...  \n",
       "312084    91945    LEMON GROVE  \n",
       "312085    92114      SAN DIEGO  \n",
       "312086    92108      SAN DIEGO  \n",
       "312087    92028      FALLBROOK  \n",
       "312088    92021       LAKESIDE  \n",
       "\n",
       "[298154 rows x 6 columns]"
      ]
     },
     "execution_count": 16,
     "metadata": {},
     "output_type": "execute_result"
    }
   ],
   "source": [
    "sub_crime"
   ]
  },
  {
   "cell_type": "markdown",
   "metadata": {},
   "source": [
    "2. Aggregate based on `zipcode`"
   ]
  },
  {
   "cell_type": "code",
   "execution_count": 17,
   "metadata": {
    "colab": {
     "base_uri": "https://localhost:8080/"
    },
    "id": "nuawQRpV9853",
    "outputId": "718fa414-459b-4156-a9d0-585202d48b26"
   },
   "outputs": [
    {
     "data": {
      "text/html": [
       "<div>\n",
       "<style scoped>\n",
       "    .dataframe tbody tr th:only-of-type {\n",
       "        vertical-align: middle;\n",
       "    }\n",
       "\n",
       "    .dataframe tbody tr th {\n",
       "        vertical-align: top;\n",
       "    }\n",
       "\n",
       "    .dataframe thead th {\n",
       "        text-align: right;\n",
       "    }\n",
       "</style>\n",
       "<table border=\"1\" class=\"dataframe\">\n",
       "  <thead>\n",
       "    <tr style=\"text-align: right;\">\n",
       "      <th></th>\n",
       "      <th>zipcode</th>\n",
       "      <th>crime_count</th>\n",
       "    </tr>\n",
       "  </thead>\n",
       "  <tbody>\n",
       "    <tr>\n",
       "      <th>0</th>\n",
       "      <td>91901</td>\n",
       "      <td>1283</td>\n",
       "    </tr>\n",
       "    <tr>\n",
       "      <th>1</th>\n",
       "      <td>91902</td>\n",
       "      <td>1038</td>\n",
       "    </tr>\n",
       "    <tr>\n",
       "      <th>2</th>\n",
       "      <td>91905</td>\n",
       "      <td>163</td>\n",
       "    </tr>\n",
       "    <tr>\n",
       "      <th>3</th>\n",
       "      <td>91906</td>\n",
       "      <td>278</td>\n",
       "    </tr>\n",
       "    <tr>\n",
       "      <th>4</th>\n",
       "      <td>91909</td>\n",
       "      <td>4</td>\n",
       "    </tr>\n",
       "    <tr>\n",
       "      <th>...</th>\n",
       "      <td>...</td>\n",
       "      <td>...</td>\n",
       "    </tr>\n",
       "    <tr>\n",
       "      <th>127</th>\n",
       "      <td>92173</td>\n",
       "      <td>4166</td>\n",
       "    </tr>\n",
       "    <tr>\n",
       "      <th>128</th>\n",
       "      <td>92182</td>\n",
       "      <td>27</td>\n",
       "    </tr>\n",
       "    <tr>\n",
       "      <th>129</th>\n",
       "      <td>92195</td>\n",
       "      <td>2</td>\n",
       "    </tr>\n",
       "    <tr>\n",
       "      <th>130</th>\n",
       "      <td>92196</td>\n",
       "      <td>1</td>\n",
       "    </tr>\n",
       "    <tr>\n",
       "      <th>131</th>\n",
       "      <td>92198</td>\n",
       "      <td>1</td>\n",
       "    </tr>\n",
       "  </tbody>\n",
       "</table>\n",
       "<p>132 rows × 2 columns</p>\n",
       "</div>"
      ],
      "text/plain": [
       "     zipcode  crime_count\n",
       "0      91901         1283\n",
       "1      91902         1038\n",
       "2      91905          163\n",
       "3      91906          278\n",
       "4      91909            4\n",
       "..       ...          ...\n",
       "127    92173         4166\n",
       "128    92182           27\n",
       "129    92195            2\n",
       "130    92196            1\n",
       "131    92198            1\n",
       "\n",
       "[132 rows x 2 columns]"
      ]
     },
     "execution_count": 17,
     "metadata": {},
     "output_type": "execute_result"
    }
   ],
   "source": [
    "ncrime = (sub_crime.groupby('zipcode')\n",
    "          ['activitynumber']\n",
    "          .count()\n",
    "          .to_frame()\n",
    "          .reset_index()\n",
    "         .rename(columns={'activitynumber': 'crime_count'}))\n",
    "ncrime"
   ]
  },
  {
   "cell_type": "markdown",
   "metadata": {},
   "source": [
    "3. Merge nlicense data with ncrime data"
   ]
  },
  {
   "cell_type": "code",
   "execution_count": 18,
   "metadata": {
    "colab": {
     "base_uri": "https://localhost:8080/",
     "height": 424
    },
    "id": "fvHvc6fKBSHl",
    "outputId": "7d0c2569-db5a-41b6-99ba-f57e9ef506cd"
   },
   "outputs": [
    {
     "data": {
      "text/html": [
       "<div>\n",
       "<style scoped>\n",
       "    .dataframe tbody tr th:only-of-type {\n",
       "        vertical-align: middle;\n",
       "    }\n",
       "\n",
       "    .dataframe tbody tr th {\n",
       "        vertical-align: top;\n",
       "    }\n",
       "\n",
       "    .dataframe thead th {\n",
       "        text-align: right;\n",
       "    }\n",
       "</style>\n",
       "<table border=\"1\" class=\"dataframe\">\n",
       "  <thead>\n",
       "    <tr style=\"text-align: right;\">\n",
       "      <th></th>\n",
       "      <th>zipcode</th>\n",
       "      <th>crime_count</th>\n",
       "      <th>license_count</th>\n",
       "    </tr>\n",
       "  </thead>\n",
       "  <tbody>\n",
       "    <tr>\n",
       "      <th>0</th>\n",
       "      <td>91901</td>\n",
       "      <td>1283</td>\n",
       "      <td>10</td>\n",
       "    </tr>\n",
       "    <tr>\n",
       "      <th>1</th>\n",
       "      <td>91902</td>\n",
       "      <td>1038</td>\n",
       "      <td>6</td>\n",
       "    </tr>\n",
       "    <tr>\n",
       "      <th>2</th>\n",
       "      <td>91906</td>\n",
       "      <td>278</td>\n",
       "      <td>1</td>\n",
       "    </tr>\n",
       "    <tr>\n",
       "      <th>3</th>\n",
       "      <td>91910</td>\n",
       "      <td>9366</td>\n",
       "      <td>40</td>\n",
       "    </tr>\n",
       "    <tr>\n",
       "      <th>4</th>\n",
       "      <td>91911</td>\n",
       "      <td>8699</td>\n",
       "      <td>17</td>\n",
       "    </tr>\n",
       "    <tr>\n",
       "      <th>...</th>\n",
       "      <td>...</td>\n",
       "      <td>...</td>\n",
       "      <td>...</td>\n",
       "    </tr>\n",
       "    <tr>\n",
       "      <th>83</th>\n",
       "      <td>92131</td>\n",
       "      <td>1401</td>\n",
       "      <td>11</td>\n",
       "    </tr>\n",
       "    <tr>\n",
       "      <th>84</th>\n",
       "      <td>92139</td>\n",
       "      <td>2377</td>\n",
       "      <td>2</td>\n",
       "    </tr>\n",
       "    <tr>\n",
       "      <th>85</th>\n",
       "      <td>92154</td>\n",
       "      <td>7011</td>\n",
       "      <td>9</td>\n",
       "    </tr>\n",
       "    <tr>\n",
       "      <th>86</th>\n",
       "      <td>92173</td>\n",
       "      <td>4166</td>\n",
       "      <td>4</td>\n",
       "    </tr>\n",
       "    <tr>\n",
       "      <th>87</th>\n",
       "      <td>92182</td>\n",
       "      <td>27</td>\n",
       "      <td>1</td>\n",
       "    </tr>\n",
       "  </tbody>\n",
       "</table>\n",
       "<p>88 rows × 3 columns</p>\n",
       "</div>"
      ],
      "text/plain": [
       "    zipcode  crime_count  license_count\n",
       "0     91901         1283             10\n",
       "1     91902         1038              6\n",
       "2     91906          278              1\n",
       "3     91910         9366             40\n",
       "4     91911         8699             17\n",
       "..      ...          ...            ...\n",
       "83    92131         1401             11\n",
       "84    92139         2377              2\n",
       "85    92154         7011              9\n",
       "86    92173         4166              4\n",
       "87    92182           27              1\n",
       "\n",
       "[88 rows x 3 columns]"
      ]
     },
     "execution_count": 18,
     "metadata": {},
     "output_type": "execute_result"
    }
   ],
   "source": [
    "merged_df = pd.merge(ncrime, nlicense, on='zipcode', how='inner')\n",
    "merged_df "
   ]
  },
  {
   "cell_type": "markdown",
   "metadata": {},
   "source": [
    "# Load helper datasets: density, poverty, pop"
   ]
  },
  {
   "cell_type": "markdown",
   "metadata": {},
   "source": [
    "`density`: population density; the estimated population per square kilometer\n",
    "\n",
    "https://simplemaps.com/data/us-zips"
   ]
  },
  {
   "cell_type": "code",
   "execution_count": 19,
   "metadata": {},
   "outputs": [
    {
     "data": {
      "text/html": [
       "<div>\n",
       "<style scoped>\n",
       "    .dataframe tbody tr th:only-of-type {\n",
       "        vertical-align: middle;\n",
       "    }\n",
       "\n",
       "    .dataframe tbody tr th {\n",
       "        vertical-align: top;\n",
       "    }\n",
       "\n",
       "    .dataframe thead th {\n",
       "        text-align: right;\n",
       "    }\n",
       "</style>\n",
       "<table border=\"1\" class=\"dataframe\">\n",
       "  <thead>\n",
       "    <tr style=\"text-align: right;\">\n",
       "      <th></th>\n",
       "      <th>zipcode</th>\n",
       "      <th>density</th>\n",
       "    </tr>\n",
       "  </thead>\n",
       "  <tbody>\n",
       "    <tr>\n",
       "      <th>0</th>\n",
       "      <td>601</td>\n",
       "      <td>100.9</td>\n",
       "    </tr>\n",
       "    <tr>\n",
       "      <th>1</th>\n",
       "      <td>602</td>\n",
       "      <td>479.2</td>\n",
       "    </tr>\n",
       "    <tr>\n",
       "      <th>2</th>\n",
       "      <td>603</td>\n",
       "      <td>551.7</td>\n",
       "    </tr>\n",
       "    <tr>\n",
       "      <th>3</th>\n",
       "      <td>606</td>\n",
       "      <td>48.7</td>\n",
       "    </tr>\n",
       "    <tr>\n",
       "      <th>4</th>\n",
       "      <td>610</td>\n",
       "      <td>265.7</td>\n",
       "    </tr>\n",
       "    <tr>\n",
       "      <th>...</th>\n",
       "      <td>...</td>\n",
       "      <td>...</td>\n",
       "    </tr>\n",
       "    <tr>\n",
       "      <th>33782</th>\n",
       "      <td>99923</td>\n",
       "      <td>0.6</td>\n",
       "    </tr>\n",
       "    <tr>\n",
       "      <th>33783</th>\n",
       "      <td>99925</td>\n",
       "      <td>6.6</td>\n",
       "    </tr>\n",
       "    <tr>\n",
       "      <th>33784</th>\n",
       "      <td>99926</td>\n",
       "      <td>4.3</td>\n",
       "    </tr>\n",
       "    <tr>\n",
       "      <th>33785</th>\n",
       "      <td>99927</td>\n",
       "      <td>1.2</td>\n",
       "    </tr>\n",
       "    <tr>\n",
       "      <th>33786</th>\n",
       "      <td>99929</td>\n",
       "      <td>0.3</td>\n",
       "    </tr>\n",
       "  </tbody>\n",
       "</table>\n",
       "<p>33787 rows × 2 columns</p>\n",
       "</div>"
      ],
      "text/plain": [
       "       zipcode  density\n",
       "0          601    100.9\n",
       "1          602    479.2\n",
       "2          603    551.7\n",
       "3          606     48.7\n",
       "4          610    265.7\n",
       "...        ...      ...\n",
       "33782    99923      0.6\n",
       "33783    99925      6.6\n",
       "33784    99926      4.3\n",
       "33785    99927      1.2\n",
       "33786    99929      0.3\n",
       "\n",
       "[33787 rows x 2 columns]"
      ]
     },
     "execution_count": 19,
     "metadata": {},
     "output_type": "execute_result"
    }
   ],
   "source": [
    "density = pd.read_csv(\"popden.csv\")\n",
    "\n",
    "density = density[['zip', 'density']]\n",
    "density.columns = ['zipcode', 'density']\n",
    "\n",
    "density['zipcode'] = density['zipcode'].astype(int)\n",
    "density['density'] = density['density'].astype(float)\n",
    "\n",
    "density"
   ]
  },
  {
   "cell_type": "markdown",
   "metadata": {},
   "source": [
    "`poverty`: number of people identified as poverty status within each zipcode\n",
    "    \n",
    "Source: ID: ACSST5Y2022.S1701\n",
    "Title: Poverty Status in the Past 12 Months"
   ]
  },
  {
   "cell_type": "code",
   "execution_count": 20,
   "metadata": {},
   "outputs": [
    {
     "data": {
      "text/html": [
       "<div>\n",
       "<style scoped>\n",
       "    .dataframe tbody tr th:only-of-type {\n",
       "        vertical-align: middle;\n",
       "    }\n",
       "\n",
       "    .dataframe tbody tr th {\n",
       "        vertical-align: top;\n",
       "    }\n",
       "\n",
       "    .dataframe thead th {\n",
       "        text-align: right;\n",
       "    }\n",
       "</style>\n",
       "<table border=\"1\" class=\"dataframe\">\n",
       "  <thead>\n",
       "    <tr style=\"text-align: right;\">\n",
       "      <th></th>\n",
       "      <th>zipcode</th>\n",
       "      <th>poverty</th>\n",
       "    </tr>\n",
       "  </thead>\n",
       "  <tbody>\n",
       "    <tr>\n",
       "      <th>1</th>\n",
       "      <td>89010</td>\n",
       "      <td>5</td>\n",
       "    </tr>\n",
       "    <tr>\n",
       "      <th>2</th>\n",
       "      <td>89019</td>\n",
       "      <td>186</td>\n",
       "    </tr>\n",
       "    <tr>\n",
       "      <th>3</th>\n",
       "      <td>89060</td>\n",
       "      <td>2183</td>\n",
       "    </tr>\n",
       "    <tr>\n",
       "      <th>4</th>\n",
       "      <td>89061</td>\n",
       "      <td>486</td>\n",
       "    </tr>\n",
       "    <tr>\n",
       "      <th>5</th>\n",
       "      <td>89439</td>\n",
       "      <td>93</td>\n",
       "    </tr>\n",
       "    <tr>\n",
       "      <th>...</th>\n",
       "      <td>...</td>\n",
       "      <td>...</td>\n",
       "    </tr>\n",
       "    <tr>\n",
       "      <th>1804</th>\n",
       "      <td>96148</td>\n",
       "      <td>15</td>\n",
       "    </tr>\n",
       "    <tr>\n",
       "      <th>1805</th>\n",
       "      <td>96150</td>\n",
       "      <td>3263</td>\n",
       "    </tr>\n",
       "    <tr>\n",
       "      <th>1806</th>\n",
       "      <td>96155</td>\n",
       "      <td>0</td>\n",
       "    </tr>\n",
       "    <tr>\n",
       "      <th>1807</th>\n",
       "      <td>96161</td>\n",
       "      <td>1602</td>\n",
       "    </tr>\n",
       "    <tr>\n",
       "      <th>1808</th>\n",
       "      <td>97635</td>\n",
       "      <td>27</td>\n",
       "    </tr>\n",
       "  </tbody>\n",
       "</table>\n",
       "<p>1808 rows × 2 columns</p>\n",
       "</div>"
      ],
      "text/plain": [
       "      zipcode  poverty\n",
       "1       89010        5\n",
       "2       89019      186\n",
       "3       89060     2183\n",
       "4       89061      486\n",
       "5       89439       93\n",
       "...       ...      ...\n",
       "1804    96148       15\n",
       "1805    96150     3263\n",
       "1806    96155        0\n",
       "1807    96161     1602\n",
       "1808    97635       27\n",
       "\n",
       "[1808 rows x 2 columns]"
      ]
     },
     "execution_count": 20,
     "metadata": {},
     "output_type": "execute_result"
    }
   ],
   "source": [
    "poverty = pd.read_csv(\"poverty.csv\")\n",
    "\n",
    "poverty = poverty[['NAME', 'S1701_C02_001E']].iloc[1:]\n",
    "poverty.columns = ['zipcode', 'poverty']\n",
    "\n",
    "poverty['zipcode'] = poverty['zipcode'].apply(lambda x: int(x.split()[-1]))\n",
    "poverty['poverty'] = poverty['poverty'].astype(int)\n",
    "poverty"
   ]
  },
  {
   "cell_type": "markdown",
   "metadata": {},
   "source": [
    "`population`: total number of people within each zipcode\n",
    "\n",
    "Source: \n",
    "ID: ACSDP5Y2022.DP05\n",
    "Title: ACS Demographic and Housing Estimates"
   ]
  },
  {
   "cell_type": "code",
   "execution_count": 21,
   "metadata": {},
   "outputs": [
    {
     "name": "stderr",
     "output_type": "stream",
     "text": [
      "/tmp/ipykernel_5240/1723714238.py:1: DtypeWarning: Columns (2,3,4,5,6,7,10,11,12,13,14,15,16,17,18,19,20,21,22,23,24,25,26,27,28,29,30,31,32,33,34,35,38,39,40,41,42,43,44,45,46,47,48,49,50,51,52,53,54,55,58,59,60,61,62,63,66,67,68,69,70,71,72,73,74,75,76,77,78,79,80,81,82,83,84,85,86,87,88,89,90,91,92,93,94,95,96,97,98,99,100,101,102,103,104,105,106,107,108,109,110,111,112,113,114,115,116,117,118,119,120,121,122,123,124,125,126,127,128,129,130,131,132,133,134,135,136,137,138,139,140,141,142,143,144,145,146,147,148,149,150,151,152,153,154,155,156,157,158,159,160,161,162,163,164,165,166,167,168,169,170,171,172,173,174,175,176,177,178,179,180,181,182,183,184,232,240,248,312,326,360) have mixed types. Specify dtype option on import or set low_memory=False.\n",
      "  pop = pd.read_csv(\"pop_zc.csv\")\n"
     ]
    },
    {
     "data": {
      "text/html": [
       "<div>\n",
       "<style scoped>\n",
       "    .dataframe tbody tr th:only-of-type {\n",
       "        vertical-align: middle;\n",
       "    }\n",
       "\n",
       "    .dataframe tbody tr th {\n",
       "        vertical-align: top;\n",
       "    }\n",
       "\n",
       "    .dataframe thead th {\n",
       "        text-align: right;\n",
       "    }\n",
       "</style>\n",
       "<table border=\"1\" class=\"dataframe\">\n",
       "  <thead>\n",
       "    <tr style=\"text-align: right;\">\n",
       "      <th></th>\n",
       "      <th>zipcode</th>\n",
       "      <th>population</th>\n",
       "    </tr>\n",
       "  </thead>\n",
       "  <tbody>\n",
       "    <tr>\n",
       "      <th>1</th>\n",
       "      <td>601</td>\n",
       "      <td>16834</td>\n",
       "    </tr>\n",
       "    <tr>\n",
       "      <th>2</th>\n",
       "      <td>602</td>\n",
       "      <td>37642</td>\n",
       "    </tr>\n",
       "    <tr>\n",
       "      <th>3</th>\n",
       "      <td>603</td>\n",
       "      <td>49075</td>\n",
       "    </tr>\n",
       "    <tr>\n",
       "      <th>4</th>\n",
       "      <td>606</td>\n",
       "      <td>5590</td>\n",
       "    </tr>\n",
       "    <tr>\n",
       "      <th>5</th>\n",
       "      <td>610</td>\n",
       "      <td>25542</td>\n",
       "    </tr>\n",
       "    <tr>\n",
       "      <th>...</th>\n",
       "      <td>...</td>\n",
       "      <td>...</td>\n",
       "    </tr>\n",
       "    <tr>\n",
       "      <th>33770</th>\n",
       "      <td>99923</td>\n",
       "      <td>25</td>\n",
       "    </tr>\n",
       "    <tr>\n",
       "      <th>33771</th>\n",
       "      <td>99925</td>\n",
       "      <td>920</td>\n",
       "    </tr>\n",
       "    <tr>\n",
       "      <th>33772</th>\n",
       "      <td>99926</td>\n",
       "      <td>1465</td>\n",
       "    </tr>\n",
       "    <tr>\n",
       "      <th>33773</th>\n",
       "      <td>99927</td>\n",
       "      <td>14</td>\n",
       "    </tr>\n",
       "    <tr>\n",
       "      <th>33774</th>\n",
       "      <td>99929</td>\n",
       "      <td>2133</td>\n",
       "    </tr>\n",
       "  </tbody>\n",
       "</table>\n",
       "<p>33774 rows × 2 columns</p>\n",
       "</div>"
      ],
      "text/plain": [
       "       zipcode  population\n",
       "1          601       16834\n",
       "2          602       37642\n",
       "3          603       49075\n",
       "4          606        5590\n",
       "5          610       25542\n",
       "...        ...         ...\n",
       "33770    99923          25\n",
       "33771    99925         920\n",
       "33772    99926        1465\n",
       "33773    99927          14\n",
       "33774    99929        2133\n",
       "\n",
       "[33774 rows x 2 columns]"
      ]
     },
     "execution_count": 21,
     "metadata": {},
     "output_type": "execute_result"
    }
   ],
   "source": [
    "pop = pd.read_csv(\"pop_zc.csv\")\n",
    "\n",
    "pop = pop[['NAME', 'DP05_0001E']].iloc[1:]\n",
    "pop.columns = ['zipcode', 'population']\n",
    "\n",
    "pop['zipcode'] = pop['zipcode'].apply(lambda x: int(x.split()[-1]))\n",
    "pop['population'] = pop['population'].astype(int)\n",
    "\n",
    "pop"
   ]
  },
  {
   "cell_type": "markdown",
   "metadata": {},
   "source": [
    "Merge all columns back to merged_df"
   ]
  },
  {
   "cell_type": "code",
   "execution_count": 22,
   "metadata": {},
   "outputs": [
    {
     "data": {
      "text/html": [
       "<div>\n",
       "<style scoped>\n",
       "    .dataframe tbody tr th:only-of-type {\n",
       "        vertical-align: middle;\n",
       "    }\n",
       "\n",
       "    .dataframe tbody tr th {\n",
       "        vertical-align: top;\n",
       "    }\n",
       "\n",
       "    .dataframe thead th {\n",
       "        text-align: right;\n",
       "    }\n",
       "</style>\n",
       "<table border=\"1\" class=\"dataframe\">\n",
       "  <thead>\n",
       "    <tr style=\"text-align: right;\">\n",
       "      <th></th>\n",
       "      <th>zipcode</th>\n",
       "      <th>crime_count</th>\n",
       "      <th>license_count</th>\n",
       "    </tr>\n",
       "  </thead>\n",
       "  <tbody>\n",
       "    <tr>\n",
       "      <th>0</th>\n",
       "      <td>91901</td>\n",
       "      <td>1283</td>\n",
       "      <td>10</td>\n",
       "    </tr>\n",
       "    <tr>\n",
       "      <th>1</th>\n",
       "      <td>91902</td>\n",
       "      <td>1038</td>\n",
       "      <td>6</td>\n",
       "    </tr>\n",
       "    <tr>\n",
       "      <th>2</th>\n",
       "      <td>91906</td>\n",
       "      <td>278</td>\n",
       "      <td>1</td>\n",
       "    </tr>\n",
       "    <tr>\n",
       "      <th>3</th>\n",
       "      <td>91910</td>\n",
       "      <td>9366</td>\n",
       "      <td>40</td>\n",
       "    </tr>\n",
       "    <tr>\n",
       "      <th>4</th>\n",
       "      <td>91911</td>\n",
       "      <td>8699</td>\n",
       "      <td>17</td>\n",
       "    </tr>\n",
       "    <tr>\n",
       "      <th>...</th>\n",
       "      <td>...</td>\n",
       "      <td>...</td>\n",
       "      <td>...</td>\n",
       "    </tr>\n",
       "    <tr>\n",
       "      <th>83</th>\n",
       "      <td>92131</td>\n",
       "      <td>1401</td>\n",
       "      <td>11</td>\n",
       "    </tr>\n",
       "    <tr>\n",
       "      <th>84</th>\n",
       "      <td>92139</td>\n",
       "      <td>2377</td>\n",
       "      <td>2</td>\n",
       "    </tr>\n",
       "    <tr>\n",
       "      <th>85</th>\n",
       "      <td>92154</td>\n",
       "      <td>7011</td>\n",
       "      <td>9</td>\n",
       "    </tr>\n",
       "    <tr>\n",
       "      <th>86</th>\n",
       "      <td>92173</td>\n",
       "      <td>4166</td>\n",
       "      <td>4</td>\n",
       "    </tr>\n",
       "    <tr>\n",
       "      <th>87</th>\n",
       "      <td>92182</td>\n",
       "      <td>27</td>\n",
       "      <td>1</td>\n",
       "    </tr>\n",
       "  </tbody>\n",
       "</table>\n",
       "<p>88 rows × 3 columns</p>\n",
       "</div>"
      ],
      "text/plain": [
       "    zipcode  crime_count  license_count\n",
       "0     91901         1283             10\n",
       "1     91902         1038              6\n",
       "2     91906          278              1\n",
       "3     91910         9366             40\n",
       "4     91911         8699             17\n",
       "..      ...          ...            ...\n",
       "83    92131         1401             11\n",
       "84    92139         2377              2\n",
       "85    92154         7011              9\n",
       "86    92173         4166              4\n",
       "87    92182           27              1\n",
       "\n",
       "[88 rows x 3 columns]"
      ]
     },
     "execution_count": 22,
     "metadata": {},
     "output_type": "execute_result"
    }
   ],
   "source": [
    "# recall merged_df\n",
    "merged_df"
   ]
  },
  {
   "cell_type": "code",
   "execution_count": 23,
   "metadata": {
    "scrolled": false
   },
   "outputs": [
    {
     "data": {
      "text/html": [
       "<div>\n",
       "<style scoped>\n",
       "    .dataframe tbody tr th:only-of-type {\n",
       "        vertical-align: middle;\n",
       "    }\n",
       "\n",
       "    .dataframe tbody tr th {\n",
       "        vertical-align: top;\n",
       "    }\n",
       "\n",
       "    .dataframe thead th {\n",
       "        text-align: right;\n",
       "    }\n",
       "</style>\n",
       "<table border=\"1\" class=\"dataframe\">\n",
       "  <thead>\n",
       "    <tr style=\"text-align: right;\">\n",
       "      <th></th>\n",
       "      <th>zipcode</th>\n",
       "      <th>crime_count</th>\n",
       "      <th>license_count</th>\n",
       "      <th>population</th>\n",
       "      <th>poverty</th>\n",
       "      <th>density</th>\n",
       "    </tr>\n",
       "  </thead>\n",
       "  <tbody>\n",
       "    <tr>\n",
       "      <th>0</th>\n",
       "      <td>91901</td>\n",
       "      <td>1283</td>\n",
       "      <td>10</td>\n",
       "      <td>18669</td>\n",
       "      <td>1622</td>\n",
       "      <td>92.6</td>\n",
       "    </tr>\n",
       "    <tr>\n",
       "      <th>1</th>\n",
       "      <td>91902</td>\n",
       "      <td>1038</td>\n",
       "      <td>6</td>\n",
       "      <td>17121</td>\n",
       "      <td>888</td>\n",
       "      <td>589.3</td>\n",
       "    </tr>\n",
       "    <tr>\n",
       "      <th>2</th>\n",
       "      <td>91906</td>\n",
       "      <td>278</td>\n",
       "      <td>1</td>\n",
       "      <td>4281</td>\n",
       "      <td>1103</td>\n",
       "      <td>15.7</td>\n",
       "    </tr>\n",
       "    <tr>\n",
       "      <th>3</th>\n",
       "      <td>91910</td>\n",
       "      <td>9366</td>\n",
       "      <td>40</td>\n",
       "      <td>76313</td>\n",
       "      <td>8299</td>\n",
       "      <td>2340.9</td>\n",
       "    </tr>\n",
       "    <tr>\n",
       "      <th>4</th>\n",
       "      <td>91911</td>\n",
       "      <td>8699</td>\n",
       "      <td>17</td>\n",
       "      <td>87799</td>\n",
       "      <td>9752</td>\n",
       "      <td>2663.4</td>\n",
       "    </tr>\n",
       "    <tr>\n",
       "      <th>...</th>\n",
       "      <td>...</td>\n",
       "      <td>...</td>\n",
       "      <td>...</td>\n",
       "      <td>...</td>\n",
       "      <td>...</td>\n",
       "      <td>...</td>\n",
       "    </tr>\n",
       "    <tr>\n",
       "      <th>83</th>\n",
       "      <td>92131</td>\n",
       "      <td>1401</td>\n",
       "      <td>11</td>\n",
       "      <td>35227</td>\n",
       "      <td>1155</td>\n",
       "      <td>352.0</td>\n",
       "    </tr>\n",
       "    <tr>\n",
       "      <th>84</th>\n",
       "      <td>92139</td>\n",
       "      <td>2377</td>\n",
       "      <td>2</td>\n",
       "      <td>34930</td>\n",
       "      <td>2894</td>\n",
       "      <td>3769.6</td>\n",
       "    </tr>\n",
       "    <tr>\n",
       "      <th>85</th>\n",
       "      <td>92154</td>\n",
       "      <td>7011</td>\n",
       "      <td>9</td>\n",
       "      <td>83758</td>\n",
       "      <td>8119</td>\n",
       "      <td>630.4</td>\n",
       "    </tr>\n",
       "    <tr>\n",
       "      <th>86</th>\n",
       "      <td>92173</td>\n",
       "      <td>4166</td>\n",
       "      <td>4</td>\n",
       "      <td>28609</td>\n",
       "      <td>4656</td>\n",
       "      <td>3838.9</td>\n",
       "    </tr>\n",
       "    <tr>\n",
       "      <th>87</th>\n",
       "      <td>92182</td>\n",
       "      <td>27</td>\n",
       "      <td>1</td>\n",
       "      <td>0</td>\n",
       "      <td>0</td>\n",
       "      <td>0.0</td>\n",
       "    </tr>\n",
       "  </tbody>\n",
       "</table>\n",
       "<p>88 rows × 6 columns</p>\n",
       "</div>"
      ],
      "text/plain": [
       "    zipcode  crime_count  license_count  population  poverty  density\n",
       "0     91901         1283             10       18669     1622     92.6\n",
       "1     91902         1038              6       17121      888    589.3\n",
       "2     91906          278              1        4281     1103     15.7\n",
       "3     91910         9366             40       76313     8299   2340.9\n",
       "4     91911         8699             17       87799     9752   2663.4\n",
       "..      ...          ...            ...         ...      ...      ...\n",
       "83    92131         1401             11       35227     1155    352.0\n",
       "84    92139         2377              2       34930     2894   3769.6\n",
       "85    92154         7011              9       83758     8119    630.4\n",
       "86    92173         4166              4       28609     4656   3838.9\n",
       "87    92182           27              1           0        0      0.0\n",
       "\n",
       "[88 rows x 6 columns]"
      ]
     },
     "execution_count": 23,
     "metadata": {},
     "output_type": "execute_result"
    }
   ],
   "source": [
    "merged_df = pd.merge(merged_df, pop, on='zipcode', how='inner')\n",
    "merged_df = pd.merge(merged_df, poverty, on='zipcode', how='inner')\n",
    "merged_df = pd.merge(merged_df, density, on='zipcode', how='inner')\n",
    "merged_df"
   ]
  },
  {
   "cell_type": "code",
   "execution_count": 24,
   "metadata": {
    "scrolled": false
   },
   "outputs": [
    {
     "name": "stderr",
     "output_type": "stream",
     "text": [
      "/tmp/ipykernel_5240/1032684787.py:4: SettingWithCopyWarning: \n",
      "A value is trying to be set on a copy of a slice from a DataFrame.\n",
      "Try using .loc[row_indexer,col_indexer] = value instead\n",
      "\n",
      "See the caveats in the documentation: https://pandas.pydata.org/pandas-docs/stable/user_guide/indexing.html#returning-a-view-versus-a-copy\n",
      "  merged_df['alcohol_density'] = merged_df['license_count'] / merged_df['population']\n",
      "/tmp/ipykernel_5240/1032684787.py:5: SettingWithCopyWarning: \n",
      "A value is trying to be set on a copy of a slice from a DataFrame.\n",
      "Try using .loc[row_indexer,col_indexer] = value instead\n",
      "\n",
      "See the caveats in the documentation: https://pandas.pydata.org/pandas-docs/stable/user_guide/indexing.html#returning-a-view-versus-a-copy\n",
      "  merged_df['crime_density'] = merged_df['crime_count'] / merged_df['population']\n",
      "/tmp/ipykernel_5240/1032684787.py:6: SettingWithCopyWarning: \n",
      "A value is trying to be set on a copy of a slice from a DataFrame.\n",
      "Try using .loc[row_indexer,col_indexer] = value instead\n",
      "\n",
      "See the caveats in the documentation: https://pandas.pydata.org/pandas-docs/stable/user_guide/indexing.html#returning-a-view-versus-a-copy\n",
      "  merged_df['poverty_rate'] = merged_df['poverty'] / merged_df['population']\n"
     ]
    }
   ],
   "source": [
    "merged_df.dropna(inplace=True)\n",
    "merged_df = merged_df[merged_df['population'] != 0]\n",
    "\n",
    "merged_df['alcohol_density'] = merged_df['license_count'] / merged_df['population']\n",
    "merged_df['crime_density'] = merged_df['crime_count'] / merged_df['population']\n",
    "merged_df['poverty_rate'] = merged_df['poverty'] / merged_df['population']\n",
    "\n",
    "# Filter out rows where 'alcohol_density' or 'crime_density' is NaN or 0\n",
    "merged_df = merged_df[(merged_df['alcohol_density'].notna()) & (merged_df['alcohol_density'] != 0)]\n",
    "merged_df = merged_df[(merged_df['crime_density'].notna()) & (merged_df['crime_density'] != 0)]\n",
    "\n",
    "# Apply log transformation\n",
    "merged_df['log_alcohol_density'] = merged_df['alcohol_density'].apply(lambda x: np.log(x) if x > 0 else np.nan)\n",
    "merged_df['log_crime_density'] = merged_df['crime_density'].apply(lambda x: np.log(x) if x > 0 else np.nan)\n",
    "merged_df['cbrt_pop_density'] = merged_df['density'].apply(lambda x: np.cbrt(x) if x > 0 else np.nan)"
   ]
  },
  {
   "cell_type": "markdown",
   "metadata": {},
   "source": [
    "Get finalized merged_df"
   ]
  },
  {
   "cell_type": "code",
   "execution_count": 25,
   "metadata": {
    "scrolled": false
   },
   "outputs": [
    {
     "data": {
      "text/html": [
       "<div>\n",
       "<style scoped>\n",
       "    .dataframe tbody tr th:only-of-type {\n",
       "        vertical-align: middle;\n",
       "    }\n",
       "\n",
       "    .dataframe tbody tr th {\n",
       "        vertical-align: top;\n",
       "    }\n",
       "\n",
       "    .dataframe thead th {\n",
       "        text-align: right;\n",
       "    }\n",
       "</style>\n",
       "<table border=\"1\" class=\"dataframe\">\n",
       "  <thead>\n",
       "    <tr style=\"text-align: right;\">\n",
       "      <th></th>\n",
       "      <th>zipcode</th>\n",
       "      <th>crime_count</th>\n",
       "      <th>license_count</th>\n",
       "      <th>population</th>\n",
       "      <th>poverty</th>\n",
       "      <th>density</th>\n",
       "      <th>alcohol_density</th>\n",
       "      <th>crime_density</th>\n",
       "      <th>poverty_rate</th>\n",
       "      <th>log_alcohol_density</th>\n",
       "      <th>log_crime_density</th>\n",
       "      <th>cbrt_pop_density</th>\n",
       "    </tr>\n",
       "  </thead>\n",
       "  <tbody>\n",
       "    <tr>\n",
       "      <th>0</th>\n",
       "      <td>91901</td>\n",
       "      <td>1283</td>\n",
       "      <td>10</td>\n",
       "      <td>18669</td>\n",
       "      <td>1622</td>\n",
       "      <td>92.6</td>\n",
       "      <td>0.000536</td>\n",
       "      <td>0.068724</td>\n",
       "      <td>0.086882</td>\n",
       "      <td>-7.532035</td>\n",
       "      <td>-2.677663</td>\n",
       "      <td>4.524150</td>\n",
       "    </tr>\n",
       "    <tr>\n",
       "      <th>1</th>\n",
       "      <td>91902</td>\n",
       "      <td>1038</td>\n",
       "      <td>6</td>\n",
       "      <td>17121</td>\n",
       "      <td>888</td>\n",
       "      <td>589.3</td>\n",
       "      <td>0.000350</td>\n",
       "      <td>0.060627</td>\n",
       "      <td>0.051866</td>\n",
       "      <td>-7.956302</td>\n",
       "      <td>-2.803010</td>\n",
       "      <td>8.383888</td>\n",
       "    </tr>\n",
       "    <tr>\n",
       "      <th>2</th>\n",
       "      <td>91906</td>\n",
       "      <td>278</td>\n",
       "      <td>1</td>\n",
       "      <td>4281</td>\n",
       "      <td>1103</td>\n",
       "      <td>15.7</td>\n",
       "      <td>0.000234</td>\n",
       "      <td>0.064938</td>\n",
       "      <td>0.257650</td>\n",
       "      <td>-8.361942</td>\n",
       "      <td>-2.734321</td>\n",
       "      <td>2.503994</td>\n",
       "    </tr>\n",
       "    <tr>\n",
       "      <th>3</th>\n",
       "      <td>91910</td>\n",
       "      <td>9366</td>\n",
       "      <td>40</td>\n",
       "      <td>76313</td>\n",
       "      <td>8299</td>\n",
       "      <td>2340.9</td>\n",
       "      <td>0.000524</td>\n",
       "      <td>0.122731</td>\n",
       "      <td>0.108749</td>\n",
       "      <td>-7.553719</td>\n",
       "      <td>-2.097757</td>\n",
       "      <td>13.277846</td>\n",
       "    </tr>\n",
       "    <tr>\n",
       "      <th>4</th>\n",
       "      <td>91911</td>\n",
       "      <td>8699</td>\n",
       "      <td>17</td>\n",
       "      <td>87799</td>\n",
       "      <td>9752</td>\n",
       "      <td>2663.4</td>\n",
       "      <td>0.000194</td>\n",
       "      <td>0.099079</td>\n",
       "      <td>0.111072</td>\n",
       "      <td>-8.549592</td>\n",
       "      <td>-2.311842</td>\n",
       "      <td>13.861561</td>\n",
       "    </tr>\n",
       "    <tr>\n",
       "      <th>...</th>\n",
       "      <td>...</td>\n",
       "      <td>...</td>\n",
       "      <td>...</td>\n",
       "      <td>...</td>\n",
       "      <td>...</td>\n",
       "      <td>...</td>\n",
       "      <td>...</td>\n",
       "      <td>...</td>\n",
       "      <td>...</td>\n",
       "      <td>...</td>\n",
       "      <td>...</td>\n",
       "      <td>...</td>\n",
       "    </tr>\n",
       "    <tr>\n",
       "      <th>82</th>\n",
       "      <td>92130</td>\n",
       "      <td>2297</td>\n",
       "      <td>14</td>\n",
       "      <td>57363</td>\n",
       "      <td>2570</td>\n",
       "      <td>1193.0</td>\n",
       "      <td>0.000244</td>\n",
       "      <td>0.040043</td>\n",
       "      <td>0.044802</td>\n",
       "      <td>-8.318097</td>\n",
       "      <td>-3.217796</td>\n",
       "      <td>10.605883</td>\n",
       "    </tr>\n",
       "    <tr>\n",
       "      <th>83</th>\n",
       "      <td>92131</td>\n",
       "      <td>1401</td>\n",
       "      <td>11</td>\n",
       "      <td>35227</td>\n",
       "      <td>1155</td>\n",
       "      <td>352.0</td>\n",
       "      <td>0.000312</td>\n",
       "      <td>0.039771</td>\n",
       "      <td>0.032787</td>\n",
       "      <td>-8.071673</td>\n",
       "      <td>-3.224627</td>\n",
       "      <td>7.060697</td>\n",
       "    </tr>\n",
       "    <tr>\n",
       "      <th>84</th>\n",
       "      <td>92139</td>\n",
       "      <td>2377</td>\n",
       "      <td>2</td>\n",
       "      <td>34930</td>\n",
       "      <td>2894</td>\n",
       "      <td>3769.6</td>\n",
       "      <td>0.000057</td>\n",
       "      <td>0.068050</td>\n",
       "      <td>0.082851</td>\n",
       "      <td>-9.767954</td>\n",
       "      <td>-2.687507</td>\n",
       "      <td>15.563183</td>\n",
       "    </tr>\n",
       "    <tr>\n",
       "      <th>85</th>\n",
       "      <td>92154</td>\n",
       "      <td>7011</td>\n",
       "      <td>9</td>\n",
       "      <td>83758</td>\n",
       "      <td>8119</td>\n",
       "      <td>630.4</td>\n",
       "      <td>0.000107</td>\n",
       "      <td>0.083705</td>\n",
       "      <td>0.096934</td>\n",
       "      <td>-9.138462</td>\n",
       "      <td>-2.480451</td>\n",
       "      <td>8.574433</td>\n",
       "    </tr>\n",
       "    <tr>\n",
       "      <th>86</th>\n",
       "      <td>92173</td>\n",
       "      <td>4166</td>\n",
       "      <td>4</td>\n",
       "      <td>28609</td>\n",
       "      <td>4656</td>\n",
       "      <td>3838.9</td>\n",
       "      <td>0.000140</td>\n",
       "      <td>0.145619</td>\n",
       "      <td>0.162746</td>\n",
       "      <td>-8.875182</td>\n",
       "      <td>-1.926765</td>\n",
       "      <td>15.657975</td>\n",
       "    </tr>\n",
       "  </tbody>\n",
       "</table>\n",
       "<p>87 rows × 12 columns</p>\n",
       "</div>"
      ],
      "text/plain": [
       "    zipcode  crime_count  license_count  population  poverty  density  \\\n",
       "0     91901         1283             10       18669     1622     92.6   \n",
       "1     91902         1038              6       17121      888    589.3   \n",
       "2     91906          278              1        4281     1103     15.7   \n",
       "3     91910         9366             40       76313     8299   2340.9   \n",
       "4     91911         8699             17       87799     9752   2663.4   \n",
       "..      ...          ...            ...         ...      ...      ...   \n",
       "82    92130         2297             14       57363     2570   1193.0   \n",
       "83    92131         1401             11       35227     1155    352.0   \n",
       "84    92139         2377              2       34930     2894   3769.6   \n",
       "85    92154         7011              9       83758     8119    630.4   \n",
       "86    92173         4166              4       28609     4656   3838.9   \n",
       "\n",
       "    alcohol_density  crime_density  poverty_rate  log_alcohol_density  \\\n",
       "0          0.000536       0.068724      0.086882            -7.532035   \n",
       "1          0.000350       0.060627      0.051866            -7.956302   \n",
       "2          0.000234       0.064938      0.257650            -8.361942   \n",
       "3          0.000524       0.122731      0.108749            -7.553719   \n",
       "4          0.000194       0.099079      0.111072            -8.549592   \n",
       "..              ...            ...           ...                  ...   \n",
       "82         0.000244       0.040043      0.044802            -8.318097   \n",
       "83         0.000312       0.039771      0.032787            -8.071673   \n",
       "84         0.000057       0.068050      0.082851            -9.767954   \n",
       "85         0.000107       0.083705      0.096934            -9.138462   \n",
       "86         0.000140       0.145619      0.162746            -8.875182   \n",
       "\n",
       "    log_crime_density  cbrt_pop_density  \n",
       "0           -2.677663          4.524150  \n",
       "1           -2.803010          8.383888  \n",
       "2           -2.734321          2.503994  \n",
       "3           -2.097757         13.277846  \n",
       "4           -2.311842         13.861561  \n",
       "..                ...               ...  \n",
       "82          -3.217796         10.605883  \n",
       "83          -3.224627          7.060697  \n",
       "84          -2.687507         15.563183  \n",
       "85          -2.480451          8.574433  \n",
       "86          -1.926765         15.657975  \n",
       "\n",
       "[87 rows x 12 columns]"
      ]
     },
     "execution_count": 25,
     "metadata": {},
     "output_type": "execute_result"
    }
   ],
   "source": [
    "merged_df"
   ]
  },
  {
   "cell_type": "code",
   "execution_count": 26,
   "metadata": {},
   "outputs": [],
   "source": [
    "merged_df.to_csv('merged_df.csv', index=False)"
   ]
  },
  {
   "cell_type": "code",
   "execution_count": 27,
   "metadata": {},
   "outputs": [
    {
     "name": "stdout",
     "output_type": "stream",
     "text": [
      "<class 'pandas.core.frame.DataFrame'>\n",
      "Index: 87 entries, 0 to 86\n",
      "Data columns (total 12 columns):\n",
      " #   Column               Non-Null Count  Dtype  \n",
      "---  ------               --------------  -----  \n",
      " 0   zipcode              87 non-null     int64  \n",
      " 1   crime_count          87 non-null     int64  \n",
      " 2   license_count        87 non-null     int64  \n",
      " 3   population           87 non-null     int64  \n",
      " 4   poverty              87 non-null     int64  \n",
      " 5   density              87 non-null     float64\n",
      " 6   alcohol_density      87 non-null     float64\n",
      " 7   crime_density        87 non-null     float64\n",
      " 8   poverty_rate         87 non-null     float64\n",
      " 9   log_alcohol_density  87 non-null     float64\n",
      " 10  log_crime_density    87 non-null     float64\n",
      " 11  cbrt_pop_density     87 non-null     float64\n",
      "dtypes: float64(7), int64(5)\n",
      "memory usage: 8.8 KB\n"
     ]
    }
   ],
   "source": [
    "merged_df.info()"
   ]
  },
  {
   "cell_type": "markdown",
   "metadata": {},
   "source": [
    "## EDA"
   ]
  },
  {
   "cell_type": "markdown",
   "metadata": {},
   "source": [
    "**Univariate Analysis**\n",
    "\n",
    "In the univariate analysis, we would analyze the distribution of alcohol_density and the distribution of crime_density separately.\n",
    "\n",
    "Firstly, let's check the descriptive statistics of two variables."
   ]
  },
  {
   "cell_type": "code",
   "execution_count": 28,
   "metadata": {},
   "outputs": [
    {
     "data": {
      "text/html": [
       "<div>\n",
       "<style scoped>\n",
       "    .dataframe tbody tr th:only-of-type {\n",
       "        vertical-align: middle;\n",
       "    }\n",
       "\n",
       "    .dataframe tbody tr th {\n",
       "        vertical-align: top;\n",
       "    }\n",
       "\n",
       "    .dataframe thead th {\n",
       "        text-align: right;\n",
       "    }\n",
       "</style>\n",
       "<table border=\"1\" class=\"dataframe\">\n",
       "  <thead>\n",
       "    <tr style=\"text-align: right;\">\n",
       "      <th></th>\n",
       "      <th>zipcode</th>\n",
       "      <th>crime_count</th>\n",
       "      <th>license_count</th>\n",
       "      <th>population</th>\n",
       "      <th>poverty</th>\n",
       "      <th>density</th>\n",
       "      <th>alcohol_density</th>\n",
       "      <th>crime_density</th>\n",
       "      <th>poverty_rate</th>\n",
       "      <th>log_alcohol_density</th>\n",
       "      <th>log_crime_density</th>\n",
       "      <th>cbrt_pop_density</th>\n",
       "    </tr>\n",
       "  </thead>\n",
       "  <tbody>\n",
       "    <tr>\n",
       "      <th>count</th>\n",
       "      <td>87.000000</td>\n",
       "      <td>87.000000</td>\n",
       "      <td>87.000000</td>\n",
       "      <td>87.000000</td>\n",
       "      <td>87.000000</td>\n",
       "      <td>87.000000</td>\n",
       "      <td>87.000000</td>\n",
       "      <td>87.000000</td>\n",
       "      <td>87.000000</td>\n",
       "      <td>87.000000</td>\n",
       "      <td>87.000000</td>\n",
       "      <td>87.000000</td>\n",
       "    </tr>\n",
       "    <tr>\n",
       "      <th>mean</th>\n",
       "      <td>92048.666667</td>\n",
       "      <td>3415.574713</td>\n",
       "      <td>18.448276</td>\n",
       "      <td>36486.816092</td>\n",
       "      <td>3800.804598</td>\n",
       "      <td>1536.390805</td>\n",
       "      <td>0.000698</td>\n",
       "      <td>0.098203</td>\n",
       "      <td>0.102575</td>\n",
       "      <td>-7.790633</td>\n",
       "      <td>-2.510859</td>\n",
       "      <td>10.172477</td>\n",
       "    </tr>\n",
       "    <tr>\n",
       "      <th>std</th>\n",
       "      <td>73.649653</td>\n",
       "      <td>3253.618131</td>\n",
       "      <td>24.219807</td>\n",
       "      <td>21842.011742</td>\n",
       "      <td>3281.178723</td>\n",
       "      <td>1283.419919</td>\n",
       "      <td>0.000771</td>\n",
       "      <td>0.074933</td>\n",
       "      <td>0.057432</td>\n",
       "      <td>1.065250</td>\n",
       "      <td>0.583219</td>\n",
       "      <td>4.158375</td>\n",
       "    </tr>\n",
       "    <tr>\n",
       "      <th>min</th>\n",
       "      <td>91901.000000</td>\n",
       "      <td>43.000000</td>\n",
       "      <td>1.000000</td>\n",
       "      <td>506.000000</td>\n",
       "      <td>0.000000</td>\n",
       "      <td>1.400000</td>\n",
       "      <td>0.000015</td>\n",
       "      <td>0.023634</td>\n",
       "      <td>0.000000</td>\n",
       "      <td>-11.104762</td>\n",
       "      <td>-3.745083</td>\n",
       "      <td>1.118689</td>\n",
       "    </tr>\n",
       "    <tr>\n",
       "      <th>25%</th>\n",
       "      <td>92008.500000</td>\n",
       "      <td>1387.000000</td>\n",
       "      <td>5.000000</td>\n",
       "      <td>19327.500000</td>\n",
       "      <td>1437.000000</td>\n",
       "      <td>403.250000</td>\n",
       "      <td>0.000215</td>\n",
       "      <td>0.052590</td>\n",
       "      <td>0.063176</td>\n",
       "      <td>-8.444893</td>\n",
       "      <td>-2.945238</td>\n",
       "      <td>7.386355</td>\n",
       "    </tr>\n",
       "    <tr>\n",
       "      <th>50%</th>\n",
       "      <td>92064.000000</td>\n",
       "      <td>2716.000000</td>\n",
       "      <td>12.000000</td>\n",
       "      <td>37050.000000</td>\n",
       "      <td>2898.000000</td>\n",
       "      <td>1228.100000</td>\n",
       "      <td>0.000365</td>\n",
       "      <td>0.077280</td>\n",
       "      <td>0.092649</td>\n",
       "      <td>-7.915376</td>\n",
       "      <td>-2.560317</td>\n",
       "      <td>10.708893</td>\n",
       "    </tr>\n",
       "    <tr>\n",
       "      <th>75%</th>\n",
       "      <td>92110.500000</td>\n",
       "      <td>4422.500000</td>\n",
       "      <td>22.000000</td>\n",
       "      <td>51121.000000</td>\n",
       "      <td>5026.500000</td>\n",
       "      <td>2377.250000</td>\n",
       "      <td>0.000914</td>\n",
       "      <td>0.119239</td>\n",
       "      <td>0.120764</td>\n",
       "      <td>-7.000290</td>\n",
       "      <td>-2.126626</td>\n",
       "      <td>13.346216</td>\n",
       "    </tr>\n",
       "    <tr>\n",
       "      <th>max</th>\n",
       "      <td>92173.000000</td>\n",
       "      <td>22374.000000</td>\n",
       "      <td>187.000000</td>\n",
       "      <td>87799.000000</td>\n",
       "      <td>16721.000000</td>\n",
       "      <td>4876.100000</td>\n",
       "      <td>0.004063</td>\n",
       "      <td>0.486127</td>\n",
       "      <td>0.371328</td>\n",
       "      <td>-5.505831</td>\n",
       "      <td>-0.721285</td>\n",
       "      <td>16.957332</td>\n",
       "    </tr>\n",
       "  </tbody>\n",
       "</table>\n",
       "</div>"
      ],
      "text/plain": [
       "            zipcode   crime_count  license_count    population       poverty  \\\n",
       "count     87.000000     87.000000      87.000000     87.000000     87.000000   \n",
       "mean   92048.666667   3415.574713      18.448276  36486.816092   3800.804598   \n",
       "std       73.649653   3253.618131      24.219807  21842.011742   3281.178723   \n",
       "min    91901.000000     43.000000       1.000000    506.000000      0.000000   \n",
       "25%    92008.500000   1387.000000       5.000000  19327.500000   1437.000000   \n",
       "50%    92064.000000   2716.000000      12.000000  37050.000000   2898.000000   \n",
       "75%    92110.500000   4422.500000      22.000000  51121.000000   5026.500000   \n",
       "max    92173.000000  22374.000000     187.000000  87799.000000  16721.000000   \n",
       "\n",
       "           density  alcohol_density  crime_density  poverty_rate  \\\n",
       "count    87.000000        87.000000      87.000000     87.000000   \n",
       "mean   1536.390805         0.000698       0.098203      0.102575   \n",
       "std    1283.419919         0.000771       0.074933      0.057432   \n",
       "min       1.400000         0.000015       0.023634      0.000000   \n",
       "25%     403.250000         0.000215       0.052590      0.063176   \n",
       "50%    1228.100000         0.000365       0.077280      0.092649   \n",
       "75%    2377.250000         0.000914       0.119239      0.120764   \n",
       "max    4876.100000         0.004063       0.486127      0.371328   \n",
       "\n",
       "       log_alcohol_density  log_crime_density  cbrt_pop_density  \n",
       "count            87.000000          87.000000         87.000000  \n",
       "mean             -7.790633          -2.510859         10.172477  \n",
       "std               1.065250           0.583219          4.158375  \n",
       "min             -11.104762          -3.745083          1.118689  \n",
       "25%              -8.444893          -2.945238          7.386355  \n",
       "50%              -7.915376          -2.560317         10.708893  \n",
       "75%              -7.000290          -2.126626         13.346216  \n",
       "max              -5.505831          -0.721285         16.957332  "
      ]
     },
     "execution_count": 28,
     "metadata": {},
     "output_type": "execute_result"
    }
   ],
   "source": [
    "merged_df.describe()"
   ]
  },
  {
   "cell_type": "code",
   "execution_count": 29,
   "metadata": {},
   "outputs": [
    {
     "data": {
      "image/png": "[encoded data removed]",
      "text/plain": [
       "<Figure size 1200x400 with 3 Axes>"
      ]
     },
     "metadata": {},
     "output_type": "display_data"
    }
   ],
   "source": [
    "fig, axs = plt.subplots(1, 3, figsize=(12, 4))\n",
    "\n",
    "merged_df['alcohol_density'].plot(kind='hist', bins=20, ax=axs[0], color='pink', edgecolor='white')\n",
    "axs[0].set_title('Distribution of Alcohol Density per capita')\n",
    "axs[0].set_xlabel('Alcohol Density per capita')\n",
    "\n",
    "merged_df['crime_density'].plot(kind='hist', bins=20, ax=axs[1], color='lightsteelblue', edgecolor='white')\n",
    "axs[1].set_title('Distribution of Crime Density per capita')\n",
    "axs[1].set_xlabel('Crime Density per capita')\n",
    "\n",
    "merged_df['density'].plot(kind='hist', bins=20, ax=axs[2], color='lightgreen', edgecolor='white')\n",
    "axs[2].set_title('Distribution of Population Density')\n",
    "axs[2].set_xlabel('Population Density')\n",
    "\n",
    "plt.tight_layout()\n",
    "plt.show()"
   ]
  },
  {
   "cell_type": "markdown",
   "metadata": {},
   "source": [
    "After transformed, the distribution is relatively normal distributed."
   ]
  },
  {
   "cell_type": "code",
   "execution_count": 30,
   "metadata": {},
   "outputs": [
    {
     "data": {
      "image/png": "[encoded data removed]",
      "text/plain": [
       "<Figure size 1200x400 with 3 Axes>"
      ]
     },
     "metadata": {},
     "output_type": "display_data"
    }
   ],
   "source": [
    "fig, axs = plt.subplots(1, 3, figsize=(12, 4))\n",
    "\n",
    "merged_df['log_alcohol_density'].plot(kind='hist', bins=20, ax=axs[0], color='pink', edgecolor='white')\n",
    "axs[0].set_title('Distribution of Log Alcohol Density per capita')\n",
    "\n",
    "merged_df['log_crime_density'].plot(kind='hist', bins=20, ax=axs[1], color='lightsteelblue', edgecolor='white')\n",
    "axs[1].set_title('Distribution of Log Crime Density per capita')\n",
    "\n",
    "merged_df['cbrt_pop_density'].plot(kind='hist', bins=20, ax=axs[2], color='lightgreen', edgecolor='white')\n",
    "axs[2].set_title('Distribution of Cube Root Population Density')\n",
    "\n",
    "plt.tight_layout()\n",
    "plt.show()"
   ]
  },
  {
   "cell_type": "code",
   "execution_count": 31,
   "metadata": {},
   "outputs": [
    {
     "data": {
      "image/png": "[encoded data removed]",
      "text/plain": [
       "<Figure size 1200x400 with 3 Axes>"
      ]
     },
     "metadata": {},
     "output_type": "display_data"
    }
   ],
   "source": [
    "fig, axs = plt.subplots(1, 3, figsize=(12, 4))\n",
    "\n",
    "merged_df['log_alcohol_density'].plot(kind='box', vert = False, ax=axs[0], color='pink')\n",
    "axs[0].set_title('Boxplot of Log Alcohol Density')\n",
    "\n",
    "merged_df['log_crime_density'].plot(kind='box', vert = False, ax=axs[1], color='lightsteelblue')\n",
    "axs[1].set_title('Boxplot of Log Crime Density')\n",
    "\n",
    "merged_df['cbrt_pop_density'].plot(kind='box', vert = False, ax=axs[2], color='lightgreen')\n",
    "axs[2].set_title('Boxplot of Cube Root Population Density')\n",
    "\n",
    "plt.tight_layout()\n",
    "plt.show()"
   ]
  },
  {
   "cell_type": "code",
   "execution_count": null,
   "metadata": {},
   "outputs": [],
   "source": []
  },
  {
   "cell_type": "markdown",
   "metadata": {},
   "source": [
    "**Bivariate Analysis**\n",
    "\n",
    "explore relationship between alcohol_density and crime_density"
   ]
  },
  {
   "cell_type": "code",
   "execution_count": 32,
   "metadata": {},
   "outputs": [
    {
     "data": {
      "text/plain": [
       "<seaborn.axisgrid.PairGrid at 0x7faabdce44f0>"
      ]
     },
     "execution_count": 32,
     "metadata": {},
     "output_type": "execute_result"
    },
    {
     "data": {
      "image/png": "[encoded data removed]",
      "text/plain": [
       "<Figure size 840x700 with 6 Axes>"
      ]
     },
     "metadata": {},
     "output_type": "display_data"
    }
   ],
   "source": [
    "sns.set(style=\"white\")\n",
    "sns.pairplot(merged_df[['alcohol_density', 'crime_density']], kind = 'scatter', height=3.5, aspect=1.2)"
   ]
  },
  {
   "cell_type": "code",
   "execution_count": 33,
   "metadata": {
    "colab": {
     "base_uri": "https://localhost:8080/",
     "height": 564
    },
    "id": "5OAgyVSICo_7",
    "outputId": "01d26ab5-78cd-4423-c424-58d40dc2bf67"
   },
   "outputs": [
    {
     "data": {
      "image/png": "[encoded data removed]",
      "text/plain": [
       "<Figure size 640x480 with 1 Axes>"
      ]
     },
     "metadata": {},
     "output_type": "display_data"
    }
   ],
   "source": [
    "sns.scatterplot(data=merged_df, x='alcohol_density', y='crime_density', hue='density')\n",
    "\n",
    "plt.xlabel('License density per capita')\n",
    "plt.ylabel('Crime density per capita')\n",
    "plt.title('Scatterplot of License density vs Crime density')\n",
    "plt.grid(True)\n",
    "plt.legend(loc='upper right')\n",
    "plt.show()"
   ]
  },
  {
   "cell_type": "markdown",
   "metadata": {},
   "source": [
    "## Inferential Analysis: OLS\n",
    "\n",
    "Even though the relationship is not apparent in scatterplot visualization, it is necessary to assess the results of a linear regression to determine whether there is a statistically significant relationship between log alcohol density and crime desntiy per capita."
   ]
  },
  {
   "cell_type": "markdown",
   "metadata": {},
   "source": [
    "### model"
   ]
  },
  {
   "cell_type": "code",
   "execution_count": 34,
   "metadata": {},
   "outputs": [
    {
     "name": "stdout",
     "output_type": "stream",
     "text": [
      "                            OLS Regression Results                            \n",
      "==============================================================================\n",
      "Dep. Variable:          crime_density   R-squared:                       0.564\n",
      "Model:                            OLS   Adj. R-squared:                  0.554\n",
      "Method:                 Least Squares   F-statistic:                     54.36\n",
      "Date:                Mon, 03 Jun 2024   Prob (F-statistic):           7.14e-16\n",
      "Time:                        11:19:43   Log-Likelihood:                 138.61\n",
      "No. Observations:                  87   AIC:                            -271.2\n",
      "Df Residuals:                      84   BIC:                            -263.8\n",
      "Df Model:                           2                                         \n",
      "Covariance Type:            nonrobust                                         \n",
      "===================================================================================\n",
      "                      coef    std err          t      P>|t|      [0.025      0.975]\n",
      "-----------------------------------------------------------------------------------\n",
      "Intercept           0.0186      0.010      1.855      0.067      -0.001       0.039\n",
      "alcohol_density    66.8931      7.025      9.522      0.000      52.922      80.864\n",
      "density          2.142e-05   4.22e-06      5.072      0.000     1.3e-05    2.98e-05\n",
      "==============================================================================\n",
      "Omnibus:                       36.522   Durbin-Watson:                   1.909\n",
      "Prob(Omnibus):                  0.000   Jarque-Bera (JB):              166.202\n",
      "Skew:                           1.165   Prob(JB):                     8.12e-37\n",
      "Kurtosis:                       9.358   Cond. No.                     2.61e+06\n",
      "==============================================================================\n",
      "\n",
      "Notes:\n",
      "[1] Standard Errors assume that the covariance matrix of the errors is correctly specified.\n",
      "[2] The condition number is large, 2.61e+06. This might indicate that there are\n",
      "strong multicollinearity or other numerical problems.\n"
     ]
    }
   ],
   "source": [
    "full_model = smf.ols('crime_density ~ alcohol_density + density', data=merged_df).fit()\n",
    "print(full_model.summary())"
   ]
  },
  {
   "cell_type": "markdown",
   "metadata": {},
   "source": [
    "Explanation:\n",
    "\n",
    "\n",
    "1. 0.0186 represents the baseline level of `crime_density` when both alcohol_density and density are zero. It suggests that if there were no alcohol outlets and population density were negligible, the crime_density would still be around 0.0186 per capita.\n",
    "\n",
    "2. For each unit increase in `alcohol_density`, crime_density is expected to increase by 66.8931, holding population density constant. This suggests a strong positive relationship between the presence of alcohol outlets (alcohol_density) and crime density. In practical terms, areas with more alcohol outlets tend to experience higher crime densities.\n",
    "\n",
    "3. For each one-unit increase in `density`, crime_density increases by 0.00002142 units. While the coefficient is small, it shows that population density has a positive relationship with crime density. As more people are packed into a given area, crime density slightly increases, even if the effect is relatively modest compared to alcohol_density.\n",
    "\n",
    "4. R-squared: 0.564: This indicates that approximately 56.4% of the variability in crime_density can be explained by the model."
   ]
  },
  {
   "cell_type": "markdown",
   "metadata": {},
   "source": [
    "### Diagnostics: check OLS assumptions"
   ]
  },
  {
   "cell_type": "markdown",
   "metadata": {},
   "source": [
    "1. Linearity\n",
    "\n",
    "Since residual plot show random scattering around zero for different values of the independent variable, thus the linearity assumption holds."
   ]
  },
  {
   "cell_type": "code",
   "execution_count": 35,
   "metadata": {},
   "outputs": [
    {
     "data": {
      "image/png": "[encoded data removed]",
      "text/plain": [
       "<Figure size 640x480 with 1 Axes>"
      ]
     },
     "metadata": {},
     "output_type": "display_data"
    }
   ],
   "source": [
    "merged_df['residuals'] = full_model.resid\n",
    "\n",
    "sns.scatterplot(data=merged_df, x='alcohol_density', y='residuals')\n",
    "plt.title('Residuals vs Alcohol Density')\n",
    "plt.xlabel('Alcohol Density')\n",
    "plt.ylabel('Residuals')\n",
    "plt.axhline(y=0, color='r', linestyle='--') \n",
    "plt.show()"
   ]
  },
  {
   "cell_type": "code",
   "execution_count": 36,
   "metadata": {},
   "outputs": [
    {
     "data": {
      "image/png": "[encoded data removed]",
      "text/plain": [
       "<Figure size 640x480 with 1 Axes>"
      ]
     },
     "metadata": {},
     "output_type": "display_data"
    }
   ],
   "source": [
    "sns.scatterplot(data=merged_df, x='density', y='residuals')\n",
    "plt.title('Residuals vs Population Density')\n",
    "plt.xlabel('Population Density')\n",
    "plt.ylabel('Residuals')\n",
    "plt.axhline(y=0, color='r', linestyle='--') \n",
    "plt.show()"
   ]
  },
  {
   "cell_type": "markdown",
   "metadata": {},
   "source": [
    "2. **Normality** <br>\n",
    "\n",
    "This Q-Q plot with points closely following the diagonal line indicates that the data is likely normally distributed."
   ]
  },
  {
   "cell_type": "code",
   "execution_count": 37,
   "metadata": {},
   "outputs": [
    {
     "data": {
      "image/png": "[encoded data removed]",
      "text/plain": [
       "<Figure size 640x480 with 1 Axes>"
      ]
     },
     "metadata": {},
     "output_type": "display_data"
    }
   ],
   "source": [
    "residuals = standardize(full_model.resid)\n",
    "sm.qqplot(residuals, line='45', fit=True)\n",
    "plt.title('Q-Q Plot of Residuals')\n",
    "plt.show()"
   ]
  },
  {
   "cell_type": "markdown",
   "metadata": {},
   "source": [
    "3. **Heteroscedasticity** <br>\n",
    "\n",
    "Heteroscedasticity occurs when the variance of the errors in a regression model is not constant across observations. The identical assumption on the $\\epsilon_i$ requires that the errors have constant variance. This can be checked by plotting the residuals against the predicted values of $y$. The residual plot does not show strong pattern, indicating homoscedasticity (constant variance of errors), and therefore the assumption holds."
   ]
  },
  {
   "cell_type": "code",
   "execution_count": 38,
   "metadata": {},
   "outputs": [
    {
     "data": {
      "image/png": "[encoded data removed]",
      "text/plain": [
       "<Figure size 640x480 with 1 Axes>"
      ]
     },
     "metadata": {},
     "output_type": "display_data"
    }
   ],
   "source": [
    "fitted_values = full_model.fittedvalues\n",
    "\n",
    "sns.residplot(x=fitted_values, y=residuals)\n",
    "plt.xlabel('Fitted Values')\n",
    "plt.ylabel('Standardize Residuals')\n",
    "plt.title('Standardize Residuals vs. Fitted Values')\n",
    "plt.axhline(y=0, color='r', linestyle='--')\n",
    "plt.show()"
   ]
  },
  {
   "cell_type": "markdown",
   "metadata": {},
   "source": [
    "4. **Independence** <br>\n",
    "The assumption of independence, which means that the residuals (errors) are independent of each other, appears to be violated. The Durbin-Watson statistic of 1.909 is close to 2, suggesting there is **no strong autocorrelation** in the residuals.\n",
    "\n",
    "The independence assumption on the $\\epsilon_i$ requires that the errors are all independent. This can be checked by plotting the ACF functions for the residuals. We can see only one significant spike outside the confidence bands, this indicates **no strong autocorrelation** in the residuals."
   ]
  },
  {
   "cell_type": "code",
   "execution_count": 39,
   "metadata": {},
   "outputs": [
    {
     "data": {
      "image/png": "[encoded data removed]",
      "text/plain": [
       "<Figure size 640x480 with 1 Axes>"
      ]
     },
     "metadata": {},
     "output_type": "display_data"
    }
   ],
   "source": [
    "plot_acf(residuals)\n",
    "plt.title('ACF of Model Residuals')\n",
    "plt.show()"
   ]
  },
  {
   "cell_type": "markdown",
   "metadata": {},
   "source": [
    "5. **Multicollinearity**<br>\n",
    "The Variance Inflation Factor (VIF) is a measure used to detect multicollinearity in regression models. A VIF value greater than 10 is often considered indicative of high multicollinearity, which can affect the stability and interpretability of the regression coefficients.\n",
    "\n",
    "All variables have VIF values below 5. This indicates that they do not have severe multicollinearity issues."
   ]
  },
  {
   "cell_type": "code",
   "execution_count": 40,
   "metadata": {},
   "outputs": [
    {
     "name": "stdout",
     "output_type": "stream",
     "text": [
      "           feature       VIF\n",
      "0            const  3.491031\n",
      "1  alcohol_density  1.007839\n",
      "2          density  1.007839\n"
     ]
    }
   ],
   "source": [
    "X = merged_df[['alcohol_density', 'density']]\n",
    "\n",
    "# add a constant term for the intercept\n",
    "X = sm.add_constant(X)\n",
    "\n",
    "# calculate VIF for each explanatory variable\n",
    "vif_data = pd.DataFrame()\n",
    "vif_data[\"feature\"] = X.columns\n",
    "vif_data[\"VIF\"] = [variance_inflation_factor(X.values, i) for i in range(X.shape[1])]\n",
    "\n",
    "# Display the VIF values\n",
    "print(vif_data)"
   ]
  },
  {
   "cell_type": "code",
   "execution_count": null,
   "metadata": {},
   "outputs": [],
   "source": []
  },
  {
   "cell_type": "markdown",
   "metadata": {},
   "source": [
    "### Hypothesis Test"
   ]
  },
  {
   "cell_type": "markdown",
   "metadata": {},
   "source": [
    "We apply a permutation test to further explore the statistical significant relationship between alcohol_density per capita and crime_density per capita among different areas in San Diego.\n",
    "\n",
    "For this analysis, we will categorize areas based on alcohol_density. We define an area as high_alcohol-densed if its alcohol_density greater than the median alchol_density value of all areas. We will utilize a permutation test to assess the differences in average crime_density between high-densed regions and low-densed regions.\n",
    "\n",
    "**Null Hypothesis (H0)**:\n",
    "Every region has an identical crime density, regardless of its alcohol density level.\n",
    "\n",
    "**Alternative Hypothesis (H1)**:\n",
    "Areas characterized by high alcohol density are anticipated to have a higher crime density. This expectation is grounded in the hypothesis that increased availability and consumption of alcohol can lead to higher incidences of behaviors and situations that contribute to crime, such as impaired judgment, increased aggression, and social disorder. Additionally, areas with a high density of alcohol-serving establishments may attract larger crowds and have higher levels of social interaction, which can increase the likelihood of criminal activities.\n",
    "\n",
    "Test statistic: Difference in average crime density.\n",
    "\n",
    "Significant level: 0.05"
   ]
  },
  {
   "cell_type": "code",
   "execution_count": 41,
   "metadata": {},
   "outputs": [
    {
     "name": "stdout",
     "output_type": "stream",
     "text": [
      "P-value: 0.0\n",
      "Decision: We reject the null hypothesis.\n"
     ]
    }
   ],
   "source": [
    "df_hp = merged_df.copy()\n",
    "median_al = df_hp['alcohol_density'].median()\n",
    "df_hp['high_densed'] = df_hp['alcohol_density'] > median_al\n",
    "\n",
    "observed_diff = df_hp[df_hp['high_densed']]['crime_density'].mean() - df_hp[~df_hp['high_densed']]['crime_density'].mean()\n",
    "\n",
    "perm_diffs = []\n",
    "for _ in range(1000):\n",
    "    df_hp['shuffled_high_densed'] = np.random.permutation(df_hp['high_densed'])\n",
    "    \n",
    "    mean_high = df_hp[df_hp['shuffled_high_densed']]['crime_density'].mean()\n",
    "    mean_low = df_hp[~df_hp['shuffled_high_densed']]['crime_density'].mean()\n",
    "    \n",
    "    perm_diffs.append(mean_high - mean_low)\n",
    "\n",
    "perm_diffs = np.array(perm_diffs)\n",
    "p_value = np.mean(perm_diffs >= observed_diff)\n",
    "\n",
    "alpha = 0.05\n",
    "if p_value < alpha:\n",
    "    decision = \"reject the null hypothesis\"\n",
    "else:\n",
    "    decision = \"fail to reject the null hypothesis\"\n",
    "\n",
    "print(f'P-value: {p_value}')\n",
    "print(f'Decision: We {decision}.')"
   ]
  },
  {
   "cell_type": "code",
   "execution_count": 42,
   "metadata": {},
   "outputs": [
    {
     "data": {
      "image/png": "[encoded data removed]",
      "text/plain": [
       "<Figure size 640x480 with 1 Axes>"
      ]
     },
     "metadata": {},
     "output_type": "display_data"
    }
   ],
   "source": [
    "plt.hist(perm_diffs, bins=30, alpha=0.7, color='blue', edgecolor='black')\n",
    "plt.axvline(observed_diff, color='red', linestyle='dashed', linewidth=2)\n",
    "plt.xlabel('Difference in Means')\n",
    "plt.ylabel('Frequency')\n",
    "plt.title('Permutation Test: Difference in Crime Density Means')\n",
    "plt.show()"
   ]
  },
  {
   "cell_type": "code",
   "execution_count": null,
   "metadata": {},
   "outputs": [],
   "source": []
  },
  {
   "cell_type": "code",
   "execution_count": null,
   "metadata": {},
   "outputs": [],
   "source": []
  },
  {
   "cell_type": "code",
   "execution_count": null,
   "metadata": {},
   "outputs": [],
   "source": []
  },
  {
   "cell_type": "code",
   "execution_count": 43,
   "metadata": {},
   "outputs": [
    {
     "name": "stdout",
     "output_type": "stream",
     "text": [
      "                            OLS Regression Results                            \n",
      "==============================================================================\n",
      "Dep. Variable:          crime_density   R-squared:                       0.478\n",
      "Model:                            OLS   Adj. R-squared:                  0.465\n",
      "Method:                 Least Squares   F-statistic:                     38.45\n",
      "Date:                Mon, 03 Jun 2024   Prob (F-statistic):           1.40e-12\n",
      "Time:                        11:19:46   Log-Likelihood:                 130.76\n",
      "No. Observations:                  87   AIC:                            -255.5\n",
      "Df Residuals:                      84   BIC:                            -248.1\n",
      "Df Model:                           2                                         \n",
      "Covariance Type:            nonrobust                                         \n",
      "===================================================================================\n",
      "                      coef    std err          t      P>|t|      [0.025      0.975]\n",
      "-----------------------------------------------------------------------------------\n",
      "Intercept           0.0251      0.013      1.922      0.058      -0.001       0.051\n",
      "alcohol_density    63.0106      7.664      8.222      0.000      47.771      78.250\n",
      "poverty_rate        0.2839      0.103      2.758      0.007       0.079       0.489\n",
      "==============================================================================\n",
      "Omnibus:                       19.850   Durbin-Watson:                   1.680\n",
      "Prob(Omnibus):                  0.000   Jarque-Bera (JB):               60.827\n",
      "Skew:                           0.624   Prob(JB):                     6.19e-14\n",
      "Kurtosis:                       6.902   Cond. No.                     1.31e+03\n",
      "==============================================================================\n",
      "\n",
      "Notes:\n",
      "[1] Standard Errors assume that the covariance matrix of the errors is correctly specified.\n",
      "[2] The condition number is large, 1.31e+03. This might indicate that there are\n",
      "strong multicollinearity or other numerical problems.\n"
     ]
    }
   ],
   "source": [
    "full_model = smf.ols('crime_density ~ alcohol_density + poverty_rate', data=merged_df).fit()\n",
    "print(full_model.summary())"
   ]
  },
  {
   "cell_type": "code",
   "execution_count": null,
   "metadata": {},
   "outputs": [],
   "source": []
  }
 ],
 "metadata": {
  "colab": {
   "provenance": []
  },
  "kernelspec": {
   "display_name": "Python 3 (ipykernel)",
   "language": "python",
   "name": "python3"
  },
  "language_info": {
   "codemirror_mode": {
    "name": "ipython",
    "version": 3
   },
   "file_extension": ".py",
   "mimetype": "text/x-python",
   "name": "python",
   "nbconvert_exporter": "python",
   "pygments_lexer": "ipython3",
   "version": "3.8.15"
  }
 },
 "nbformat": 4,
 "nbformat_minor": 1
}
