{
 "cells": [
  {
   "cell_type": "markdown",
   "metadata": {
    "id": "MrSavkFnHZp6"
   },
   "source": [
    "# **POLI170A Project**"
   ]
  },
  {
   "cell_type": "markdown",
   "metadata": {
    "id": "HdpAP0_8Hq1N"
   },
   "source": [
    "Research question: Does increased availability of on-sale alcohol, specifically Type 41 (On-Sale Beer and Wine – Public) and Type 47 (On-Sale General – Eating), lead to higher rates of crime, such as assault or robbery, in communities in San Diego County?"
   ]
  },
  {
   "cell_type": "markdown",
   "metadata": {
    "id": "gOB99OY0G_yD"
   },
   "source": [
    "# Setup"
   ]
  },
  {
   "cell_type": "code",
   "execution_count": 1,
   "metadata": {
    "colab": {
     "base_uri": "https://localhost:8080/"
    },
    "id": "P-ubiHQHG6Iv",
    "outputId": "35322e38-40f9-4d85-b44a-154451cf18c3"
   },
   "outputs": [],
   "source": [
    "import pandas as pd\n",
    "import numpy as np\n",
    "\n",
    "import plotly.express as px\n",
    "import seaborn as sns\n",
    "import matplotlib.pyplot as plt\n",
    "\n",
    "import scipy.stats as stats\n",
    "import statsmodels.api as sm\n",
    "import statsmodels.formula.api as smf\n",
    "from statsmodels.graphics.tsaplots import plot_acf\n",
    "\n",
    "from statsmodels.stats.outliers_influence import variance_inflation_factor\n",
    "\n",
    "def standardize(X):\n",
    "    return (X - X.mean()) / X.std()"
   ]
  },
  {
   "cell_type": "code",
   "execution_count": 2,
   "metadata": {
    "id": "sm3b-yPsSk_V"
   },
   "outputs": [],
   "source": [
    "zipcode_df = pd.read_csv(\"zipcode.csv\", header = None)\n",
    "zipcode_arr = zipcode_df[0].values"
   ]
  },
  {
   "cell_type": "markdown",
   "metadata": {
    "id": "5EWNjvJsJWyx"
   },
   "source": [
    "# Alcohol Dataset"
   ]
  },
  {
   "cell_type": "markdown",
   "metadata": {
    "id": "nWiAmMR-P-C8"
   },
   "source": [
    "Records of alcohol licenses in california, from the CA ABC daily file, with improvements to geographic identifiers, and acompilation of areal densities of on-sale and off-sale licenses in San Diego county.\n",
    "\n",
    "* ca_abc_licenses. California Alcohol Beverage Control License records\n",
    "* sd_abc_density. Areal density of on-sale and off-sale licenses in San Diego county"
   ]
  },
  {
   "cell_type": "code",
   "execution_count": 3,
   "metadata": {
    "colab": {
     "base_uri": "https://localhost:8080/"
    },
    "id": "Nn17BM0Qback",
    "outputId": "769346c2-b0cd-48de-bdbb-6891410131ba"
   },
   "outputs": [
    {
     "name": "stderr",
     "output_type": "stream",
     "text": [
      "/tmp/ipykernel_1843/1685933328.py:2: DtypeWarning: Columns (10,11) have mixed types. Specify dtype option on import or set low_memory=False.\n",
      "  ca_licenses =  pd.read_csv(\"ABC_WeeklyDataExport.csv\", skiprows=1)\n"
     ]
    }
   ],
   "source": [
    "# most update dataset from website\n",
    "ca_licenses =  pd.read_csv(\"ABC_WeeklyDataExport.csv\", skiprows=1)\n",
    "\n",
    "# sd_abc_density_df =  pd.read_csv('http://library.metatab.org/abc.ca.gov-licenses-2.1.2/data/sd_abc_density.csv')"
   ]
  },
  {
   "cell_type": "markdown",
   "metadata": {
    "id": "WBui3K2ObxUt"
   },
   "source": [
    "Briefly browse dataset"
   ]
  },
  {
   "cell_type": "code",
   "execution_count": 4,
   "metadata": {
    "colab": {
     "base_uri": "https://localhost:8080/",
     "height": 349
    },
    "id": "HrWS0dnyKIhC",
    "outputId": "4010cdf6-c5b4-4615-a617-ef1f360b6c25"
   },
   "outputs": [
    {
     "data": {
      "text/html": [
       "<div>\n",
       "<style scoped>\n",
       "    .dataframe tbody tr th:only-of-type {\n",
       "        vertical-align: middle;\n",
       "    }\n",
       "\n",
       "    .dataframe tbody tr th {\n",
       "        vertical-align: top;\n",
       "    }\n",
       "\n",
       "    .dataframe thead th {\n",
       "        text-align: right;\n",
       "    }\n",
       "</style>\n",
       "<table border=\"1\" class=\"dataframe\">\n",
       "  <thead>\n",
       "    <tr style=\"text-align: right;\">\n",
       "      <th></th>\n",
       "      <th>License Type</th>\n",
       "      <th>File Number</th>\n",
       "      <th>Lic or App</th>\n",
       "      <th>Type Status</th>\n",
       "      <th>Type Orig Iss Date</th>\n",
       "      <th>Expir Date</th>\n",
       "      <th>Fee Codes</th>\n",
       "      <th>Dup Counts</th>\n",
       "      <th>Master Ind</th>\n",
       "      <th>Term in # of Months</th>\n",
       "      <th>...</th>\n",
       "      <th>Prem State</th>\n",
       "      <th>Prem Zip</th>\n",
       "      <th>DBA Name</th>\n",
       "      <th>Mail Addr 1</th>\n",
       "      <th>Mail Addr 2</th>\n",
       "      <th>Mail City</th>\n",
       "      <th>Mail State</th>\n",
       "      <th>Mail Zip</th>\n",
       "      <th>Prem County</th>\n",
       "      <th>Prem Census Tract #</th>\n",
       "    </tr>\n",
       "  </thead>\n",
       "  <tbody>\n",
       "    <tr>\n",
       "      <th>0</th>\n",
       "      <td>77</td>\n",
       "      <td>561256</td>\n",
       "      <td>LIC</td>\n",
       "      <td>ACTIVE</td>\n",
       "      <td>01-DEC-2015</td>\n",
       "      <td>30-NOV-2024</td>\n",
       "      <td>P40</td>\n",
       "      <td>001</td>\n",
       "      <td>N</td>\n",
       "      <td>12</td>\n",
       "      <td>...</td>\n",
       "      <td>CA</td>\n",
       "      <td>91762-3644</td>\n",
       "      <td>FIREWATER BAR</td>\n",
       "      <td></td>\n",
       "      <td></td>\n",
       "      <td></td>\n",
       "      <td></td>\n",
       "      <td></td>\n",
       "      <td>SAN BERNARDINO</td>\n",
       "      <td>0010.02</td>\n",
       "    </tr>\n",
       "    <tr>\n",
       "      <th>1</th>\n",
       "      <td>48</td>\n",
       "      <td>526584</td>\n",
       "      <td>LIC</td>\n",
       "      <td>ACTIVE</td>\n",
       "      <td>08-JAN-2013</td>\n",
       "      <td>31-DEC-2024</td>\n",
       "      <td>P40</td>\n",
       "      <td>001</td>\n",
       "      <td>N</td>\n",
       "      <td>12</td>\n",
       "      <td>...</td>\n",
       "      <td>CA</td>\n",
       "      <td>94578-2815</td>\n",
       "      <td>CLUB CALIENTE</td>\n",
       "      <td>PO BOX 3541</td>\n",
       "      <td></td>\n",
       "      <td>SAN LEANDRO</td>\n",
       "      <td>CA</td>\n",
       "      <td>94578-0541</td>\n",
       "      <td>ALAMEDA</td>\n",
       "      <td>4331.03</td>\n",
       "    </tr>\n",
       "    <tr>\n",
       "      <th>2</th>\n",
       "      <td>77</td>\n",
       "      <td>518989</td>\n",
       "      <td>LIC</td>\n",
       "      <td>ACTIVE</td>\n",
       "      <td>21-JUN-2012</td>\n",
       "      <td>31-MAY-2024</td>\n",
       "      <td>P40</td>\n",
       "      <td>001</td>\n",
       "      <td>N</td>\n",
       "      <td>12</td>\n",
       "      <td>...</td>\n",
       "      <td>CA</td>\n",
       "      <td>93001-2826</td>\n",
       "      <td>BARRELHOUSE 101</td>\n",
       "      <td></td>\n",
       "      <td></td>\n",
       "      <td></td>\n",
       "      <td></td>\n",
       "      <td></td>\n",
       "      <td>VENTURA</td>\n",
       "      <td>0024.00</td>\n",
       "    </tr>\n",
       "  </tbody>\n",
       "</table>\n",
       "<p>3 rows × 26 columns</p>\n",
       "</div>"
      ],
      "text/plain": [
       "   License Type  File Number Lic or App Type Status Type Orig Iss Date  \\\n",
       "0            77       561256        LIC      ACTIVE        01-DEC-2015   \n",
       "1            48       526584        LIC      ACTIVE        08-JAN-2013   \n",
       "2            77       518989        LIC      ACTIVE        21-JUN-2012   \n",
       "\n",
       "    Expir Date Fee Codes Dup Counts Master Ind  Term in # of Months  ...  \\\n",
       "0  30-NOV-2024       P40        001          N                   12  ...   \n",
       "1  31-DEC-2024       P40        001          N                   12  ...   \n",
       "2  31-MAY-2024       P40        001          N                   12  ...   \n",
       "\n",
       "   Prem State    Prem Zip         DBA Name  Mail Addr 1 Mail Addr 2  \\\n",
       "0          CA  91762-3644   FIREWATER BAR                             \n",
       "1          CA  94578-2815    CLUB CALIENTE  PO BOX 3541               \n",
       "2          CA  93001-2826  BARRELHOUSE 101                            \n",
       "\n",
       "     Mail City Mail State    Mail Zip     Prem County Prem Census Tract #  \n",
       "0                                      SAN BERNARDINO             0010.02  \n",
       "1  SAN LEANDRO         CA  94578-0541         ALAMEDA             4331.03  \n",
       "2                                             VENTURA             0024.00  \n",
       "\n",
       "[3 rows x 26 columns]"
      ]
     },
     "execution_count": 4,
     "metadata": {},
     "output_type": "execute_result"
    }
   ],
   "source": [
    "ca_licenses.head(3)"
   ]
  },
  {
   "cell_type": "code",
   "execution_count": 5,
   "metadata": {
    "colab": {
     "base_uri": "https://localhost:8080/"
    },
    "id": "AEEiNEEyb1iH",
    "outputId": "ca88e571-05f3-40fe-8054-eafa7ef6699c"
   },
   "outputs": [
    {
     "data": {
      "text/plain": [
       "Index(['License Type', 'File Number', 'Lic or App', 'Type Status',\n",
       "       'Type Orig Iss Date', 'Expir Date', 'Fee Codes', 'Dup Counts',\n",
       "       'Master Ind', 'Term in # of Months', 'Geo Code', 'District',\n",
       "       'Primary Name', 'Prem Addr 1', ' Prem Addr 2', 'Prem City',\n",
       "       ' Prem State', 'Prem Zip', 'DBA Name', 'Mail Addr 1', 'Mail Addr 2',\n",
       "       'Mail City', 'Mail State', 'Mail Zip', 'Prem County',\n",
       "       'Prem Census Tract #'],\n",
       "      dtype='object')"
      ]
     },
     "execution_count": 5,
     "metadata": {},
     "output_type": "execute_result"
    }
   ],
   "source": [
    "ca_licenses.columns"
   ]
  },
  {
   "cell_type": "markdown",
   "metadata": {
    "id": "RelvHY7GgrND"
   },
   "source": [
    "## Data Cleaning"
   ]
  },
  {
   "cell_type": "markdown",
   "metadata": {
    "id": "Ty_wt_lrghN9"
   },
   "source": [
    "1. dealing with license issue date, expire date"
   ]
  },
  {
   "cell_type": "code",
   "execution_count": 6,
   "metadata": {
    "id": "mLp_BnsSb1ki"
   },
   "outputs": [],
   "source": [
    "# drop rows with NaN values in 'Type Orig Iss Date' and 'Expir Date'\n",
    "ca_licenses['Type Orig Iss Date'].replace(['', ' '], np.nan, inplace=True)\n",
    "ca_licenses['Expir Date'].replace(['', ' '], np.nan, inplace=True)\n",
    "ca_licenses.dropna(subset=['Type Orig Iss Date', 'Expir Date'], inplace=True)\n",
    "\n",
    "# convert to datatime\n",
    "ca_licenses['Type Orig Iss Date'] = pd.to_datetime(ca_licenses['Type Orig Iss Date'], format='%d-%b-%Y')\n",
    "ca_licenses['Expir Date'] = pd.to_datetime(ca_licenses['Expir Date'], format='%d-%b-%Y')"
   ]
  },
  {
   "cell_type": "markdown",
   "metadata": {
    "id": "eQ539sJ_0pDC"
   },
   "source": [
    "2. transform all zipcode into 5-digits format"
   ]
  },
  {
   "cell_type": "code",
   "execution_count": 7,
   "metadata": {
    "id": "k9uoDztC0smL"
   },
   "outputs": [],
   "source": [
    "ca_licenses['Prem Zip'] = ca_licenses['Prem Zip'].str.slice(0, 5)"
   ]
  },
  {
   "cell_type": "markdown",
   "metadata": {
    "id": "Gim6OxnahJ6p"
   },
   "source": [
    "3. filter the dataframe based on the following conditions:\n",
    "  * Is an active License (Lic) not an Application (App) that is still being processed\n",
    "  * issue date before 2016-01-01\n",
    "  * expire date after 2020-07-31\n",
    "  * license is active\n",
    "  * license type is 41, 47, or **48**?\n",
    "  (41; On-Sale Beer and Wine – Public, 47: On-Sale General – Eating, 48: On-Sale General — Public ( Bars and Nightclubs ))\n",
    "  * license is used within San Diego"
   ]
  },
  {
   "cell_type": "code",
   "execution_count": 8,
   "metadata": {
    "id": "2InuKGDEb1nX"
   },
   "outputs": [],
   "source": [
    "df_alcohol = ca_licenses[\n",
    "    (ca_licenses['Lic or App'] == 'LIC') &\n",
    "    (ca_licenses['Type Orig Iss Date'] < '2016-01-01') &\n",
    "    (ca_licenses['Expir Date'] > '2020-07-31') &\n",
    "    (ca_licenses['Type Status'] == 'ACTIVE') &\n",
    "    ((ca_licenses['License Type'] == 47) | (ca_licenses['License Type'] == 41)) &\n",
    "    (ca_licenses['Prem County'] == \"SAN DIEGO\")\n",
    "].reset_index(drop = True)"
   ]
  },
  {
   "cell_type": "markdown",
   "metadata": {
    "id": "qP4vMOtMj5DG"
   },
   "source": [
    "4. select important features <br>"
   ]
  },
  {
   "cell_type": "code",
   "execution_count": 9,
   "metadata": {
    "colab": {
     "base_uri": "https://localhost:8080/",
     "height": 206
    },
    "id": "TA4vvJdHkPOi",
    "outputId": "b7e88278-99ea-4ade-904f-a493d86087d8"
   },
   "outputs": [
    {
     "data": {
      "text/html": [
       "<div>\n",
       "<style scoped>\n",
       "    .dataframe tbody tr th:only-of-type {\n",
       "        vertical-align: middle;\n",
       "    }\n",
       "\n",
       "    .dataframe tbody tr th {\n",
       "        vertical-align: top;\n",
       "    }\n",
       "\n",
       "    .dataframe thead th {\n",
       "        text-align: right;\n",
       "    }\n",
       "</style>\n",
       "<table border=\"1\" class=\"dataframe\">\n",
       "  <thead>\n",
       "    <tr style=\"text-align: right;\">\n",
       "      <th></th>\n",
       "      <th>Type Orig Iss Date</th>\n",
       "      <th>Expir Date</th>\n",
       "      <th>DBA Name</th>\n",
       "      <th>Prem Addr 1</th>\n",
       "      <th>Prem City</th>\n",
       "      <th>Prem Zip</th>\n",
       "    </tr>\n",
       "  </thead>\n",
       "  <tbody>\n",
       "    <tr>\n",
       "      <th>0</th>\n",
       "      <td>2013-01-16</td>\n",
       "      <td>2024-12-31</td>\n",
       "      <td>LAUBERGE DEL MAR</td>\n",
       "      <td>1540 CAMINO DEL MAR</td>\n",
       "      <td>DEL MAR</td>\n",
       "      <td>92014</td>\n",
       "    </tr>\n",
       "    <tr>\n",
       "      <th>1</th>\n",
       "      <td>1993-12-31</td>\n",
       "      <td>2024-11-30</td>\n",
       "      <td>CATAMARAN RESORT HOTEL</td>\n",
       "      <td>3999 MISSION BLVD</td>\n",
       "      <td>SAN DIEGO</td>\n",
       "      <td>92109</td>\n",
       "    </tr>\n",
       "    <tr>\n",
       "      <th>2</th>\n",
       "      <td>2012-01-12</td>\n",
       "      <td>2024-12-31</td>\n",
       "      <td>MANCHESTER GRAND HYATT SAN DIEGO</td>\n",
       "      <td>ONE MARKET PLACE</td>\n",
       "      <td>SAN DIEGO</td>\n",
       "      <td>92101</td>\n",
       "    </tr>\n",
       "    <tr>\n",
       "      <th>3</th>\n",
       "      <td>2012-01-19</td>\n",
       "      <td>2024-12-31</td>\n",
       "      <td>BARLEY MASH</td>\n",
       "      <td>600 5TH AVE</td>\n",
       "      <td>SAN DIEGO</td>\n",
       "      <td>92101</td>\n",
       "    </tr>\n",
       "    <tr>\n",
       "      <th>4</th>\n",
       "      <td>2012-11-30</td>\n",
       "      <td>2024-12-31</td>\n",
       "      <td>BEAUDEVIN</td>\n",
       "      <td>3707 N HARBOR DR</td>\n",
       "      <td>SAN DIEGO</td>\n",
       "      <td>92101</td>\n",
       "    </tr>\n",
       "  </tbody>\n",
       "</table>\n",
       "</div>"
      ],
      "text/plain": [
       "  Type Orig Iss Date Expir Date                          DBA Name  \\\n",
       "0         2013-01-16 2024-12-31                  LAUBERGE DEL MAR   \n",
       "1         1993-12-31 2024-11-30            CATAMARAN RESORT HOTEL   \n",
       "2         2012-01-12 2024-12-31  MANCHESTER GRAND HYATT SAN DIEGO   \n",
       "3         2012-01-19 2024-12-31                       BARLEY MASH   \n",
       "4         2012-11-30 2024-12-31                         BEAUDEVIN   \n",
       "\n",
       "           Prem Addr 1  Prem City Prem Zip  \n",
       "0  1540 CAMINO DEL MAR    DEL MAR    92014  \n",
       "1    3999 MISSION BLVD  SAN DIEGO    92109  \n",
       "2     ONE MARKET PLACE  SAN DIEGO    92101  \n",
       "3          600 5TH AVE  SAN DIEGO    92101  \n",
       "4     3707 N HARBOR DR  SAN DIEGO    92101  "
      ]
     },
     "execution_count": 9,
     "metadata": {},
     "output_type": "execute_result"
    }
   ],
   "source": [
    "sub_alcohol = df_alcohol[['Type Orig Iss Date', 'Expir Date', 'DBA Name', 'Prem Addr 1', 'Prem City', 'Prem Zip']]\n",
    "sub_alcohol.head(5)"
   ]
  },
  {
   "cell_type": "code",
   "execution_count": 10,
   "metadata": {
    "colab": {
     "base_uri": "https://localhost:8080/"
    },
    "id": "gfcnKE8jl1mk",
    "outputId": "183ba5fc-acf5-404e-e012-57d5de8e44e4"
   },
   "outputs": [
    {
     "data": {
      "text/plain": [
       "(1500, 6)"
      ]
     },
     "execution_count": 10,
     "metadata": {},
     "output_type": "execute_result"
    }
   ],
   "source": [
    "sub_alcohol.shape"
   ]
  },
  {
   "cell_type": "markdown",
   "metadata": {
    "id": "7Nwm-PgOxYFs"
   },
   "source": [
    "## EDA"
   ]
  },
  {
   "cell_type": "markdown",
   "metadata": {
    "id": "QfuOFEkirGwa"
   },
   "source": [
    "Count the number of licenses based on cities in San Diego"
   ]
  },
  {
   "cell_type": "code",
   "execution_count": 11,
   "metadata": {
    "colab": {
     "base_uri": "https://localhost:8080/"
    },
    "id": "C1ajewOLJuwo",
    "outputId": "ae2ddce7-9009-49c2-d89e-6678d76f34a1"
   },
   "outputs": [
    {
     "data": {
      "text/plain": [
       "array(['DEL MAR', 'SAN DIEGO', 'LA MESA', 'ESCONDIDO', 'RAMONA', 'POWAY',\n",
       "       'CARLSBAD', 'LA JOLLA', 'ENCINITAS', 'SANTEE', 'OCEANSIDE',\n",
       "       'EL CAJON', 'SOLANA BEACH', 'SAN MARCOS', 'VISTA', 'PAUMA VALLEY',\n",
       "       'IMPERIAL BEACH', 'NATIONAL CITY', 'BONSALL', 'CORONADO',\n",
       "       'CHULA VISTA', 'LAKESIDE', 'BORREGO SPRINGS', 'JAMUL', 'FALLBROOK',\n",
       "       'PALA', 'PALOMAR MOUNTAIN', 'BONITA', 'ALPINE', 'SAN YSIDRO',\n",
       "       'CARDIFF BY THE SEA', 'SPRING VALLEY', 'VALLEY CENTER', 'CAMPO',\n",
       "       'LEMON GROVE', 'RANCHO SANTA FE', 'DULZURA', 'DESCANSO', 'JULIAN'],\n",
       "      dtype=object)"
      ]
     },
     "execution_count": 11,
     "metadata": {},
     "output_type": "execute_result"
    }
   ],
   "source": [
    "sub_alcohol['Prem City'].unique()"
   ]
  },
  {
   "cell_type": "code",
   "execution_count": 12,
   "metadata": {
    "colab": {
     "base_uri": "https://localhost:8080/"
    },
    "id": "s-My-vPEdnh5",
    "outputId": "9464f7f8-31db-4b18-807a-323882cb290c"
   },
   "outputs": [
    {
     "data": {
      "text/plain": [
       "Prem City\n",
       "SAN DIEGO             769\n",
       "CHULA VISTA            70\n",
       "CARLSBAD               62\n",
       "OCEANSIDE              61\n",
       "LA JOLLA               59\n",
       "ESCONDIDO              55\n",
       "EL CAJON               42\n",
       "LA MESA                41\n",
       "SAN MARCOS             39\n",
       "ENCINITAS              38\n",
       "CORONADO               31\n",
       "VISTA                  29\n",
       "SOLANA BEACH           25\n",
       "SANTEE                 21\n",
       "NATIONAL CITY          18\n",
       "POWAY                  17\n",
       "DEL MAR                15\n",
       "RAMONA                 14\n",
       "FALLBROOK              14\n",
       "ALPINE                 10\n",
       "BORREGO SPRINGS         8\n",
       "LAKESIDE                8\n",
       "IMPERIAL BEACH          7\n",
       "BONITA                  6\n",
       "RANCHO SANTA FE         6\n",
       "VALLEY CENTER           6\n",
       "SPRING VALLEY           5\n",
       "BONSALL                 5\n",
       "LEMON GROVE             4\n",
       "PAUMA VALLEY            3\n",
       "PALA                    2\n",
       "CARDIFF BY THE SEA      2\n",
       "JAMUL                   2\n",
       "PALOMAR MOUNTAIN        1\n",
       "DESCANSO                1\n",
       "SAN YSIDRO              1\n",
       "CAMPO                   1\n",
       "JULIAN                  1\n",
       "DULZURA                 1\n",
       "Name: DBA Name, dtype: int64"
      ]
     },
     "execution_count": 12,
     "metadata": {},
     "output_type": "execute_result"
    }
   ],
   "source": [
    "nlicense = sub_alcohol.groupby('Prem City')['DBA Name'].count().sort_values(ascending = False)\n",
    "nlicense"
   ]
  },
  {
   "cell_type": "code",
   "execution_count": 13,
   "metadata": {
    "colab": {
     "base_uri": "https://localhost:8080/",
     "height": 807
    },
    "id": "290QkXuHAE_f",
    "outputId": "b1834553-f29a-4344-b691-4ce7c7bd0bff"
   },
   "outputs": [
    {
     "data": {
      "image/png": "[encoded data removed]",
      "text/plain": [
       "<Figure size 720x576 with 1 Axes>"
      ]
     },
     "metadata": {
      "needs_background": "light"
     },
     "output_type": "display_data"
    }
   ],
   "source": [
    "plt.figure(figsize=(10, 8))\n",
    "plt.barh(nlicense.index, nlicense.values, color='skyblue')\n",
    "plt.xlabel('Count of license')\n",
    "plt.ylabel('City')\n",
    "plt.title('Count of alcohol license by City')\n",
    "plt.xticks(rotation=90)\n",
    "plt.tight_layout()\n",
    "plt.show()"
   ]
  },
  {
   "cell_type": "markdown",
   "metadata": {
    "id": "ZwyXNnZ2HJo3"
   },
   "source": [
    "# Crime Dataset"
   ]
  },
  {
   "cell_type": "markdown",
   "metadata": {
    "id": "i4HpXji0sliu"
   },
   "source": [
    "This dataset describes crime incidents from 2016 to 2020, with demographic information for the victims. The file has one row per incident. The dataset is derived from data acquired for a PRA request and is processed to standardize geographic identifiers and racial categories."
   ]
  },
  {
   "cell_type": "code",
   "execution_count": 14,
   "metadata": {
    "id": "CDQKkTJHG-mM"
   },
   "outputs": [],
   "source": [
    "crime_df =  pd.read_csv('http://library.metatab.org/arjis.org-crime_victims-pra-1.1.1/data/sdcrime_16_20_uniquecase.csv')\n",
    "ucrcodes_df = pd.read_csv('http://library.metatab.org/arjis.org-crime_victims-pra-1.1.1/data/ucrcodes.csv')"
   ]
  },
  {
   "cell_type": "markdown",
   "metadata": {
    "id": "rreTw1xyvAdm"
   },
   "source": [
    "Briefly browse dataset"
   ]
  },
  {
   "cell_type": "code",
   "execution_count": 15,
   "metadata": {
    "colab": {
     "base_uri": "https://localhost:8080/",
     "height": 250
    },
    "id": "SzHtgozhonQr",
    "outputId": "9dbac8f1-1c52-4565-d879-253cd60752fb"
   },
   "outputs": [
    {
     "data": {
      "text/html": [
       "<div>\n",
       "<style scoped>\n",
       "    .dataframe tbody tr th:only-of-type {\n",
       "        vertical-align: middle;\n",
       "    }\n",
       "\n",
       "    .dataframe tbody tr th {\n",
       "        vertical-align: top;\n",
       "    }\n",
       "\n",
       "    .dataframe thead th {\n",
       "        text-align: right;\n",
       "    }\n",
       "</style>\n",
       "<table border=\"1\" class=\"dataframe\">\n",
       "  <thead>\n",
       "    <tr style=\"text-align: right;\">\n",
       "      <th></th>\n",
       "      <th>activitynumber</th>\n",
       "      <th>activitydate</th>\n",
       "      <th>year</th>\n",
       "      <th>agency</th>\n",
       "      <th>violationsection</th>\n",
       "      <th>violationtype</th>\n",
       "      <th>chargedescription</th>\n",
       "      <th>chargelevel</th>\n",
       "      <th>codeucr</th>\n",
       "      <th>crimecategory</th>\n",
       "      <th>personrole</th>\n",
       "      <th>race</th>\n",
       "      <th>age</th>\n",
       "      <th>sex</th>\n",
       "      <th>zipcode</th>\n",
       "      <th>censusblock</th>\n",
       "      <th>censustract</th>\n",
       "      <th>city</th>\n",
       "      <th>city.1</th>\n",
       "    </tr>\n",
       "  </thead>\n",
       "  <tbody>\n",
       "    <tr>\n",
       "      <th>0</th>\n",
       "      <td>'01600014'</td>\n",
       "      <td>2016-01-01 00:00:00</td>\n",
       "      <td>2016</td>\n",
       "      <td>NATIONAL CITY</td>\n",
       "      <td>10851</td>\n",
       "      <td>VC</td>\n",
       "      <td>TAKE VEHICLE W/O OWNER'S CONSENT/VEHICLE THEFT</td>\n",
       "      <td>FELONY</td>\n",
       "      <td>7A0</td>\n",
       "      <td>Vehicle Theft</td>\n",
       "      <td>VICTIM</td>\n",
       "      <td>OTHER</td>\n",
       "      <td>NaN</td>\n",
       "      <td>FEMALE</td>\n",
       "      <td>91950.0</td>\n",
       "      <td>'02000'</td>\n",
       "      <td>'022000'</td>\n",
       "      <td>NATIONAL CITY</td>\n",
       "      <td>NATIONAL CITY</td>\n",
       "    </tr>\n",
       "    <tr>\n",
       "      <th>1</th>\n",
       "      <td>'16000042'</td>\n",
       "      <td>2016-01-01 00:00:00</td>\n",
       "      <td>2016</td>\n",
       "      <td>SAN DIEGO</td>\n",
       "      <td>459</td>\n",
       "      <td>PC</td>\n",
       "      <td>BURGLARY/UNSPECIFIED</td>\n",
       "      <td>FELONY</td>\n",
       "      <td>5A6</td>\n",
       "      <td>Non Res Burglary</td>\n",
       "      <td>NaN</td>\n",
       "      <td>NaN</td>\n",
       "      <td>NaN</td>\n",
       "      <td>NaN</td>\n",
       "      <td>92109.0</td>\n",
       "      <td>'20000'</td>\n",
       "      <td>'007907'</td>\n",
       "      <td>SAN DIEGO</td>\n",
       "      <td>SAN DIEGO</td>\n",
       "    </tr>\n",
       "    <tr>\n",
       "      <th>2</th>\n",
       "      <td>'16005661'</td>\n",
       "      <td>2016-01-01 00:00:00</td>\n",
       "      <td>2016</td>\n",
       "      <td>SAN DIEGO</td>\n",
       "      <td>488</td>\n",
       "      <td>PC</td>\n",
       "      <td>PETTY THEFT</td>\n",
       "      <td>MISDEMEANOR</td>\n",
       "      <td>6DG</td>\n",
       "      <td>Larceny &lt; $400</td>\n",
       "      <td>VICTIM/WITNESS</td>\n",
       "      <td>HISPANIC</td>\n",
       "      <td>74.0</td>\n",
       "      <td>MALE</td>\n",
       "      <td>92115.0</td>\n",
       "      <td>'20230'</td>\n",
       "      <td>'002902'</td>\n",
       "      <td>SAN DIEGO</td>\n",
       "      <td>SAN DIEGO</td>\n",
       "    </tr>\n",
       "  </tbody>\n",
       "</table>\n",
       "</div>"
      ],
      "text/plain": [
       "  activitynumber         activitydate  year         agency violationsection  \\\n",
       "0     '01600014'  2016-01-01 00:00:00  2016  NATIONAL CITY            10851   \n",
       "1     '16000042'  2016-01-01 00:00:00  2016      SAN DIEGO              459   \n",
       "2     '16005661'  2016-01-01 00:00:00  2016      SAN DIEGO              488   \n",
       "\n",
       "  violationtype                               chargedescription  chargelevel  \\\n",
       "0            VC  TAKE VEHICLE W/O OWNER'S CONSENT/VEHICLE THEFT       FELONY   \n",
       "1            PC                            BURGLARY/UNSPECIFIED       FELONY   \n",
       "2            PC                                     PETTY THEFT  MISDEMEANOR   \n",
       "\n",
       "  codeucr     crimecategory      personrole      race   age     sex  zipcode  \\\n",
       "0     7A0     Vehicle Theft          VICTIM     OTHER   NaN  FEMALE  91950.0   \n",
       "1     5A6  Non Res Burglary             NaN       NaN   NaN     NaN  92109.0   \n",
       "2     6DG    Larceny < $400  VICTIM/WITNESS  HISPANIC  74.0    MALE  92115.0   \n",
       "\n",
       "  censusblock censustract           city         city.1  \n",
       "0     '02000'    '022000'  NATIONAL CITY  NATIONAL CITY  \n",
       "1     '20000'    '007907'      SAN DIEGO      SAN DIEGO  \n",
       "2     '20230'    '002902'      SAN DIEGO      SAN DIEGO  "
      ]
     },
     "execution_count": 15,
     "metadata": {},
     "output_type": "execute_result"
    }
   ],
   "source": [
    "crime_df.head(3)"
   ]
  },
  {
   "cell_type": "code",
   "execution_count": 16,
   "metadata": {
    "colab": {
     "base_uri": "https://localhost:8080/"
    },
    "id": "0tBHF8iTvCr2",
    "outputId": "932fee32-7ed0-4878-83d2-add0caac49e7"
   },
   "outputs": [
    {
     "data": {
      "text/plain": [
       "Index(['activitynumber', 'activitydate', 'year', 'agency', 'violationsection',\n",
       "       'violationtype', 'chargedescription', 'chargelevel', 'codeucr',\n",
       "       'crimecategory', 'personrole', 'race', 'age', 'sex', 'zipcode',\n",
       "       'censusblock', 'censustract', 'city', 'city.1'],\n",
       "      dtype='object')"
      ]
     },
     "execution_count": 16,
     "metadata": {},
     "output_type": "execute_result"
    }
   ],
   "source": [
    "crime_df.columns"
   ]
  },
  {
   "cell_type": "markdown",
   "metadata": {
    "id": "IGjyMrp5u_CT"
   },
   "source": [
    "## Data Cleaning"
   ]
  },
  {
   "cell_type": "markdown",
   "metadata": {
    "id": "DuqhfB-D75uF"
   },
   "source": [
    "1. clean columns: city, zipcode"
   ]
  },
  {
   "cell_type": "code",
   "execution_count": 17,
   "metadata": {
    "colab": {
     "base_uri": "https://localhost:8080/"
    },
    "id": "fTsA-BbHtXzg",
    "outputId": "32f6b455-1c11-4703-9498-1332f6416698"
   },
   "outputs": [
    {
     "data": {
      "text/plain": [
       "True"
      ]
     },
     "execution_count": 17,
     "metadata": {},
     "output_type": "execute_result"
    }
   ],
   "source": [
    "# keep one of them is enough\n",
    "(crime_df['city'] == crime_df['city.1']).all()"
   ]
  },
  {
   "cell_type": "code",
   "execution_count": 18,
   "metadata": {
    "colab": {
     "base_uri": "https://localhost:8080/"
    },
    "id": "e6KUnl6MGmUK",
    "outputId": "471afcd5-7d78-4a1e-de19-c06cf7842d7b"
   },
   "outputs": [],
   "source": [
    "# drop all rows that containing nan in zipcode\n",
    "crime_df = crime_df.dropna(subset=['zipcode'])\n",
    "\n",
    "# convert zipcode type into int64\n",
    "crime_df.loc[:, 'zipcode'] = crime_df['zipcode'].astype(int)\n",
    "\n",
    "# filter df only include sd cities\n",
    "crime_df = crime_df[crime_df['zipcode'].isin(zipcode_arr)]\n",
    "\n",
    "# convert datatype of zipcode\n",
    "crime_df['zipcode'] = crime_df['zipcode'].astype(int)"
   ]
  },
  {
   "cell_type": "code",
   "execution_count": 19,
   "metadata": {
    "id": "34DI_tWEyVTT"
   },
   "outputs": [],
   "source": [
    "crime_df['city'] = crime_df['city'].str.strip()\n",
    "crime_df['city'] = crime_df['city'].str.replace(r'\\bUNINC\\b|\\bUNIN\\b', '', regex=True)\n",
    "crime_df['city'] = crime_df['city'].replace({'SAM DIEGO': 'SAN DIEGO', 'SAN SIEGO': 'SAN DIEGO',\n",
    "                                             '5310 LA MESA': 'LA MESA', 'LAMESA': 'LA MESA',\n",
    "                                             '92013': 'CARLSBAD', 'SPING VALLEY': 'SPRING VALLEY',\n",
    "                                             'SAN YSABEL': 'SANTA YSABEL'})\n",
    "\n",
    "crime_df = crime_df[(crime_df['city'] != 'CN') & (crime_df['city'] != 'SD COUNTY')]"
   ]
  },
  {
   "cell_type": "markdown",
   "metadata": {},
   "source": [
    "2. Change activitydate data format, extract time only, create binary variable"
   ]
  },
  {
   "cell_type": "code",
   "execution_count": 20,
   "metadata": {},
   "outputs": [],
   "source": [
    "crime_df['activitydate'] = pd.to_datetime(crime_df['activitydate'])"
   ]
  },
  {
   "cell_type": "code",
   "execution_count": 21,
   "metadata": {},
   "outputs": [
    {
     "data": {
      "text/plain": [
       "([<matplotlib.axis.XTick at 0x7f743cdecb50>,\n",
       "  <matplotlib.axis.XTick at 0x7f743cdecb20>,\n",
       "  <matplotlib.axis.XTick at 0x7f743cdec9a0>,\n",
       "  <matplotlib.axis.XTick at 0x7f743cd49790>,\n",
       "  <matplotlib.axis.XTick at 0x7f743cd49ee0>,\n",
       "  <matplotlib.axis.XTick at 0x7f743cd57670>,\n",
       "  <matplotlib.axis.XTick at 0x7f743cd57dc0>,\n",
       "  <matplotlib.axis.XTick at 0x7f743cd5f550>,\n",
       "  <matplotlib.axis.XTick at 0x7f743cd57820>,\n",
       "  <matplotlib.axis.XTick at 0x7f743cd494c0>,\n",
       "  <matplotlib.axis.XTick at 0x7f743cd5fd30>,\n",
       "  <matplotlib.axis.XTick at 0x7f743cd654c0>,\n",
       "  <matplotlib.axis.XTick at 0x7f743cd65c10>,\n",
       "  <matplotlib.axis.XTick at 0x7f743cd6c3a0>,\n",
       "  <matplotlib.axis.XTick at 0x7f743cd65e20>,\n",
       "  <matplotlib.axis.XTick at 0x7f743cd5fd00>,\n",
       "  <matplotlib.axis.XTick at 0x7f743cd6cc10>,\n",
       "  <matplotlib.axis.XTick at 0x7f743ccf2100>,\n",
       "  <matplotlib.axis.XTick at 0x7f743ccf2850>,\n",
       "  <matplotlib.axis.XTick at 0x7f743ccf90a0>,\n",
       "  <matplotlib.axis.XTick at 0x7f743ccf9730>,\n",
       "  <matplotlib.axis.XTick at 0x7f743ccf2880>,\n",
       "  <matplotlib.axis.XTick at 0x7f743cd57130>,\n",
       "  <matplotlib.axis.XTick at 0x7f743ccf9c40>],\n",
       " [Text(0, 0, ''),\n",
       "  Text(0, 0, ''),\n",
       "  Text(0, 0, ''),\n",
       "  Text(0, 0, ''),\n",
       "  Text(0, 0, ''),\n",
       "  Text(0, 0, ''),\n",
       "  Text(0, 0, ''),\n",
       "  Text(0, 0, ''),\n",
       "  Text(0, 0, ''),\n",
       "  Text(0, 0, ''),\n",
       "  Text(0, 0, ''),\n",
       "  Text(0, 0, ''),\n",
       "  Text(0, 0, ''),\n",
       "  Text(0, 0, ''),\n",
       "  Text(0, 0, ''),\n",
       "  Text(0, 0, ''),\n",
       "  Text(0, 0, ''),\n",
       "  Text(0, 0, ''),\n",
       "  Text(0, 0, ''),\n",
       "  Text(0, 0, ''),\n",
       "  Text(0, 0, ''),\n",
       "  Text(0, 0, ''),\n",
       "  Text(0, 0, ''),\n",
       "  Text(0, 0, '')])"
      ]
     },
     "execution_count": 21,
     "metadata": {},
     "output_type": "execute_result"
    },
    {
     "data": {
      "image/png": "[encoded data removed]",
      "text/plain": [
       "<Figure size 432x288 with 1 Axes>"
      ]
     },
     "metadata": {
      "needs_background": "light"
     },
     "output_type": "display_data"
    }
   ],
   "source": [
    "freq_ser = crime_df.groupby(crime_df['activitydate'].dt.hour).size()\n",
    "\n",
    "plt.bar(x=freq_ser.index, height=freq_ser.values, edgecolor='black')\n",
    "plt.title('Criminal Activity Frequency by Hour')\n",
    "plt.xlabel('Hour of the Day')\n",
    "plt.ylabel('Criminal Activity Frequency')\n",
    "plt.xticks(freq_ser.index)"
   ]
  },
  {
   "cell_type": "markdown",
   "metadata": {},
   "source": [
    "We may notice that the frequency of criminal activity changes in a day, observing that high rates of criminal activity in the afternoon through evening hours, with crime rates dropping during the night. Thus, we create an `afternoon_till_eve` column by defining `activitydate` happened in the afternoon through evening hours(12:00am-12:00pm) as 1, other wise as 0."
   ]
  },
  {
   "cell_type": "code",
   "execution_count": 22,
   "metadata": {},
   "outputs": [],
   "source": [
    "hours = [12, 13, 14, 15, 16, 17, 18, 19, 20, 21, 22, 23, 0]\n",
    "crime_df['afternoon_till_eve'] = crime_df['activitydate'].dt.hour.isin(hours)\n",
    "crime_df['afternoon_till_eve'] = crime_df['afternoon_till_eve'].astype(int)"
   ]
  },
  {
   "cell_type": "markdown",
   "metadata": {
    "id": "SNqTJvU87_VZ"
   },
   "source": [
    "3. select columns\n",
    "\n",
    "**select `afternoon_till_eve` as confounding variable**\n",
    "* activitydate: the specific report time\n",
    "* bi_frequency: happened in high frequency time or low frequency time\n",
    "* violationtype: violent or property\n",
    "\n",
    "* sex: female or male\n",
    "* age: young or old"
   ]
  },
  {
   "cell_type": "code",
   "execution_count": 23,
   "metadata": {
    "id": "beqwcSwX7-qj"
   },
   "outputs": [],
   "source": [
    "sub_crime = crime_df[['activitydate', 'afternoon_till_eve', 'violationtype', 'crimecategory', 'zipcode', 'city']]"
   ]
  },
  {
   "cell_type": "code",
   "execution_count": 24,
   "metadata": {
    "colab": {
     "base_uri": "https://localhost:8080/",
     "height": 143
    },
    "id": "95z7uh4qyVkK",
    "outputId": "37709447-f234-4182-d436-dc6788cc6ee0"
   },
   "outputs": [
    {
     "data": {
      "text/html": [
       "<div>\n",
       "<style scoped>\n",
       "    .dataframe tbody tr th:only-of-type {\n",
       "        vertical-align: middle;\n",
       "    }\n",
       "\n",
       "    .dataframe tbody tr th {\n",
       "        vertical-align: top;\n",
       "    }\n",
       "\n",
       "    .dataframe thead th {\n",
       "        text-align: right;\n",
       "    }\n",
       "</style>\n",
       "<table border=\"1\" class=\"dataframe\">\n",
       "  <thead>\n",
       "    <tr style=\"text-align: right;\">\n",
       "      <th></th>\n",
       "      <th>activitydate</th>\n",
       "      <th>afternoon_till_eve</th>\n",
       "      <th>violationtype</th>\n",
       "      <th>crimecategory</th>\n",
       "      <th>zipcode</th>\n",
       "      <th>city</th>\n",
       "    </tr>\n",
       "  </thead>\n",
       "  <tbody>\n",
       "    <tr>\n",
       "      <th>0</th>\n",
       "      <td>2016-01-01 00:00:00</td>\n",
       "      <td>1</td>\n",
       "      <td>VC</td>\n",
       "      <td>Vehicle Theft</td>\n",
       "      <td>91950</td>\n",
       "      <td>NATIONAL CITY</td>\n",
       "    </tr>\n",
       "    <tr>\n",
       "      <th>1</th>\n",
       "      <td>2016-01-01 00:00:00</td>\n",
       "      <td>1</td>\n",
       "      <td>PC</td>\n",
       "      <td>Non Res Burglary</td>\n",
       "      <td>92109</td>\n",
       "      <td>SAN DIEGO</td>\n",
       "    </tr>\n",
       "    <tr>\n",
       "      <th>2</th>\n",
       "      <td>2016-01-01 00:00:00</td>\n",
       "      <td>1</td>\n",
       "      <td>PC</td>\n",
       "      <td>Larceny &lt; $400</td>\n",
       "      <td>92115</td>\n",
       "      <td>SAN DIEGO</td>\n",
       "    </tr>\n",
       "    <tr>\n",
       "      <th>3</th>\n",
       "      <td>2016-01-01 00:00:00</td>\n",
       "      <td>1</td>\n",
       "      <td>PC</td>\n",
       "      <td>Larceny &gt;= $400</td>\n",
       "      <td>92109</td>\n",
       "      <td>SAN DIEGO</td>\n",
       "    </tr>\n",
       "    <tr>\n",
       "      <th>5</th>\n",
       "      <td>2016-01-01 00:00:00</td>\n",
       "      <td>1</td>\n",
       "      <td>PC</td>\n",
       "      <td>Larceny &gt;= $400</td>\n",
       "      <td>92126</td>\n",
       "      <td>SAN DIEGO</td>\n",
       "    </tr>\n",
       "    <tr>\n",
       "      <th>...</th>\n",
       "      <td>...</td>\n",
       "      <td>...</td>\n",
       "      <td>...</td>\n",
       "      <td>...</td>\n",
       "      <td>...</td>\n",
       "      <td>...</td>\n",
       "    </tr>\n",
       "    <tr>\n",
       "      <th>312084</th>\n",
       "      <td>2020-07-31 23:00:00</td>\n",
       "      <td>1</td>\n",
       "      <td>VC</td>\n",
       "      <td>Vehicle Theft</td>\n",
       "      <td>91945</td>\n",
       "      <td>LEMON GROVE</td>\n",
       "    </tr>\n",
       "    <tr>\n",
       "      <th>312085</th>\n",
       "      <td>2020-07-31 23:00:00</td>\n",
       "      <td>1</td>\n",
       "      <td>VC</td>\n",
       "      <td>Vehicle Theft</td>\n",
       "      <td>92114</td>\n",
       "      <td>SAN DIEGO</td>\n",
       "    </tr>\n",
       "    <tr>\n",
       "      <th>312086</th>\n",
       "      <td>2020-07-31 23:00:00</td>\n",
       "      <td>1</td>\n",
       "      <td>VC</td>\n",
       "      <td>Vehicle Theft</td>\n",
       "      <td>92108</td>\n",
       "      <td>SAN DIEGO</td>\n",
       "    </tr>\n",
       "    <tr>\n",
       "      <th>312087</th>\n",
       "      <td>2020-07-31 23:23:00</td>\n",
       "      <td>1</td>\n",
       "      <td>PC</td>\n",
       "      <td>Aggravated Assault</td>\n",
       "      <td>92028</td>\n",
       "      <td>FALLBROOK</td>\n",
       "    </tr>\n",
       "    <tr>\n",
       "      <th>312088</th>\n",
       "      <td>2020-07-31 23:32:00</td>\n",
       "      <td>1</td>\n",
       "      <td>VC</td>\n",
       "      <td>Vehicle Theft</td>\n",
       "      <td>92021</td>\n",
       "      <td>LAKESIDE</td>\n",
       "    </tr>\n",
       "  </tbody>\n",
       "</table>\n",
       "<p>298154 rows × 6 columns</p>\n",
       "</div>"
      ],
      "text/plain": [
       "              activitydate  afternoon_till_eve violationtype  \\\n",
       "0      2016-01-01 00:00:00                   1            VC   \n",
       "1      2016-01-01 00:00:00                   1            PC   \n",
       "2      2016-01-01 00:00:00                   1            PC   \n",
       "3      2016-01-01 00:00:00                   1            PC   \n",
       "5      2016-01-01 00:00:00                   1            PC   \n",
       "...                    ...                 ...           ...   \n",
       "312084 2020-07-31 23:00:00                   1            VC   \n",
       "312085 2020-07-31 23:00:00                   1            VC   \n",
       "312086 2020-07-31 23:00:00                   1            VC   \n",
       "312087 2020-07-31 23:23:00                   1            PC   \n",
       "312088 2020-07-31 23:32:00                   1            VC   \n",
       "\n",
       "             crimecategory  zipcode           city  \n",
       "0            Vehicle Theft    91950  NATIONAL CITY  \n",
       "1         Non Res Burglary    92109      SAN DIEGO  \n",
       "2           Larceny < $400    92115      SAN DIEGO  \n",
       "3          Larceny >= $400    92109      SAN DIEGO  \n",
       "5          Larceny >= $400    92126      SAN DIEGO  \n",
       "...                    ...      ...            ...  \n",
       "312084       Vehicle Theft    91945    LEMON GROVE  \n",
       "312085       Vehicle Theft    92114      SAN DIEGO  \n",
       "312086       Vehicle Theft    92108      SAN DIEGO  \n",
       "312087  Aggravated Assault    92028      FALLBROOK  \n",
       "312088       Vehicle Theft    92021       LAKESIDE  \n",
       "\n",
       "[298154 rows x 6 columns]"
      ]
     },
     "execution_count": 24,
     "metadata": {},
     "output_type": "execute_result"
    }
   ],
   "source": [
    "sub_crime"
   ]
  },
  {
   "cell_type": "markdown",
   "metadata": {},
   "source": [
    "4. Aggregate based on `city` and `afternoon_till_eve`"
   ]
  },
  {
   "cell_type": "code",
   "execution_count": 25,
   "metadata": {
    "colab": {
     "base_uri": "https://localhost:8080/"
    },
    "id": "nuawQRpV9853",
    "outputId": "718fa414-459b-4156-a9d0-585202d48b26"
   },
   "outputs": [
    {
     "data": {
      "text/html": [
       "<div>\n",
       "<style scoped>\n",
       "    .dataframe tbody tr th:only-of-type {\n",
       "        vertical-align: middle;\n",
       "    }\n",
       "\n",
       "    .dataframe tbody tr th {\n",
       "        vertical-align: top;\n",
       "    }\n",
       "\n",
       "    .dataframe thead th {\n",
       "        text-align: right;\n",
       "    }\n",
       "</style>\n",
       "<table border=\"1\" class=\"dataframe\">\n",
       "  <thead>\n",
       "    <tr style=\"text-align: right;\">\n",
       "      <th></th>\n",
       "      <th>city</th>\n",
       "      <th>afternoon_till_eve</th>\n",
       "      <th>crime_count</th>\n",
       "    </tr>\n",
       "  </thead>\n",
       "  <tbody>\n",
       "    <tr>\n",
       "      <th>0</th>\n",
       "      <td>4S RANCH</td>\n",
       "      <td>0</td>\n",
       "      <td>186</td>\n",
       "    </tr>\n",
       "    <tr>\n",
       "      <th>1</th>\n",
       "      <td>4S RANCH</td>\n",
       "      <td>1</td>\n",
       "      <td>481</td>\n",
       "    </tr>\n",
       "    <tr>\n",
       "      <th>2</th>\n",
       "      <td>ALPINE</td>\n",
       "      <td>0</td>\n",
       "      <td>371</td>\n",
       "    </tr>\n",
       "    <tr>\n",
       "      <th>3</th>\n",
       "      <td>ALPINE</td>\n",
       "      <td>1</td>\n",
       "      <td>855</td>\n",
       "    </tr>\n",
       "    <tr>\n",
       "      <th>4</th>\n",
       "      <td>BONITA</td>\n",
       "      <td>0</td>\n",
       "      <td>276</td>\n",
       "    </tr>\n",
       "    <tr>\n",
       "      <th>...</th>\n",
       "      <td>...</td>\n",
       "      <td>...</td>\n",
       "      <td>...</td>\n",
       "    </tr>\n",
       "    <tr>\n",
       "      <th>117</th>\n",
       "      <td>VISTA</td>\n",
       "      <td>1</td>\n",
       "      <td>5787</td>\n",
       "    </tr>\n",
       "    <tr>\n",
       "      <th>118</th>\n",
       "      <td>VISTA</td>\n",
       "      <td>0</td>\n",
       "      <td>324</td>\n",
       "    </tr>\n",
       "    <tr>\n",
       "      <th>119</th>\n",
       "      <td>VISTA</td>\n",
       "      <td>1</td>\n",
       "      <td>819</td>\n",
       "    </tr>\n",
       "    <tr>\n",
       "      <th>120</th>\n",
       "      <td>WARNER SPRINGS</td>\n",
       "      <td>0</td>\n",
       "      <td>21</td>\n",
       "    </tr>\n",
       "    <tr>\n",
       "      <th>121</th>\n",
       "      <td>WARNER SPRINGS</td>\n",
       "      <td>1</td>\n",
       "      <td>47</td>\n",
       "    </tr>\n",
       "  </tbody>\n",
       "</table>\n",
       "<p>122 rows × 3 columns</p>\n",
       "</div>"
      ],
      "text/plain": [
       "               city  afternoon_till_eve  crime_count\n",
       "0          4S RANCH                   0          186\n",
       "1          4S RANCH                   1          481\n",
       "2            ALPINE                   0          371\n",
       "3            ALPINE                   1          855\n",
       "4            BONITA                   0          276\n",
       "..              ...                 ...          ...\n",
       "117           VISTA                   1         5787\n",
       "118          VISTA                    0          324\n",
       "119          VISTA                    1          819\n",
       "120  WARNER SPRINGS                   0           21\n",
       "121  WARNER SPRINGS                   1           47\n",
       "\n",
       "[122 rows x 3 columns]"
      ]
     },
     "execution_count": 25,
     "metadata": {},
     "output_type": "execute_result"
    }
   ],
   "source": [
    "ncrime = (sub_crime.groupby(['city', 'afternoon_till_eve'])\n",
    "          ['activitydate']\n",
    "          .count()\n",
    "          .to_frame()\n",
    "          .reset_index()\n",
    "          .rename(columns={'activitydate': 'crime_count'}))\n",
    "ncrime"
   ]
  },
  {
   "cell_type": "markdown",
   "metadata": {},
   "source": [
    "5. Merge license data with crime data"
   ]
  },
  {
   "cell_type": "code",
   "execution_count": 26,
   "metadata": {
    "colab": {
     "base_uri": "https://localhost:8080/",
     "height": 424
    },
    "id": "fvHvc6fKBSHl",
    "outputId": "7d0c2569-db5a-41b6-99ba-f57e9ef506cd"
   },
   "outputs": [
    {
     "data": {
      "text/html": [
       "<div>\n",
       "<style scoped>\n",
       "    .dataframe tbody tr th:only-of-type {\n",
       "        vertical-align: middle;\n",
       "    }\n",
       "\n",
       "    .dataframe tbody tr th {\n",
       "        vertical-align: top;\n",
       "    }\n",
       "\n",
       "    .dataframe thead th {\n",
       "        text-align: right;\n",
       "    }\n",
       "</style>\n",
       "<table border=\"1\" class=\"dataframe\">\n",
       "  <thead>\n",
       "    <tr style=\"text-align: right;\">\n",
       "      <th></th>\n",
       "      <th>city</th>\n",
       "      <th>license_count</th>\n",
       "      <th>crime_count</th>\n",
       "      <th>afternoon_till_eve</th>\n",
       "    </tr>\n",
       "  </thead>\n",
       "  <tbody>\n",
       "    <tr>\n",
       "      <th>0</th>\n",
       "      <td>SAN DIEGO</td>\n",
       "      <td>769</td>\n",
       "      <td>48990</td>\n",
       "      <td>0</td>\n",
       "    </tr>\n",
       "    <tr>\n",
       "      <th>1</th>\n",
       "      <td>SAN DIEGO</td>\n",
       "      <td>769</td>\n",
       "      <td>106319</td>\n",
       "      <td>1</td>\n",
       "    </tr>\n",
       "    <tr>\n",
       "      <th>2</th>\n",
       "      <td>CHULA VISTA</td>\n",
       "      <td>70</td>\n",
       "      <td>6266</td>\n",
       "      <td>0</td>\n",
       "    </tr>\n",
       "    <tr>\n",
       "      <th>3</th>\n",
       "      <td>CHULA VISTA</td>\n",
       "      <td>70</td>\n",
       "      <td>16423</td>\n",
       "      <td>1</td>\n",
       "    </tr>\n",
       "    <tr>\n",
       "      <th>4</th>\n",
       "      <td>CARLSBAD</td>\n",
       "      <td>62</td>\n",
       "      <td>1590</td>\n",
       "      <td>0</td>\n",
       "    </tr>\n",
       "    <tr>\n",
       "      <th>...</th>\n",
       "      <td>...</td>\n",
       "      <td>...</td>\n",
       "      <td>...</td>\n",
       "      <td>...</td>\n",
       "    </tr>\n",
       "    <tr>\n",
       "      <th>73</th>\n",
       "      <td>CAMPO</td>\n",
       "      <td>1</td>\n",
       "      <td>147</td>\n",
       "      <td>1</td>\n",
       "    </tr>\n",
       "    <tr>\n",
       "      <th>74</th>\n",
       "      <td>JULIAN</td>\n",
       "      <td>1</td>\n",
       "      <td>59</td>\n",
       "      <td>0</td>\n",
       "    </tr>\n",
       "    <tr>\n",
       "      <th>75</th>\n",
       "      <td>JULIAN</td>\n",
       "      <td>1</td>\n",
       "      <td>128</td>\n",
       "      <td>1</td>\n",
       "    </tr>\n",
       "    <tr>\n",
       "      <th>76</th>\n",
       "      <td>DULZURA</td>\n",
       "      <td>1</td>\n",
       "      <td>28</td>\n",
       "      <td>0</td>\n",
       "    </tr>\n",
       "    <tr>\n",
       "      <th>77</th>\n",
       "      <td>DULZURA</td>\n",
       "      <td>1</td>\n",
       "      <td>74</td>\n",
       "      <td>1</td>\n",
       "    </tr>\n",
       "  </tbody>\n",
       "</table>\n",
       "<p>78 rows × 4 columns</p>\n",
       "</div>"
      ],
      "text/plain": [
       "           city  license_count  crime_count  afternoon_till_eve\n",
       "0     SAN DIEGO            769        48990                   0\n",
       "1     SAN DIEGO            769       106319                   1\n",
       "2   CHULA VISTA             70         6266                   0\n",
       "3   CHULA VISTA             70        16423                   1\n",
       "4      CARLSBAD             62         1590                   0\n",
       "..          ...            ...          ...                 ...\n",
       "73        CAMPO              1          147                   1\n",
       "74       JULIAN              1           59                   0\n",
       "75       JULIAN              1          128                   1\n",
       "76      DULZURA              1           28                   0\n",
       "77      DULZURA              1           74                   1\n",
       "\n",
       "[78 rows x 4 columns]"
      ]
     },
     "execution_count": 26,
     "metadata": {},
     "output_type": "execute_result"
    }
   ],
   "source": [
    "df_license = nlicense.to_frame(name='license_count')\n",
    "\n",
    "# merge with inner join\n",
    "merged_df = pd.merge(df_license, ncrime, left_index=True, right_on='city', how='inner').reset_index(drop = True)\n",
    "merged_df = merged_df[['city', 'license_count', 'crime_count', 'afternoon_till_eve']]\n",
    "merged_df "
   ]
  },
  {
   "cell_type": "markdown",
   "metadata": {},
   "source": [
    "6. Get density per capita data\n",
    "\n",
    "In order to calculate the alcohol density per capita, and criminal activity density per capita, we access the population data from the following source:\n",
    "https://data.census.gov/table/DECENNIALPL2020.P1?g=160XX00US0611194,0613392,0616378,0618506,0621712,0622678,0622804,0636294,0640004,0650398,0653322,0658520,0666000,0668196,0670224,0672506,0682996_8610000US92093_880XX00US9203706073&tp=true"
   ]
  },
  {
   "cell_type": "code",
   "execution_count": 27,
   "metadata": {},
   "outputs": [],
   "source": [
    "cities = [\n",
    "    'CARLSBAD',\n",
    "    'CHULA VISTA',\n",
    "    'CORONADO',\n",
    "    'DEL MAR',\n",
    "    'EL CAJON',\n",
    "    'ENCINITAS',\n",
    "    'ESCONDIDO',\n",
    "    'IMPERIAL BEACH',\n",
    "#     'LA JOLLA',\n",
    "    'LA MESA',\n",
    "    'NATIONAL CITY',\n",
    "    'OCEANSIDE',\n",
    "    'POWAY',\n",
    "    'SAN DIEGO',\n",
    "    'SAN MARCOS',\n",
    "    'SANTEE',\n",
    "    'SOLANA BEACH',\n",
    "    'VISTA'\n",
    "]"
   ]
  },
  {
   "cell_type": "code",
   "execution_count": 28,
   "metadata": {},
   "outputs": [],
   "source": [
    "# pop = pd.read_csv(\"population.csv\")\n",
    "# population = pop.dropna().reset_index(drop=True)\n",
    "# population['Total:'] = population['Total:'].str.replace(',', '').astype(int)\n",
    "# population.rename(columns={'Label (Grouping)': 'city', 'Total:': 'population'}, inplace=True)\n",
    "# population['city'] = cities\n",
    "\n",
    "# population.head()"
   ]
  },
  {
   "cell_type": "code",
   "execution_count": 29,
   "metadata": {},
   "outputs": [
    {
     "name": "stderr",
     "output_type": "stream",
     "text": [
      "/tmp/ipykernel_1843/3540533265.py:3: SettingWithCopyWarning: \n",
      "A value is trying to be set on a copy of a slice from a DataFrame.\n",
      "Try using .loc[row_indexer,col_indexer] = value instead\n",
      "\n",
      "See the caveats in the documentation: https://pandas.pydata.org/pandas-docs/stable/user_guide/indexing.html#returning-a-view-versus-a-copy\n",
      "  population['poverty_rate'] = pp['poverty']/pp['population']\n",
      "/tmp/ipykernel_1843/3540533265.py:4: SettingWithCopyWarning: \n",
      "A value is trying to be set on a copy of a slice from a DataFrame.\n",
      "Try using .loc[row_indexer,col_indexer] = value instead\n",
      "\n",
      "See the caveats in the documentation: https://pandas.pydata.org/pandas-docs/stable/user_guide/indexing.html#returning-a-view-versus-a-copy\n",
      "  population['city'] = cities\n"
     ]
    },
    {
     "data": {
      "text/html": [
       "<div>\n",
       "<style scoped>\n",
       "    .dataframe tbody tr th:only-of-type {\n",
       "        vertical-align: middle;\n",
       "    }\n",
       "\n",
       "    .dataframe tbody tr th {\n",
       "        vertical-align: top;\n",
       "    }\n",
       "\n",
       "    .dataframe thead th {\n",
       "        text-align: right;\n",
       "    }\n",
       "</style>\n",
       "<table border=\"1\" class=\"dataframe\">\n",
       "  <thead>\n",
       "    <tr style=\"text-align: right;\">\n",
       "      <th></th>\n",
       "      <th>city</th>\n",
       "      <th>population</th>\n",
       "      <th>poverty</th>\n",
       "      <th>poverty_rate</th>\n",
       "    </tr>\n",
       "  </thead>\n",
       "  <tbody>\n",
       "    <tr>\n",
       "      <th>0</th>\n",
       "      <td>CARLSBAD</td>\n",
       "      <td>114204</td>\n",
       "      <td>7858</td>\n",
       "      <td>0.068807</td>\n",
       "    </tr>\n",
       "    <tr>\n",
       "      <th>1</th>\n",
       "      <td>CHULA VISTA</td>\n",
       "      <td>274000</td>\n",
       "      <td>24068</td>\n",
       "      <td>0.087839</td>\n",
       "    </tr>\n",
       "    <tr>\n",
       "      <th>2</th>\n",
       "      <td>CORONADO</td>\n",
       "      <td>15430</td>\n",
       "      <td>900</td>\n",
       "      <td>0.058328</td>\n",
       "    </tr>\n",
       "    <tr>\n",
       "      <th>3</th>\n",
       "      <td>DEL MAR</td>\n",
       "      <td>3943</td>\n",
       "      <td>66</td>\n",
       "      <td>0.016739</td>\n",
       "    </tr>\n",
       "    <tr>\n",
       "      <th>4</th>\n",
       "      <td>EL CAJON</td>\n",
       "      <td>103824</td>\n",
       "      <td>19586</td>\n",
       "      <td>0.188646</td>\n",
       "    </tr>\n",
       "  </tbody>\n",
       "</table>\n",
       "</div>"
      ],
      "text/plain": [
       "          city  population  poverty  poverty_rate\n",
       "0     CARLSBAD      114204     7858      0.068807\n",
       "1  CHULA VISTA      274000    24068      0.087839\n",
       "2     CORONADO       15430      900      0.058328\n",
       "3      DEL MAR        3943       66      0.016739\n",
       "4     EL CAJON      103824    19586      0.188646"
      ]
     },
     "execution_count": 29,
     "metadata": {},
     "output_type": "execute_result"
    }
   ],
   "source": [
    "pp = pd.read_csv(\"population_poverty.csv\")\n",
    "population = pp[['city', 'population', 'poverty']]\n",
    "population['poverty_rate'] = pp['poverty']/pp['population']\n",
    "population['city'] = cities\n",
    "\n",
    "population.head()"
   ]
  },
  {
   "cell_type": "markdown",
   "metadata": {},
   "source": [
    "7. Merge together to get finalized dataframe"
   ]
  },
  {
   "cell_type": "code",
   "execution_count": 30,
   "metadata": {
    "scrolled": true
   },
   "outputs": [
    {
     "data": {
      "text/html": [
       "<div>\n",
       "<style scoped>\n",
       "    .dataframe tbody tr th:only-of-type {\n",
       "        vertical-align: middle;\n",
       "    }\n",
       "\n",
       "    .dataframe tbody tr th {\n",
       "        vertical-align: top;\n",
       "    }\n",
       "\n",
       "    .dataframe thead th {\n",
       "        text-align: right;\n",
       "    }\n",
       "</style>\n",
       "<table border=\"1\" class=\"dataframe\">\n",
       "  <thead>\n",
       "    <tr style=\"text-align: right;\">\n",
       "      <th></th>\n",
       "      <th>city</th>\n",
       "      <th>license_count</th>\n",
       "      <th>crime_count</th>\n",
       "      <th>afternoon_till_eve</th>\n",
       "      <th>population</th>\n",
       "      <th>poverty</th>\n",
       "      <th>poverty_rate</th>\n",
       "    </tr>\n",
       "  </thead>\n",
       "  <tbody>\n",
       "    <tr>\n",
       "      <th>0</th>\n",
       "      <td>SAN DIEGO</td>\n",
       "      <td>769</td>\n",
       "      <td>48990</td>\n",
       "      <td>0</td>\n",
       "      <td>1343744</td>\n",
       "      <td>152819</td>\n",
       "      <td>0.113726</td>\n",
       "    </tr>\n",
       "    <tr>\n",
       "      <th>1</th>\n",
       "      <td>SAN DIEGO</td>\n",
       "      <td>769</td>\n",
       "      <td>106319</td>\n",
       "      <td>1</td>\n",
       "      <td>1343744</td>\n",
       "      <td>152819</td>\n",
       "      <td>0.113726</td>\n",
       "    </tr>\n",
       "    <tr>\n",
       "      <th>2</th>\n",
       "      <td>CHULA VISTA</td>\n",
       "      <td>70</td>\n",
       "      <td>6266</td>\n",
       "      <td>0</td>\n",
       "      <td>274000</td>\n",
       "      <td>24068</td>\n",
       "      <td>0.087839</td>\n",
       "    </tr>\n",
       "    <tr>\n",
       "      <th>3</th>\n",
       "      <td>CHULA VISTA</td>\n",
       "      <td>70</td>\n",
       "      <td>16423</td>\n",
       "      <td>1</td>\n",
       "      <td>274000</td>\n",
       "      <td>24068</td>\n",
       "      <td>0.087839</td>\n",
       "    </tr>\n",
       "    <tr>\n",
       "      <th>4</th>\n",
       "      <td>CARLSBAD</td>\n",
       "      <td>62</td>\n",
       "      <td>1590</td>\n",
       "      <td>0</td>\n",
       "      <td>114204</td>\n",
       "      <td>7858</td>\n",
       "      <td>0.068807</td>\n",
       "    </tr>\n",
       "    <tr>\n",
       "      <th>5</th>\n",
       "      <td>CARLSBAD</td>\n",
       "      <td>62</td>\n",
       "      <td>4117</td>\n",
       "      <td>1</td>\n",
       "      <td>114204</td>\n",
       "      <td>7858</td>\n",
       "      <td>0.068807</td>\n",
       "    </tr>\n",
       "    <tr>\n",
       "      <th>6</th>\n",
       "      <td>OCEANSIDE</td>\n",
       "      <td>61</td>\n",
       "      <td>3546</td>\n",
       "      <td>0</td>\n",
       "      <td>172603</td>\n",
       "      <td>15875</td>\n",
       "      <td>0.091974</td>\n",
       "    </tr>\n",
       "    <tr>\n",
       "      <th>7</th>\n",
       "      <td>OCEANSIDE</td>\n",
       "      <td>61</td>\n",
       "      <td>8498</td>\n",
       "      <td>1</td>\n",
       "      <td>172603</td>\n",
       "      <td>15875</td>\n",
       "      <td>0.091974</td>\n",
       "    </tr>\n",
       "    <tr>\n",
       "      <th>8</th>\n",
       "      <td>ESCONDIDO</td>\n",
       "      <td>55</td>\n",
       "      <td>1805</td>\n",
       "      <td>0</td>\n",
       "      <td>149548</td>\n",
       "      <td>19796</td>\n",
       "      <td>0.132372</td>\n",
       "    </tr>\n",
       "    <tr>\n",
       "      <th>9</th>\n",
       "      <td>ESCONDIDO</td>\n",
       "      <td>55</td>\n",
       "      <td>4375</td>\n",
       "      <td>1</td>\n",
       "      <td>149548</td>\n",
       "      <td>19796</td>\n",
       "      <td>0.132372</td>\n",
       "    </tr>\n",
       "    <tr>\n",
       "      <th>10</th>\n",
       "      <td>EL CAJON</td>\n",
       "      <td>42</td>\n",
       "      <td>1477</td>\n",
       "      <td>0</td>\n",
       "      <td>103824</td>\n",
       "      <td>19586</td>\n",
       "      <td>0.188646</td>\n",
       "    </tr>\n",
       "    <tr>\n",
       "      <th>11</th>\n",
       "      <td>EL CAJON</td>\n",
       "      <td>42</td>\n",
       "      <td>3354</td>\n",
       "      <td>1</td>\n",
       "      <td>103824</td>\n",
       "      <td>19586</td>\n",
       "      <td>0.188646</td>\n",
       "    </tr>\n",
       "    <tr>\n",
       "      <th>12</th>\n",
       "      <td>LA MESA</td>\n",
       "      <td>41</td>\n",
       "      <td>1500</td>\n",
       "      <td>0</td>\n",
       "      <td>60050</td>\n",
       "      <td>7015</td>\n",
       "      <td>0.116819</td>\n",
       "    </tr>\n",
       "    <tr>\n",
       "      <th>13</th>\n",
       "      <td>LA MESA</td>\n",
       "      <td>41</td>\n",
       "      <td>3704</td>\n",
       "      <td>1</td>\n",
       "      <td>60050</td>\n",
       "      <td>7015</td>\n",
       "      <td>0.116819</td>\n",
       "    </tr>\n",
       "    <tr>\n",
       "      <th>14</th>\n",
       "      <td>SAN MARCOS</td>\n",
       "      <td>39</td>\n",
       "      <td>1821</td>\n",
       "      <td>0</td>\n",
       "      <td>92911</td>\n",
       "      <td>9045</td>\n",
       "      <td>0.097351</td>\n",
       "    </tr>\n",
       "    <tr>\n",
       "      <th>15</th>\n",
       "      <td>SAN MARCOS</td>\n",
       "      <td>39</td>\n",
       "      <td>4639</td>\n",
       "      <td>1</td>\n",
       "      <td>92911</td>\n",
       "      <td>9045</td>\n",
       "      <td>0.097351</td>\n",
       "    </tr>\n",
       "    <tr>\n",
       "      <th>16</th>\n",
       "      <td>ENCINITAS</td>\n",
       "      <td>38</td>\n",
       "      <td>1312</td>\n",
       "      <td>0</td>\n",
       "      <td>61540</td>\n",
       "      <td>4355</td>\n",
       "      <td>0.070767</td>\n",
       "    </tr>\n",
       "    <tr>\n",
       "      <th>17</th>\n",
       "      <td>ENCINITAS</td>\n",
       "      <td>38</td>\n",
       "      <td>3255</td>\n",
       "      <td>1</td>\n",
       "      <td>61540</td>\n",
       "      <td>4355</td>\n",
       "      <td>0.070767</td>\n",
       "    </tr>\n",
       "    <tr>\n",
       "      <th>18</th>\n",
       "      <td>CORONADO</td>\n",
       "      <td>31</td>\n",
       "      <td>102</td>\n",
       "      <td>0</td>\n",
       "      <td>15430</td>\n",
       "      <td>900</td>\n",
       "      <td>0.058328</td>\n",
       "    </tr>\n",
       "    <tr>\n",
       "      <th>19</th>\n",
       "      <td>CORONADO</td>\n",
       "      <td>31</td>\n",
       "      <td>321</td>\n",
       "      <td>1</td>\n",
       "      <td>15430</td>\n",
       "      <td>900</td>\n",
       "      <td>0.058328</td>\n",
       "    </tr>\n",
       "    <tr>\n",
       "      <th>20</th>\n",
       "      <td>VISTA</td>\n",
       "      <td>29</td>\n",
       "      <td>2222</td>\n",
       "      <td>0</td>\n",
       "      <td>96791</td>\n",
       "      <td>10634</td>\n",
       "      <td>0.109866</td>\n",
       "    </tr>\n",
       "    <tr>\n",
       "      <th>21</th>\n",
       "      <td>VISTA</td>\n",
       "      <td>29</td>\n",
       "      <td>5787</td>\n",
       "      <td>1</td>\n",
       "      <td>96791</td>\n",
       "      <td>10634</td>\n",
       "      <td>0.109866</td>\n",
       "    </tr>\n",
       "    <tr>\n",
       "      <th>22</th>\n",
       "      <td>SOLANA BEACH</td>\n",
       "      <td>25</td>\n",
       "      <td>259</td>\n",
       "      <td>0</td>\n",
       "      <td>12946</td>\n",
       "      <td>617</td>\n",
       "      <td>0.047660</td>\n",
       "    </tr>\n",
       "    <tr>\n",
       "      <th>23</th>\n",
       "      <td>SOLANA BEACH</td>\n",
       "      <td>25</td>\n",
       "      <td>801</td>\n",
       "      <td>1</td>\n",
       "      <td>12946</td>\n",
       "      <td>617</td>\n",
       "      <td>0.047660</td>\n",
       "    </tr>\n",
       "    <tr>\n",
       "      <th>24</th>\n",
       "      <td>SANTEE</td>\n",
       "      <td>21</td>\n",
       "      <td>1141</td>\n",
       "      <td>0</td>\n",
       "      <td>57816</td>\n",
       "      <td>4879</td>\n",
       "      <td>0.084388</td>\n",
       "    </tr>\n",
       "    <tr>\n",
       "      <th>25</th>\n",
       "      <td>SANTEE</td>\n",
       "      <td>21</td>\n",
       "      <td>3003</td>\n",
       "      <td>1</td>\n",
       "      <td>57816</td>\n",
       "      <td>4879</td>\n",
       "      <td>0.084388</td>\n",
       "    </tr>\n",
       "    <tr>\n",
       "      <th>26</th>\n",
       "      <td>NATIONAL CITY</td>\n",
       "      <td>18</td>\n",
       "      <td>1404</td>\n",
       "      <td>0</td>\n",
       "      <td>55123</td>\n",
       "      <td>7761</td>\n",
       "      <td>0.140794</td>\n",
       "    </tr>\n",
       "    <tr>\n",
       "      <th>27</th>\n",
       "      <td>NATIONAL CITY</td>\n",
       "      <td>18</td>\n",
       "      <td>3365</td>\n",
       "      <td>1</td>\n",
       "      <td>55123</td>\n",
       "      <td>7761</td>\n",
       "      <td>0.140794</td>\n",
       "    </tr>\n",
       "    <tr>\n",
       "      <th>28</th>\n",
       "      <td>POWAY</td>\n",
       "      <td>17</td>\n",
       "      <td>713</td>\n",
       "      <td>0</td>\n",
       "      <td>48247</td>\n",
       "      <td>2860</td>\n",
       "      <td>0.059278</td>\n",
       "    </tr>\n",
       "    <tr>\n",
       "      <th>29</th>\n",
       "      <td>POWAY</td>\n",
       "      <td>17</td>\n",
       "      <td>1936</td>\n",
       "      <td>1</td>\n",
       "      <td>48247</td>\n",
       "      <td>2860</td>\n",
       "      <td>0.059278</td>\n",
       "    </tr>\n",
       "    <tr>\n",
       "      <th>30</th>\n",
       "      <td>DEL MAR</td>\n",
       "      <td>15</td>\n",
       "      <td>161</td>\n",
       "      <td>0</td>\n",
       "      <td>3943</td>\n",
       "      <td>66</td>\n",
       "      <td>0.016739</td>\n",
       "    </tr>\n",
       "    <tr>\n",
       "      <th>31</th>\n",
       "      <td>DEL MAR</td>\n",
       "      <td>15</td>\n",
       "      <td>562</td>\n",
       "      <td>1</td>\n",
       "      <td>3943</td>\n",
       "      <td>66</td>\n",
       "      <td>0.016739</td>\n",
       "    </tr>\n",
       "    <tr>\n",
       "      <th>32</th>\n",
       "      <td>IMPERIAL BEACH</td>\n",
       "      <td>7</td>\n",
       "      <td>785</td>\n",
       "      <td>0</td>\n",
       "      <td>26077</td>\n",
       "      <td>3997</td>\n",
       "      <td>0.153277</td>\n",
       "    </tr>\n",
       "    <tr>\n",
       "      <th>33</th>\n",
       "      <td>IMPERIAL BEACH</td>\n",
       "      <td>7</td>\n",
       "      <td>2015</td>\n",
       "      <td>1</td>\n",
       "      <td>26077</td>\n",
       "      <td>3997</td>\n",
       "      <td>0.153277</td>\n",
       "    </tr>\n",
       "  </tbody>\n",
       "</table>\n",
       "</div>"
      ],
      "text/plain": [
       "              city  license_count  crime_count  afternoon_till_eve  \\\n",
       "0        SAN DIEGO            769        48990                   0   \n",
       "1        SAN DIEGO            769       106319                   1   \n",
       "2      CHULA VISTA             70         6266                   0   \n",
       "3      CHULA VISTA             70        16423                   1   \n",
       "4         CARLSBAD             62         1590                   0   \n",
       "5         CARLSBAD             62         4117                   1   \n",
       "6        OCEANSIDE             61         3546                   0   \n",
       "7        OCEANSIDE             61         8498                   1   \n",
       "8        ESCONDIDO             55         1805                   0   \n",
       "9        ESCONDIDO             55         4375                   1   \n",
       "10        EL CAJON             42         1477                   0   \n",
       "11        EL CAJON             42         3354                   1   \n",
       "12         LA MESA             41         1500                   0   \n",
       "13         LA MESA             41         3704                   1   \n",
       "14      SAN MARCOS             39         1821                   0   \n",
       "15      SAN MARCOS             39         4639                   1   \n",
       "16       ENCINITAS             38         1312                   0   \n",
       "17       ENCINITAS             38         3255                   1   \n",
       "18        CORONADO             31          102                   0   \n",
       "19        CORONADO             31          321                   1   \n",
       "20           VISTA             29         2222                   0   \n",
       "21           VISTA             29         5787                   1   \n",
       "22    SOLANA BEACH             25          259                   0   \n",
       "23    SOLANA BEACH             25          801                   1   \n",
       "24          SANTEE             21         1141                   0   \n",
       "25          SANTEE             21         3003                   1   \n",
       "26   NATIONAL CITY             18         1404                   0   \n",
       "27   NATIONAL CITY             18         3365                   1   \n",
       "28           POWAY             17          713                   0   \n",
       "29           POWAY             17         1936                   1   \n",
       "30         DEL MAR             15          161                   0   \n",
       "31         DEL MAR             15          562                   1   \n",
       "32  IMPERIAL BEACH              7          785                   0   \n",
       "33  IMPERIAL BEACH              7         2015                   1   \n",
       "\n",
       "    population  poverty  poverty_rate  \n",
       "0      1343744   152819      0.113726  \n",
       "1      1343744   152819      0.113726  \n",
       "2       274000    24068      0.087839  \n",
       "3       274000    24068      0.087839  \n",
       "4       114204     7858      0.068807  \n",
       "5       114204     7858      0.068807  \n",
       "6       172603    15875      0.091974  \n",
       "7       172603    15875      0.091974  \n",
       "8       149548    19796      0.132372  \n",
       "9       149548    19796      0.132372  \n",
       "10      103824    19586      0.188646  \n",
       "11      103824    19586      0.188646  \n",
       "12       60050     7015      0.116819  \n",
       "13       60050     7015      0.116819  \n",
       "14       92911     9045      0.097351  \n",
       "15       92911     9045      0.097351  \n",
       "16       61540     4355      0.070767  \n",
       "17       61540     4355      0.070767  \n",
       "18       15430      900      0.058328  \n",
       "19       15430      900      0.058328  \n",
       "20       96791    10634      0.109866  \n",
       "21       96791    10634      0.109866  \n",
       "22       12946      617      0.047660  \n",
       "23       12946      617      0.047660  \n",
       "24       57816     4879      0.084388  \n",
       "25       57816     4879      0.084388  \n",
       "26       55123     7761      0.140794  \n",
       "27       55123     7761      0.140794  \n",
       "28       48247     2860      0.059278  \n",
       "29       48247     2860      0.059278  \n",
       "30        3943       66      0.016739  \n",
       "31        3943       66      0.016739  \n",
       "32       26077     3997      0.153277  \n",
       "33       26077     3997      0.153277  "
      ]
     },
     "execution_count": 30,
     "metadata": {},
     "output_type": "execute_result"
    }
   ],
   "source": [
    "merged_df = pd.merge(merged_df, population, on='city')\n",
    "merged_df"
   ]
  },
  {
   "cell_type": "code",
   "execution_count": 31,
   "metadata": {},
   "outputs": [],
   "source": [
    "merged_df['alcohol_density'] = merged_df['license_count'] / merged_df['population']\n",
    "merged_df['crime_density'] = merged_df['crime_count'] / merged_df['population']"
   ]
  },
  {
   "cell_type": "code",
   "execution_count": 32,
   "metadata": {},
   "outputs": [
    {
     "data": {
      "text/html": [
       "<div>\n",
       "<style scoped>\n",
       "    .dataframe tbody tr th:only-of-type {\n",
       "        vertical-align: middle;\n",
       "    }\n",
       "\n",
       "    .dataframe tbody tr th {\n",
       "        vertical-align: top;\n",
       "    }\n",
       "\n",
       "    .dataframe thead th {\n",
       "        text-align: right;\n",
       "    }\n",
       "</style>\n",
       "<table border=\"1\" class=\"dataframe\">\n",
       "  <thead>\n",
       "    <tr style=\"text-align: right;\">\n",
       "      <th></th>\n",
       "      <th>city</th>\n",
       "      <th>license_count</th>\n",
       "      <th>crime_count</th>\n",
       "      <th>afternoon_till_eve</th>\n",
       "      <th>population</th>\n",
       "      <th>poverty</th>\n",
       "      <th>poverty_rate</th>\n",
       "      <th>alcohol_density</th>\n",
       "      <th>crime_density</th>\n",
       "    </tr>\n",
       "  </thead>\n",
       "  <tbody>\n",
       "    <tr>\n",
       "      <th>0</th>\n",
       "      <td>SAN DIEGO</td>\n",
       "      <td>769</td>\n",
       "      <td>48990</td>\n",
       "      <td>0</td>\n",
       "      <td>1343744</td>\n",
       "      <td>152819</td>\n",
       "      <td>0.113726</td>\n",
       "      <td>0.000572</td>\n",
       "      <td>0.036458</td>\n",
       "    </tr>\n",
       "    <tr>\n",
       "      <th>1</th>\n",
       "      <td>SAN DIEGO</td>\n",
       "      <td>769</td>\n",
       "      <td>106319</td>\n",
       "      <td>1</td>\n",
       "      <td>1343744</td>\n",
       "      <td>152819</td>\n",
       "      <td>0.113726</td>\n",
       "      <td>0.000572</td>\n",
       "      <td>0.079121</td>\n",
       "    </tr>\n",
       "    <tr>\n",
       "      <th>2</th>\n",
       "      <td>CHULA VISTA</td>\n",
       "      <td>70</td>\n",
       "      <td>6266</td>\n",
       "      <td>0</td>\n",
       "      <td>274000</td>\n",
       "      <td>24068</td>\n",
       "      <td>0.087839</td>\n",
       "      <td>0.000255</td>\n",
       "      <td>0.022869</td>\n",
       "    </tr>\n",
       "    <tr>\n",
       "      <th>3</th>\n",
       "      <td>CHULA VISTA</td>\n",
       "      <td>70</td>\n",
       "      <td>16423</td>\n",
       "      <td>1</td>\n",
       "      <td>274000</td>\n",
       "      <td>24068</td>\n",
       "      <td>0.087839</td>\n",
       "      <td>0.000255</td>\n",
       "      <td>0.059938</td>\n",
       "    </tr>\n",
       "    <tr>\n",
       "      <th>4</th>\n",
       "      <td>CARLSBAD</td>\n",
       "      <td>62</td>\n",
       "      <td>1590</td>\n",
       "      <td>0</td>\n",
       "      <td>114204</td>\n",
       "      <td>7858</td>\n",
       "      <td>0.068807</td>\n",
       "      <td>0.000543</td>\n",
       "      <td>0.013922</td>\n",
       "    </tr>\n",
       "  </tbody>\n",
       "</table>\n",
       "</div>"
      ],
      "text/plain": [
       "          city  license_count  crime_count  afternoon_till_eve  population  \\\n",
       "0    SAN DIEGO            769        48990                   0     1343744   \n",
       "1    SAN DIEGO            769       106319                   1     1343744   \n",
       "2  CHULA VISTA             70         6266                   0      274000   \n",
       "3  CHULA VISTA             70        16423                   1      274000   \n",
       "4     CARLSBAD             62         1590                   0      114204   \n",
       "\n",
       "   poverty  poverty_rate  alcohol_density  crime_density  \n",
       "0   152819      0.113726         0.000572       0.036458  \n",
       "1   152819      0.113726         0.000572       0.079121  \n",
       "2    24068      0.087839         0.000255       0.022869  \n",
       "3    24068      0.087839         0.000255       0.059938  \n",
       "4     7858      0.068807         0.000543       0.013922  "
      ]
     },
     "execution_count": 32,
     "metadata": {},
     "output_type": "execute_result"
    }
   ],
   "source": [
    "merged_df.head()"
   ]
  },
  {
   "cell_type": "code",
   "execution_count": 33,
   "metadata": {},
   "outputs": [],
   "source": [
    "merged_df.to_csv('merged_df.csv', index=False)"
   ]
  },
  {
   "cell_type": "code",
   "execution_count": 34,
   "metadata": {},
   "outputs": [
    {
     "name": "stdout",
     "output_type": "stream",
     "text": [
      "<class 'pandas.core.frame.DataFrame'>\n",
      "RangeIndex: 34 entries, 0 to 33\n",
      "Data columns (total 9 columns):\n",
      " #   Column              Non-Null Count  Dtype  \n",
      "---  ------              --------------  -----  \n",
      " 0   city                34 non-null     object \n",
      " 1   license_count       34 non-null     int64  \n",
      " 2   crime_count         34 non-null     int64  \n",
      " 3   afternoon_till_eve  34 non-null     int64  \n",
      " 4   population          34 non-null     int64  \n",
      " 5   poverty             34 non-null     int64  \n",
      " 6   poverty_rate        34 non-null     float64\n",
      " 7   alcohol_density     34 non-null     float64\n",
      " 8   crime_density       34 non-null     float64\n",
      "dtypes: float64(3), int64(5), object(1)\n",
      "memory usage: 2.5+ KB\n"
     ]
    }
   ],
   "source": [
    "merged_df.info()"
   ]
  },
  {
   "cell_type": "markdown",
   "metadata": {},
   "source": [
    "## EDA"
   ]
  },
  {
   "cell_type": "markdown",
   "metadata": {},
   "source": [
    "**Univariate Analysis**\n",
    "\n",
    "In the univariate analysis, we would analyze the distribution of alcohol_density and the distribution of crime_density separately.\n",
    "\n",
    "Firstly, let's check the descriptive statistics of two variables."
   ]
  },
  {
   "cell_type": "code",
   "execution_count": 35,
   "metadata": {},
   "outputs": [
    {
     "data": {
      "text/html": [
       "<div>\n",
       "<style scoped>\n",
       "    .dataframe tbody tr th:only-of-type {\n",
       "        vertical-align: middle;\n",
       "    }\n",
       "\n",
       "    .dataframe tbody tr th {\n",
       "        vertical-align: top;\n",
       "    }\n",
       "\n",
       "    .dataframe thead th {\n",
       "        text-align: right;\n",
       "    }\n",
       "</style>\n",
       "<table border=\"1\" class=\"dataframe\">\n",
       "  <thead>\n",
       "    <tr style=\"text-align: right;\">\n",
       "      <th></th>\n",
       "      <th>license_count</th>\n",
       "      <th>crime_count</th>\n",
       "      <th>afternoon_till_eve</th>\n",
       "      <th>population</th>\n",
       "      <th>poverty</th>\n",
       "      <th>poverty_rate</th>\n",
       "      <th>alcohol_density</th>\n",
       "      <th>crime_density</th>\n",
       "    </tr>\n",
       "  </thead>\n",
       "  <tbody>\n",
       "    <tr>\n",
       "      <th>count</th>\n",
       "      <td>34.000000</td>\n",
       "      <td>34.000000</td>\n",
       "      <td>34.000000</td>\n",
       "      <td>3.400000e+01</td>\n",
       "      <td>34.000000</td>\n",
       "      <td>34.000000</td>\n",
       "      <td>34.000000</td>\n",
       "      <td>34.000000</td>\n",
       "    </tr>\n",
       "    <tr>\n",
       "      <th>mean</th>\n",
       "      <td>78.823529</td>\n",
       "      <td>7281.411765</td>\n",
       "      <td>0.500000</td>\n",
       "      <td>1.581645e+05</td>\n",
       "      <td>17184.176471</td>\n",
       "      <td>0.096390</td>\n",
       "      <td>0.000798</td>\n",
       "      <td>0.039184</td>\n",
       "    </tr>\n",
       "    <tr>\n",
       "      <th>std</th>\n",
       "      <td>176.049661</td>\n",
       "      <td>19443.344690</td>\n",
       "      <td>0.507519</td>\n",
       "      <td>3.081356e+05</td>\n",
       "      <td>35140.066208</td>\n",
       "      <td>0.042005</td>\n",
       "      <td>0.000923</td>\n",
       "      <td>0.026744</td>\n",
       "    </tr>\n",
       "    <tr>\n",
       "      <th>min</th>\n",
       "      <td>7.000000</td>\n",
       "      <td>102.000000</td>\n",
       "      <td>0.000000</td>\n",
       "      <td>3.943000e+03</td>\n",
       "      <td>66.000000</td>\n",
       "      <td>0.016739</td>\n",
       "      <td>0.000255</td>\n",
       "      <td>0.006610</td>\n",
       "    </tr>\n",
       "    <tr>\n",
       "      <th>25%</th>\n",
       "      <td>21.000000</td>\n",
       "      <td>1183.750000</td>\n",
       "      <td>0.000000</td>\n",
       "      <td>4.824700e+04</td>\n",
       "      <td>3997.000000</td>\n",
       "      <td>0.068807</td>\n",
       "      <td>0.000352</td>\n",
       "      <td>0.020609</td>\n",
       "    </tr>\n",
       "    <tr>\n",
       "      <th>50%</th>\n",
       "      <td>38.000000</td>\n",
       "      <td>1975.500000</td>\n",
       "      <td>0.500000</td>\n",
       "      <td>6.154000e+04</td>\n",
       "      <td>7761.000000</td>\n",
       "      <td>0.091974</td>\n",
       "      <td>0.000405</td>\n",
       "      <td>0.031204</td>\n",
       "    </tr>\n",
       "    <tr>\n",
       "      <th>75%</th>\n",
       "      <td>55.000000</td>\n",
       "      <td>4013.750000</td>\n",
       "      <td>1.000000</td>\n",
       "      <td>1.142040e+05</td>\n",
       "      <td>15875.000000</td>\n",
       "      <td>0.116819</td>\n",
       "      <td>0.000617</td>\n",
       "      <td>0.052654</td>\n",
       "    </tr>\n",
       "    <tr>\n",
       "      <th>max</th>\n",
       "      <td>769.000000</td>\n",
       "      <td>106319.000000</td>\n",
       "      <td>1.000000</td>\n",
       "      <td>1.343744e+06</td>\n",
       "      <td>152819.000000</td>\n",
       "      <td>0.188646</td>\n",
       "      <td>0.003804</td>\n",
       "      <td>0.142531</td>\n",
       "    </tr>\n",
       "  </tbody>\n",
       "</table>\n",
       "</div>"
      ],
      "text/plain": [
       "       license_count    crime_count  afternoon_till_eve    population  \\\n",
       "count      34.000000      34.000000           34.000000  3.400000e+01   \n",
       "mean       78.823529    7281.411765            0.500000  1.581645e+05   \n",
       "std       176.049661   19443.344690            0.507519  3.081356e+05   \n",
       "min         7.000000     102.000000            0.000000  3.943000e+03   \n",
       "25%        21.000000    1183.750000            0.000000  4.824700e+04   \n",
       "50%        38.000000    1975.500000            0.500000  6.154000e+04   \n",
       "75%        55.000000    4013.750000            1.000000  1.142040e+05   \n",
       "max       769.000000  106319.000000            1.000000  1.343744e+06   \n",
       "\n",
       "             poverty  poverty_rate  alcohol_density  crime_density  \n",
       "count      34.000000     34.000000        34.000000      34.000000  \n",
       "mean    17184.176471      0.096390         0.000798       0.039184  \n",
       "std     35140.066208      0.042005         0.000923       0.026744  \n",
       "min        66.000000      0.016739         0.000255       0.006610  \n",
       "25%      3997.000000      0.068807         0.000352       0.020609  \n",
       "50%      7761.000000      0.091974         0.000405       0.031204  \n",
       "75%     15875.000000      0.116819         0.000617       0.052654  \n",
       "max    152819.000000      0.188646         0.003804       0.142531  "
      ]
     },
     "execution_count": 35,
     "metadata": {},
     "output_type": "execute_result"
    }
   ],
   "source": [
    "merged_df.describe()"
   ]
  },
  {
   "cell_type": "code",
   "execution_count": 36,
   "metadata": {},
   "outputs": [
    {
     "data": {
      "image/png": "[encoded data removed]",
      "text/plain": [
       "<Figure size 864x288 with 2 Axes>"
      ]
     },
     "metadata": {
      "needs_background": "light"
     },
     "output_type": "display_data"
    }
   ],
   "source": [
    "fig, axs = plt.subplots(1, 2, figsize=(12, 4))\n",
    "\n",
    "merged_df['alcohol_density'].plot(kind='hist', bins=20, ax=axs[0], color='pink', edgecolor='white')\n",
    "axs[0].set_title('Distribution of Alcohol Density per capita')\n",
    "axs[0].set_xlabel('Alcohol Density per capita')\n",
    "\n",
    "merged_df['crime_density'].plot(kind='hist', bins=20, ax=axs[1], color='lightsteelblue', edgecolor='white')\n",
    "axs[1].set_title('Distribution of Crime Density per capita')\n",
    "axs[1].set_xlabel('Crime Density per capita')\n",
    "\n",
    "plt.tight_layout()\n",
    "plt.show()"
   ]
  },
  {
   "cell_type": "code",
   "execution_count": 37,
   "metadata": {},
   "outputs": [],
   "source": [
    "# fig, axs = plt.subplots(1, 2, figsize=(12, 4))\n",
    "\n",
    "# merged_df['alcohol_density'].plot(kind='box', vert = False, ax=axs[0], color='pink')\n",
    "# axs[0].set_title('Boxplot of Alcohol Density')\n",
    "# axs[0].set_xlabel('Alcohol Density per capita')\n",
    "\n",
    "# merged_df['crime_density'].plot(kind='box', vert = False, ax=axs[1], color='lightsteelblue')\n",
    "# axs[1].set_title('Boxplot of Crime Density')\n",
    "# axs[1].set_xlabel('Crime Density per capita')\n",
    "\n",
    "# plt.tight_layout()\n",
    "# plt.show()"
   ]
  },
  {
   "cell_type": "markdown",
   "metadata": {},
   "source": [
    "From plot above, we may notice that alcohol_density is strongly right skewed, and we may need to perform square transformation to it. Also, there are outliers existed in both distributions and need to be removed.\n",
    "\n",
    "* remove outliers"
   ]
  },
  {
   "cell_type": "code",
   "execution_count": 38,
   "metadata": {},
   "outputs": [],
   "source": [
    "# Q1_alcohol = merged_df['alcohol_density'].quantile(0.25)\n",
    "# Q3_alcohol = merged_df['alcohol_density'].quantile(0.75)\n",
    "# IQR_alcohol = Q3_alcohol - Q1_alcohol\n",
    "\n",
    "# lower_bound_alcohol = Q1_alcohol - 1.5 * IQR_alcohol\n",
    "# upper_bound_alcohol = Q3_alcohol + 1.5 * IQR_alcohol\n",
    "\n",
    "# Q1_crime = merged_df['crime_density'].quantile(0.25)\n",
    "# Q3_crime = merged_df['crime_density'].quantile(0.75)\n",
    "# IQR_crime = Q3_crime - Q1_crime\n",
    "\n",
    "# lower_bound_crime = Q1_crime - 1.5 * IQR_crime\n",
    "# upper_bound_crime = Q3_crime + 1.5 * IQR_crime\n",
    "\n",
    "# merged_df = merged_df[\n",
    "#     (merged_df['alcohol_density'] >= lower_bound_alcohol) &\n",
    "#     (merged_df['alcohol_density'] <= upper_bound_alcohol) &\n",
    "#     (merged_df['crime_density'] >= lower_bound_crime) &\n",
    "#     (merged_df['crime_density'] <= upper_bound_crime)\n",
    "# ]"
   ]
  },
  {
   "cell_type": "markdown",
   "metadata": {},
   "source": [
    "* apply log transformation"
   ]
  },
  {
   "cell_type": "code",
   "execution_count": 39,
   "metadata": {},
   "outputs": [],
   "source": [
    "merged_df['log_alcohol_density'] = merged_df['alcohol_density'].apply(np.log)"
   ]
  },
  {
   "cell_type": "markdown",
   "metadata": {},
   "source": [
    "After transformed, the distribution is relatively normal distributed."
   ]
  },
  {
   "cell_type": "code",
   "execution_count": 40,
   "metadata": {},
   "outputs": [
    {
     "data": {
      "image/png": "[encoded data removed]",
      "text/plain": [
       "<Figure size 864x288 with 2 Axes>"
      ]
     },
     "metadata": {
      "needs_background": "light"
     },
     "output_type": "display_data"
    }
   ],
   "source": [
    "fig, axs = plt.subplots(1, 2, figsize=(12, 4))\n",
    "\n",
    "merged_df['log_alcohol_density'].plot(kind='hist', bins=20, ax=axs[0], color='pink', edgecolor='white')\n",
    "axs[0].set_title('Distribution of Log Alcohol Density per capita')\n",
    "\n",
    "merged_df['crime_density'].plot(kind='hist', bins=20, ax=axs[1], color='lightsteelblue', edgecolor='white')\n",
    "axs[1].set_title('Distribution of Crime Density per capita')\n",
    "\n",
    "plt.tight_layout()\n",
    "plt.show()"
   ]
  },
  {
   "cell_type": "code",
   "execution_count": 41,
   "metadata": {},
   "outputs": [
    {
     "data": {
      "image/png": "[encoded data removed]",
      "text/plain": [
       "<Figure size 864x288 with 2 Axes>"
      ]
     },
     "metadata": {
      "needs_background": "light"
     },
     "output_type": "display_data"
    }
   ],
   "source": [
    "fig, axs = plt.subplots(1, 2, figsize=(12, 4))\n",
    "\n",
    "merged_df['log_alcohol_density'].plot(kind='box', vert = False, ax=axs[0], color='pink')\n",
    "axs[0].set_title('Boxplot of Log Alcohol Density')\n",
    "\n",
    "merged_df['crime_density'].plot(kind='box', vert = False, ax=axs[1], color='lightsteelblue')\n",
    "axs[1].set_title('Boxplot of Crime Density')\n",
    "\n",
    "plt.tight_layout()\n",
    "plt.show()"
   ]
  },
  {
   "cell_type": "markdown",
   "metadata": {},
   "source": [
    "**Bivariate Analysis**\n",
    "\n",
    "explore relationship between alcohol_density and crime_density"
   ]
  },
  {
   "cell_type": "code",
   "execution_count": 42,
   "metadata": {},
   "outputs": [
    {
     "data": {
      "text/plain": [
       "<seaborn.axisgrid.PairGrid at 0x7f743cac3880>"
      ]
     },
     "execution_count": 42,
     "metadata": {},
     "output_type": "execute_result"
    },
    {
     "data": {
      "image/png": "[encoded data removed]",
      "text/plain": [
       "<Figure size 720.475x504 with 6 Axes>"
      ]
     },
     "metadata": {},
     "output_type": "display_data"
    }
   ],
   "source": [
    "sns.set(style=\"white\")\n",
    "sns.pairplot(merged_df[['log_alcohol_density', 'crime_density', 'afternoon_till_eve']], hue = 'afternoon_till_eve', kind = 'scatter', height=3.5, aspect=1.2)"
   ]
  },
  {
   "cell_type": "code",
   "execution_count": 43,
   "metadata": {
    "colab": {
     "base_uri": "https://localhost:8080/",
     "height": 564
    },
    "id": "5OAgyVSICo_7",
    "outputId": "01d26ab5-78cd-4423-c424-58d40dc2bf67"
   },
   "outputs": [
    {
     "data": {
      "image/png": "[encoded data removed]",
      "text/plain": [
       "<Figure size 432x288 with 1 Axes>"
      ]
     },
     "metadata": {},
     "output_type": "display_data"
    }
   ],
   "source": [
    "sns.scatterplot(data=merged_df, x='log_alcohol_density', y='crime_density', hue='afternoon_till_eve')\n",
    "\n",
    "plt.xlabel('Log License density per capita')\n",
    "plt.ylabel('Crime density per capita')\n",
    "plt.title('Scatterplot of Log License density vs Crime density')\n",
    "plt.grid(True)\n",
    "plt.legend(loc='upper right')\n",
    "plt.show()"
   ]
  },
  {
   "cell_type": "code",
   "execution_count": null,
   "metadata": {},
   "outputs": [],
   "source": []
  },
  {
   "cell_type": "code",
   "execution_count": null,
   "metadata": {},
   "outputs": [],
   "source": []
  },
  {
   "cell_type": "markdown",
   "metadata": {},
   "source": [
    "## Inferential Analysis: OLS\n",
    "\n",
    "Even though the relationship is not apparent in scatterplot visualization, it is necessary to assess the results of a linear regression to determine whether there is a statistically significant relationship between log alcohol density and crime desntiy per capita."
   ]
  },
  {
   "cell_type": "markdown",
   "metadata": {},
   "source": [
    "### model"
   ]
  },
  {
   "cell_type": "code",
   "execution_count": 44,
   "metadata": {
    "scrolled": false
   },
   "outputs": [
    {
     "name": "stdout",
     "output_type": "stream",
     "text": [
      "                            OLS Regression Results                            \n",
      "==============================================================================\n",
      "Dep. Variable:          crime_density   R-squared:                       0.126\n",
      "Model:                            OLS   Adj. R-squared:                  0.069\n",
      "Method:                 Least Squares   F-statistic:                     2.229\n",
      "Date:                Fri, 31 May 2024   Prob (F-statistic):              0.125\n",
      "Time:                        22:14:33   Log-Likelihood:                 77.677\n",
      "No. Observations:                  34   AIC:                            -149.4\n",
      "Df Residuals:                      31   BIC:                            -144.8\n",
      "Df Model:                           2                                         \n",
      "Covariance Type:            nonrobust                                         \n",
      "===================================================================================\n",
      "                      coef    std err          t      P>|t|      [0.025      0.975]\n",
      "-----------------------------------------------------------------------------------\n",
      "Intercept           0.0233      0.018      1.300      0.203      -0.013       0.060\n",
      "alcohol_density    11.9684      6.413      1.866      0.071      -1.111      25.048\n",
      "poverty_rate        0.0658      0.141      0.467      0.644      -0.222       0.353\n",
      "==============================================================================\n",
      "Omnibus:                        4.726   Durbin-Watson:                   2.657\n",
      "Prob(Omnibus):                  0.094   Jarque-Bera (JB):                3.401\n",
      "Skew:                           0.742   Prob(JB):                        0.183\n",
      "Kurtosis:                       3.442   Cond. No.                     1.46e+03\n",
      "==============================================================================\n",
      "\n",
      "Notes:\n",
      "[1] Standard Errors assume that the covariance matrix of the errors is correctly specified.\n",
      "[2] The condition number is large, 1.46e+03. This might indicate that there are\n",
      "strong multicollinearity or other numerical problems.\n"
     ]
    }
   ],
   "source": [
    "full_model = smf.ols('crime_density ~ alcohol_density + poverty_rate', data=merged_df).fit()\n",
    "print(full_model.summary())"
   ]
  },
  {
   "cell_type": "code",
   "execution_count": 45,
   "metadata": {},
   "outputs": [
    {
     "name": "stdout",
     "output_type": "stream",
     "text": [
      "           feature        VIF\n",
      "0            const  16.396360\n",
      "1  alcohol_density   1.737795\n",
      "2     poverty_rate   1.737795\n"
     ]
    }
   ],
   "source": [
    "X = merged_df[['alcohol_density', 'poverty_rate']]\n",
    "\n",
    "# Add a constant term for the intercept\n",
    "X = sm.add_constant(X)\n",
    "\n",
    "# Calculate VIF for each explanatory variable\n",
    "vif_data = pd.DataFrame()\n",
    "vif_data[\"feature\"] = X.columns\n",
    "vif_data[\"VIF\"] = [variance_inflation_factor(X.values, i) for i in range(X.shape[1])]\n",
    "\n",
    "# Display the VIF values\n",
    "print(vif_data)"
   ]
  },
  {
   "cell_type": "code",
   "execution_count": 46,
   "metadata": {},
   "outputs": [
    {
     "name": "stdout",
     "output_type": "stream",
     "text": [
      "                 alcohol_density  poverty_rate\n",
      "alcohol_density         1.000000     -0.651581\n",
      "poverty_rate           -0.651581      1.000000\n"
     ]
    }
   ],
   "source": [
    "correlation_matrix = merged_df[['alcohol_density', 'poverty_rate']].corr()\n",
    "print(correlation_matrix)"
   ]
  },
  {
   "cell_type": "markdown",
   "metadata": {},
   "source": [
    "Explanation:\n",
    "\n",
    "\n",
    "1. When `log_alcohol_density` is zero and `afternoon_till_eve` is 0 (indicating not in the afternoon till evening period), the expected value of crime_density is 0.0901. This is the baseline level of crime_density.\n",
    "\n",
    "2. For each unit increase in `log_alcohol_density`, `crime_density` is expected to increase by 0.0091, holding `afternoon_till_eve` constant. This indicates a positive relationship between alcohol density and crime density, although the relationship is only marginally significant.\n",
    "\n",
    "3. When `afternoon_till_eve` changes from 0 to 1 (indicating the period transit from morning to afternoon till evening), `crime_density` is expected to increase by 0.0346, holding `log_alcohol_density` constant. This suggests that crime density is significantly higher during the afternoon till evening period compared to other times.\n",
    "\n",
    "4. R-squared: 0.498: This indicates that approximately 50% of the variability in crime_density can be explained by the model."
   ]
  },
  {
   "cell_type": "markdown",
   "metadata": {},
   "source": [
    "### Diagnostics: check OLS assumptions"
   ]
  },
  {
   "cell_type": "markdown",
   "metadata": {},
   "source": [
    "1. Linearity\n",
    "\n",
    "Since residual plot show random scattering around zero for different values of the independent variable, thus the linearity assumption holds."
   ]
  },
  {
   "cell_type": "code",
   "execution_count": 47,
   "metadata": {},
   "outputs": [
    {
     "data": {
      "image/png": "[encoded data removed]",
      "text/plain": [
       "<Figure size 432x288 with 1 Axes>"
      ]
     },
     "metadata": {},
     "output_type": "display_data"
    }
   ],
   "source": [
    "merged_df['residuals'] = full_model.resid\n",
    "\n",
    "sns.scatterplot(data=merged_df, x='log_alcohol_density', y='residuals')\n",
    "plt.title('Residuals vs Log Alcohol Density')\n",
    "plt.xlabel('Log Alcohol Density')\n",
    "plt.ylabel('Residuals')\n",
    "plt.axhline(y=0, color='r', linestyle='--') \n",
    "plt.show()"
   ]
  },
  {
   "cell_type": "markdown",
   "metadata": {},
   "source": [
    "2. **Normality** <br>\n",
    "\n",
    "This Q-Q plot with points closely following the diagonal line indicates that the data is likely normally distributed."
   ]
  },
  {
   "cell_type": "code",
   "execution_count": 48,
   "metadata": {},
   "outputs": [
    {
     "data": {
      "image/png": "[encoded data removed]",
      "text/plain": [
       "<Figure size 432x288 with 1 Axes>"
      ]
     },
     "metadata": {},
     "output_type": "display_data"
    }
   ],
   "source": [
    "residuals = standardize(full_model.resid)\n",
    "sm.qqplot(residuals, line='45', fit=True)\n",
    "plt.title('Q-Q Plot of Residuals')\n",
    "plt.show()"
   ]
  },
  {
   "cell_type": "markdown",
   "metadata": {},
   "source": [
    "3. **Heteroscedasticity** <br>\n",
    "\n",
    "Heteroscedasticity occurs when the variance of the errors in a regression model is not constant across observations. The identical assumption on the $\\epsilon_i$ requires that the errors have constant variance. This can be checked by plotting the residuals against the predicted values of $y$. The residual plot does not show strong pattern, indicating homoscedasticity (constant variance of errors), and therefore the assumption holds."
   ]
  },
  {
   "cell_type": "code",
   "execution_count": 49,
   "metadata": {},
   "outputs": [
    {
     "data": {
      "image/png": "[encoded data removed]",
      "text/plain": [
       "<Figure size 432x288 with 1 Axes>"
      ]
     },
     "metadata": {},
     "output_type": "display_data"
    }
   ],
   "source": [
    "fitted_values = full_model.fittedvalues\n",
    "\n",
    "sns.residplot(x=fitted_values, y=residuals)\n",
    "plt.xlabel('Fitted Values')\n",
    "plt.ylabel('Standardize Residuals')\n",
    "plt.title('Standardize Residuals vs. Fitted Values')\n",
    "plt.show()"
   ]
  },
  {
   "cell_type": "markdown",
   "metadata": {},
   "source": [
    "4. **Independence** <br>\n",
    "The assumption of independence, which means that the residuals (errors) are independent of each other, appears to be violated. The Durbin-Watson statistic of 1.426 suggests some autocorrelation in the residuals, indicating that the independence assumption may not be fully satisfied. Ideally, the Durbin-Watson value should be close to 2 to indicate no autocorrelation.\n",
    "\n",
    "The independence assumption on the $\\epsilon_i$ requires that the errors are all independent. This can be checked by plotting the ACF functions for the residuals. We can see  one significant spike outside the confidence bands, this indicates autocorrelation and hence a potential **violation** of the independence assumption."
   ]
  },
  {
   "cell_type": "code",
   "execution_count": 50,
   "metadata": {},
   "outputs": [
    {
     "data": {
      "image/png": "[encoded data removed]",
      "text/plain": [
       "<Figure size 432x288 with 1 Axes>"
      ]
     },
     "metadata": {},
     "output_type": "display_data"
    }
   ],
   "source": [
    "plot_acf(residuals)\n",
    "plt.title('ACF of Model Residuals')\n",
    "plt.show()"
   ]
  },
  {
   "cell_type": "markdown",
   "metadata": {},
   "source": [
    "### Hypothesis Test"
   ]
  },
  {
   "cell_type": "markdown",
   "metadata": {},
   "source": [
    "We apply a **permutation test** to explore the statistical significant relationship between the criminal event happening time and crime density across different cities in San Diego.\n",
    "\n",
    "For this analysis, we will categorize crime based on the criminal activity time. We define a crime as \"afternoon_till_eve\" crime if it happened during the time at afternoon through evening. We will utilize a permutation test to assess the differences in average crime density between \"afternoon_till_eve\" crime and non-\"afternoon_till_eve\" crime events.\n",
    "\n",
    "**Null Hypothesis (H0)**:\n",
    "Every city has an identical crime density, regardless of the criminal event happening time.\n",
    "\n",
    "**Alternative Hypothesis (H1)**:\n",
    "Areas characterized by \"afternoon_till_eve\" are anticipated to have a higher crime density. This expectation is grounded in the hypothesis that criminal activities are more likely to occur during the afternoon and evening hours due to increased human activity and social interactions during these times, leading to more opportunities for crimes to be committed.\n",
    "\n",
    "**Test statistic**: Difference in average crime density.\n",
    "\n",
    "**Significant level**: 0.05\n",
    "\n",
    "We opt for a **one-sided test** because it is consistent with our assumption that crime density is higher during the afternoon to evening period."
   ]
  },
  {
   "cell_type": "code",
   "execution_count": 51,
   "metadata": {},
   "outputs": [
    {
     "name": "stdout",
     "output_type": "stream",
     "text": [
      "Observed difference in means: 0.03525338754648201\n",
      "One-tailed p-value: 0.0\n",
      "Decision: We reject the null hypothesis.\n"
     ]
    }
   ],
   "source": [
    "hypo_df = merged_df.copy()\n",
    "\n",
    "def calculate_diff_in_means(data, group_col, value_col):\n",
    "    group1 = data[data[group_col] == 1][value_col]\n",
    "    group2 = data[data[group_col] == 0][value_col]\n",
    "    return group1.mean() - group2.mean()\n",
    "\n",
    "observed_diff = calculate_diff_in_means(hypo_df, 'afternoon_till_eve', 'crime_density')\n",
    "\n",
    "num_permutations = 10000\n",
    "perm_diffs = np.zeros(num_permutations)\n",
    "\n",
    "for i in range(num_permutations):\n",
    "    # shuffle the 'afternoon_till_eve' labels\n",
    "    shuffled_labels = np.random.permutation(hypo_df['afternoon_till_eve'])\n",
    "    shuffled_data = hypo_df.copy()\n",
    "    shuffled_data['shuffled_labels'] = shuffled_labels\n",
    "    \n",
    "    perm_diffs[i] = calculate_diff_in_means(shuffled_data, 'shuffled_labels', 'crime_density')\n",
    "\n",
    "p_value = np.mean(perm_diffs >= observed_diff)\n",
    "print(f'Observed difference in means: {observed_diff}')\n",
    "print(f'One-tailed p-value: {p_value}')\n",
    "\n",
    "alpha = 0.05 \n",
    "if p_value < alpha:\n",
    "    decision = \"reject the null hypothesis\"\n",
    "else:\n",
    "    decision = \"fail to reject the null hypothesis\"\n",
    "print(f'Decision: We {decision}.')"
   ]
  },
  {
   "cell_type": "code",
   "execution_count": 52,
   "metadata": {},
   "outputs": [
    {
     "data": {
      "image/png": "[encoded data removed]",
      "text/plain": [
       "<Figure size 432x288 with 1 Axes>"
      ]
     },
     "metadata": {},
     "output_type": "display_data"
    }
   ],
   "source": [
    "plt.hist(perm_diffs, bins=30, alpha=0.7, color='blue', edgecolor='black')\n",
    "plt.axvline(observed_diff, color='red', linestyle='dashed', linewidth=2)\n",
    "plt.xlabel('Difference in Means')\n",
    "plt.ylabel('Frequency')\n",
    "plt.title('Permutation Test: Difference in Crime Density Means')\n",
    "plt.show()"
   ]
  },
  {
   "cell_type": "code",
   "execution_count": null,
   "metadata": {},
   "outputs": [],
   "source": []
  },
  {
   "cell_type": "code",
   "execution_count": null,
   "metadata": {},
   "outputs": [],
   "source": []
  },
  {
   "cell_type": "code",
   "execution_count": null,
   "metadata": {},
   "outputs": [],
   "source": []
  },
  {
   "cell_type": "code",
   "execution_count": 53,
   "metadata": {},
   "outputs": [
    {
     "name": "stderr",
     "output_type": "stream",
     "text": [
      "/tmp/ipykernel_1843/778073358.py:9: SettingWithCopyWarning: \n",
      "A value is trying to be set on a copy of a slice from a DataFrame.\n",
      "Try using .loc[row_indexer,col_indexer] = value instead\n",
      "\n",
      "See the caveats in the documentation: https://pandas.pydata.org/pandas-docs/stable/user_guide/indexing.html#returning-a-view-versus-a-copy\n",
      "  filtered_crime['zipcode'] = filtered_crime['zipcode'].astype(int)\n",
      "/tmp/ipykernel_1843/778073358.py:10: SettingWithCopyWarning: \n",
      "A value is trying to be set on a copy of a slice from a DataFrame.\n",
      "Try using .loc[row_indexer,col_indexer] = value instead\n",
      "\n",
      "See the caveats in the documentation: https://pandas.pydata.org/pandas-docs/stable/user_guide/indexing.html#returning-a-view-versus-a-copy\n",
      "  filtered_alcohol['Prem Zip'] = filtered_alcohol['Prem Zip'].astype(int)\n"
     ]
    },
    {
     "data": {
      "text/html": [
       "<div>\n",
       "<style scoped>\n",
       "    .dataframe tbody tr th:only-of-type {\n",
       "        vertical-align: middle;\n",
       "    }\n",
       "\n",
       "    .dataframe tbody tr th {\n",
       "        vertical-align: top;\n",
       "    }\n",
       "\n",
       "    .dataframe thead th {\n",
       "        text-align: right;\n",
       "    }\n",
       "</style>\n",
       "<table border=\"1\" class=\"dataframe\">\n",
       "  <thead>\n",
       "    <tr style=\"text-align: right;\">\n",
       "      <th></th>\n",
       "      <th>zipcode</th>\n",
       "      <th>city</th>\n",
       "    </tr>\n",
       "  </thead>\n",
       "  <tbody>\n",
       "    <tr>\n",
       "      <th>0</th>\n",
       "      <td>91950</td>\n",
       "      <td>NATIONAL CITY</td>\n",
       "    </tr>\n",
       "    <tr>\n",
       "      <th>1</th>\n",
       "      <td>92109</td>\n",
       "      <td>SAN DIEGO</td>\n",
       "    </tr>\n",
       "    <tr>\n",
       "      <th>2</th>\n",
       "      <td>92115</td>\n",
       "      <td>SAN DIEGO</td>\n",
       "    </tr>\n",
       "    <tr>\n",
       "      <th>5</th>\n",
       "      <td>92126</td>\n",
       "      <td>SAN DIEGO</td>\n",
       "    </tr>\n",
       "    <tr>\n",
       "      <th>6</th>\n",
       "      <td>92037</td>\n",
       "      <td>SAN DIEGO</td>\n",
       "    </tr>\n",
       "    <tr>\n",
       "      <th>...</th>\n",
       "      <td>...</td>\n",
       "      <td>...</td>\n",
       "    </tr>\n",
       "    <tr>\n",
       "      <th>301587</th>\n",
       "      <td>92102</td>\n",
       "      <td>CHULA VISTA</td>\n",
       "    </tr>\n",
       "    <tr>\n",
       "      <th>305473</th>\n",
       "      <td>92023</td>\n",
       "      <td>CARLSBAD</td>\n",
       "    </tr>\n",
       "    <tr>\n",
       "      <th>68</th>\n",
       "      <td>92011</td>\n",
       "      <td>CARLSBAD</td>\n",
       "    </tr>\n",
       "    <tr>\n",
       "      <th>436</th>\n",
       "      <td>92081</td>\n",
       "      <td>VISTA</td>\n",
       "    </tr>\n",
       "    <tr>\n",
       "      <th>1068</th>\n",
       "      <td>92010</td>\n",
       "      <td>CARLSBAD</td>\n",
       "    </tr>\n",
       "  </tbody>\n",
       "</table>\n",
       "<p>152 rows × 2 columns</p>\n",
       "</div>"
      ],
      "text/plain": [
       "        zipcode           city\n",
       "0         91950  NATIONAL CITY\n",
       "1         92109      SAN DIEGO\n",
       "2         92115      SAN DIEGO\n",
       "5         92126      SAN DIEGO\n",
       "6         92037      SAN DIEGO\n",
       "...         ...            ...\n",
       "301587    92102    CHULA VISTA\n",
       "305473    92023       CARLSBAD\n",
       "68        92011       CARLSBAD\n",
       "436       92081          VISTA\n",
       "1068      92010       CARLSBAD\n",
       "\n",
       "[152 rows x 2 columns]"
      ]
     },
     "execution_count": 53,
     "metadata": {},
     "output_type": "execute_result"
    }
   ],
   "source": [
    "# Step 1: Extract the list of cities from merged_data\n",
    "cities = merged_df['city'].unique()\n",
    "\n",
    "# Step 2: Filter sub_crime and sub_alcohol to include only rows where the city is in the list of cities from merged_data\n",
    "filtered_crime = sub_crime[sub_crime['city'].isin(cities)]\n",
    "filtered_alcohol = sub_alcohol[sub_alcohol['Prem City'].isin(cities)]\n",
    "\n",
    "# Step 3: Convert zip codes to integers\n",
    "filtered_crime['zipcode'] = filtered_crime['zipcode'].astype(int)\n",
    "filtered_alcohol['Prem Zip'] = filtered_alcohol['Prem Zip'].astype(int)\n",
    "\n",
    "# Step 4: Extract unique zip codes and their corresponding cities from the filtered dataframes\n",
    "unique_crime_zipcodes = filtered_crime[['zipcode', 'city']].drop_duplicates()\n",
    "unique_alcohol_zipcodes = filtered_alcohol[['Prem Zip', 'Prem City']].drop_duplicates()\n",
    "\n",
    "# Step 5: Rename columns to have consistent names for merging\n",
    "unique_alcohol_zipcodes = unique_alcohol_zipcodes.rename(columns={'Prem Zip': 'zipcode', 'Prem City': 'city'})\n",
    "\n",
    "# Step 6: Combine the unique zip codes and their corresponding cities, and remove duplicates\n",
    "all_unique_zipcodes = pd.concat([unique_crime_zipcodes, unique_alcohol_zipcodes]).drop_duplicates()\n",
    "\n",
    "\n",
    "all_unique_zipcodes"
   ]
  },
  {
   "cell_type": "code",
   "execution_count": null,
   "metadata": {},
   "outputs": [],
   "source": []
  }
 ],
 "metadata": {
  "colab": {
   "provenance": []
  },
  "kernelspec": {
   "display_name": "Python 3 (ipykernel)",
   "language": "python",
   "name": "python3"
  },
  "language_info": {
   "codemirror_mode": {
    "name": "ipython",
    "version": 3
   },
   "file_extension": ".py",
   "mimetype": "text/x-python",
   "name": "python",
   "nbconvert_exporter": "python",
   "pygments_lexer": "ipython3",
   "version": "3.9.5"
  }
 },
 "nbformat": 4,
 "nbformat_minor": 1
}
